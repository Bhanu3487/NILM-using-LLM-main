{
 "cells": [
  {
   "cell_type": "code",
   "execution_count": null,
   "metadata": {},
   "outputs": [],
   "source": [
    "from groq import Groq\n",
    "import json\n",
    "import pandas as pd    \n",
    "from sklearn.metrics import mean_squared_error, mean_absolute_error, r2_score\n",
    "from math import sqrt\n",
    "import tqdm\n",
    "import os\n",
    "import numpy as np\n",
    "import json\n",
    "import concurrent.futures\n",
    "import numpy as np\n",
    "from tqdm import tqdm\n",
    "import re\n",
    "import numpy as np\n",
    "import matplotlib.pyplot as plt\n",
    "from sklearn.metrics import mean_squared_error\n"
   ]
  },
  {
   "cell_type": "code",
   "execution_count": null,
   "metadata": {},
   "outputs": [],
   "source": [
    "client = Groq(api_key=\"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\") \n",
    "api_keys=[\"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\", \"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\", \"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\", \"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\"] #get multiple API keys with different Email addresses, you will run into rate limits a lot so either slow down the requests or let lots of api keys handle the job\n",
    "api_keyover=0"
   ]
  },
  {
   "cell_type": "code",
   "execution_count": null,
   "metadata": {},
   "outputs": [],
   "source": [
    "from nilmtk.dataset import DataSet\n",
    "\n",
    "redd = DataSet('redd.h5')\n",
    "\n",
    "building = redd.buildings[1]\n",
    "\n",
    "main_meter = building.elec.mains()\n",
    "\n",
    "fridge_meter = building.elec['fridge']\n",
    "\n",
    "main_df = main_meter.power_series_all_data().to_frame(name='total_power')\n",
    "fridge_df = fridge_meter.power_series_all_data().to_frame(name='fridge_power')\n",
    "\n",
    "df = pd.concat([main_df, fridge_df], axis=1)\n",
    "df = df.dropna()\n",
    "df.reset_index(inplace=True)\n",
    "df.columns = ['timestamp', 'total_power', 'fridge_power']"
   ]
  },
  {
   "cell_type": "code",
   "execution_count": null,
   "metadata": {},
   "outputs": [],
   "source": [
    "df"
   ]
  },
  {
   "cell_type": "code",
   "execution_count": null,
   "metadata": {},
   "outputs": [],
   "source": [
    "fridge = df['fridge_power'][13632:34905].to_numpy()\n",
    "time = [i for i in range(13632, 34905)]\n",
    "\n",
    "time = np.array(time)\n",
    "plt.plot(time, fridge)\n"
   ]
  },
  {
   "cell_type": "code",
   "execution_count": null,
   "metadata": {},
   "outputs": [],
   "source": [
    "\n",
    "subset_df = df[13632:34905].reset_index(drop=True)\n",
    "\n",
    "series = pd.Series(subset_df['timestamp'])\n",
    "\n",
    "# Function to extract HH:MM\n",
    "def extract_time(datetime_str):\n",
    "    return pd.to_datetime(datetime_str).strftime('%H:%M')\n",
    "\n",
    "# Apply the function to the Series\n",
    "time_series = series.apply(extract_time)\n",
    "\n",
    "subset_df['timestamp'] = time_series\n",
    "result_df = subset_df.groupby('timestamp', as_index=False).mean()\n",
    "\n",
    "fridge = result_df['fridge_power'].to_numpy()\n",
    "time = [i for i in range(0, 1346)]\n",
    "\n",
    "time = np.array(time)\n",
    "plt.plot(time, fridge)"
   ]
  },
  {
   "cell_type": "code",
   "execution_count": null,
   "metadata": {},
   "outputs": [],
   "source": [
    "combinationstorun=[[0,15]]\n",
    "model = 'llama3-70b-8192'"
   ]
  },
  {
   "cell_type": "markdown",
   "metadata": {},
   "source": [
    "### Zeroshots"
   ]
  },
  {
   "cell_type": "code",
   "execution_count": null,
   "metadata": {},
   "outputs": [],
   "source": [
    "i = 0\n",
    "# Mock function to simulate API calls\n",
    "def promptgroq(csv, start_idx, chunksize, model, num_samples):\n",
    "    answers = {'timestamps': [], 'predictions': []}\n",
    "    attempts = 40\n",
    "    predictions = []\n",
    "    global api_keyover, client, i\n",
    "\n",
    "    def get_prediction(run, csv=csv, start_idx=start_idx, chunksize=chunksize, model=model):\n",
    "        global i, api_keyover, client\n",
    "        while i < attempts:\n",
    "            try:\n",
    "                completion = client.chat.completions.create(\n",
    "                    model='llama3-8b-8192',\n",
    "                    messages=[\n",
    "                        {\n",
    "                            \"role\": \"system\",\n",
    "                            \"content\": \"\"\"You are a helpful assistant that performs time series predictions for NILM (Non-Intrusive Load Monitoring). The user will provide an aggregate data sequence of power consumption with timestamps for a day, and you will predict the power consumption of the fridge corresponding to each timestamp in the data. The sequence is represented by decimal strings separated by commas for power values and ISO 8601 format for timestamps.\n",
    "                                            DO NOT CHANGE THE TIMESTAMPS KEEP THEM SAME AS IN THE DATA.\n",
    "                                            Keep in mind the other appliances.\n",
    "                                            Appliance Information:\n",
    "                                            Low power consuming appliances - Lighting, Electronics, Fridge\n",
    "                                            Moderate power consuming appliances - Bathroom GFI, Dishwasher, Microwave, Kitchen Outlets\n",
    "                                            High power consuming appliances - Washer Dryer   \n",
    "                                        \"\"\"\n",
    "                        },\n",
    "                        {\n",
    "                            \"role\": \"user\",\n",
    "                            \"content\": f\"\"\"Predict the fridge power consumption for the given time series data for the next {chunksize} timestamps. Each timestamp in the input should have a corresponding output. Return your reply in the following format:\n",
    "                                            [timestamp 0, prediction 0, timestamp 1, prediction 1, ..., timestamp {chunksize - 1}, prediction {chunksize - 1}] - the total length should be exactly {chunksize * 2}, starting from timestamp {start_idx} until the timestamp {start_idx + chunksize - 1}. Do not include any additional text or explanations.\n",
    "                                            \n",
    "                                            ### Time Series Data\n",
    "                                            {csv}\n",
    "                                            \"\"\"\n",
    "                        }\n",
    "                    ],\n",
    "                    temperature=1,\n",
    "                    top_p=1,\n",
    "                    stream=False,\n",
    "                    stop=None,\n",
    "                )\n",
    "            except Exception as e:\n",
    "                print('API key limit reached', e)\n",
    "                api_keyover += 1\n",
    "                client = Groq(api_key=api_keys[api_keyover % 4])\n",
    "                continue\n",
    "\n",
    "            try:\n",
    "                answer = completion.choices[0].message.content.strip()\n",
    "                predictions_list = [item.strip() for item in answer.split(',') if item.strip()]\n",
    "\n",
    "                pred_timestamps = predictions_list[::2]\n",
    "                pred_values_str = predictions_list[1::2]\n",
    "\n",
    "                pred_values_cleaned = []\n",
    "                for value in pred_values_str:\n",
    "                    try:\n",
    "                        pred_values_cleaned.append(float(value))\n",
    "                    except ValueError:\n",
    "                        float_part = ''.join([char for char in value if char.isdigit() or char == '.' or char == '-'])\n",
    "                        pred_values_cleaned.append(float(float_part))\n",
    "\n",
    "                pred_df = pd.DataFrame({\n",
    "                    'timestamp': [ts.strip() for ts in pred_timestamps],\n",
    "                    'predicted_fridge_power': pred_values_cleaned\n",
    "                })\n",
    "\n",
    "                if len(pred_timestamps) == chunksize:\n",
    "                    return pred_df\n",
    "                else:\n",
    "                    i += 1\n",
    "            except Exception as e:\n",
    "                i += 1\n",
    "                continue\n",
    "\n",
    "        return None\n",
    "\n",
    "    with concurrent.futures.ThreadPoolExecutor() as executor:\n",
    "        future_to_run = {executor.submit(get_prediction, run): run for run in range(num_samples)}\n",
    "        for future in tqdm(concurrent.futures.as_completed(future_to_run)):\n",
    "            result = future.result()\n",
    "            if result is not None:\n",
    "                predictions.append(result)\n",
    "\n",
    "    if len(predictions) < num_samples:\n",
    "        return promptgroq(csv, start_idx, chunksize, model, num_samples)\n",
    "\n",
    "    for i in range(chunksize):\n",
    "        sum = 0\n",
    "        for j in range(num_samples):\n",
    "            sum += predictions[j]['predicted_fridge_power'][i]\n",
    "        answers['predictions'].append(sum / num_samples)\n",
    "        answers['timestamps'].append(predictions[0]['timestamp'][i])\n",
    "\n",
    "    return answers\n"
   ]
  },
  {
   "cell_type": "code",
   "execution_count": null,
   "metadata": {},
   "outputs": [],
   "source": [
    "pred_df_list = []\n",
    "# Run the loop\n",
    "for start_idx, chunksize in combinationstorun:\n",
    "    for start in tqdm(range(0, len(result_df) - (start_idx + chunksize), 15)):\n",
    "        current_chunk = result_df.iloc[start:start+start_idx+chunksize]\n",
    "        input_string = current_chunk[['timestamp', 'total_power']].to_csv(index=False, header=False)\n",
    "        input_string = input_string.replace(\" \", \"\").replace('\\n', ',').replace(',', ' , ')\n",
    "        answer = promptgroq(input_string, start + start_idx, chunksize, model, num_samples=2)\n",
    "        predictions = answer['predictions']\n",
    "        timestamps = answer['timestamps']\n",
    "        predicted_df = pd.DataFrame({'Timestamp': timestamps, 'Fridge_power': predictions})\n",
    "        print(predicted_df)\n",
    "        pred_df_list.append(predicted_df)"
   ]
  },
  {
   "cell_type": "markdown",
   "metadata": {},
   "source": [
    "### Caluclating Error"
   ]
  },
  {
   "cell_type": "code",
   "execution_count": null,
   "metadata": {},
   "outputs": [],
   "source": [
    "len(pred_df_list)"
   ]
  },
  {
   "cell_type": "code",
   "execution_count": null,
   "metadata": {},
   "outputs": [],
   "source": [
    "\n",
    "# Function to plot results and calculate MSE\n",
    "def plot_results(real_values, predicted_values):\n",
    "    \n",
    "    print('PREDICTED',len(predicted_values))\n",
    "    min_length = min(len(real_values), len(predicted_values))\n",
    "    real_values = real_values[:min_length]\n",
    "    predicted_values = predicted_values[:min_length]\n",
    "\n",
    "    mask = ~np.isnan(real_values) & ~np.isnan(predicted_values)\n",
    "    real_values = real_values[mask]\n",
    "    predicted_values = predicted_values[mask]\n",
    "\n",
    "    mse = mean_squared_error(real_values, predicted_values)\n",
    "    print(f\"MSE Loss: {mse}\")\n",
    "\n",
    "    # Plotting the results\n",
    "    plt.figure(figsize=(10, 6))\n",
    "    plt.plot(real_values, label='Real Fridge Power')\n",
    "    plt.plot(predicted_values, label='Predicted Fridge Power')\n",
    "    plt.xlabel('Index')\n",
    "    plt.ylabel('Fridge Power')\n",
    "    plt.title('Real vs Predicted Fridge Power')\n",
    "    plt.legend()\n",
    "    plt.grid(True)\n",
    "    plt.show()"
   ]
  },
  {
   "cell_type": "code",
   "execution_count": null,
   "metadata": {},
   "outputs": [],
   "source": [
    "df_1 = pd.concat(pred_df_list, ignore_index=True)\n",
    "\n",
    "# Assuming all_pred_df is defined elsewhere and contains the predicted values\n",
    "all_pred_df = df_1.copy()  # Placeholder, replace with actual predicted values DataFrame\n",
    "\n",
    "# Extract real and predicted fridge power\n",
    "real_fridge_power = result_df['fridge_power'].values\n",
    "predicted_fridge_power = all_pred_df['Fridge_power'].values\n",
    "\n",
    "print(len(real_fridge_power))\n",
    "print('PREDICTED',len(predicted_fridge_power))\n",
    "# Plot results and calculate MSE\n",
    "plot_results(real_fridge_power, predicted_fridge_power)\n"
   ]
  },
  {
   "cell_type": "markdown",
   "metadata": {},
   "source": [
    "### Fewshots"
   ]
  },
  {
   "cell_type": "code",
   "execution_count": null,
   "metadata": {},
   "outputs": [],
   "source": [
    "\n",
    "i=0\n",
    "# Mock function to simulate API calls\n",
    "def promptgroq_fewshots(csv, start_idx, chunksize, model, num_samples, initial_examples):\n",
    "    answers = {'timestamps': [], 'predictions': []}\n",
    "    attempts = 40\n",
    "    predictions = []\n",
    "    global api_keyover, client, i\n",
    "\n",
    "    initial_examples_str = \", \".join(\n",
    "    [f\"Timestamp: {row['timestamp']}, Total Power: {row['total_power']}, Fridge Power: {row['fridge_power']}\"\n",
    "     for idx, row in initial_examples.iterrows()]\n",
    ")\n",
    "\n",
    "\n",
    "    def get_prediction(run, csv=csv, start_idx=start_idx, chunksize=chunksize, model=model):\n",
    "        global i, api_keyover, client\n",
    "        while i < attempts:\n",
    "            try:\n",
    "                completion = client.chat.completions.create(\n",
    "                    model='llama3-8b-8192',\n",
    "                    messages=[\n",
    "                        # {\n",
    "                        #     \"role\": \"system\",\n",
    "                        #     \"content\": \"\"\"You are a helpful assistant that performs time series predictions for NILM (Non-Intrusive Load Monitoring). The user will provide an aggregate data sequence of power consumption and timestamps with a few examples of power consumed by fridge, and you will predict the power consumption of the fridge corresponding to each timestamp in the data. The sequence is represented by decimal strings separated by commas for power values and ISO 8601 format for timestamps.\n",
    "                                            \n",
    "                        #                     DO NOT CHANGE THE TIMESTAMPS KEEP THEM SAME AS IN THE DATA.\n",
    "                        #                     Fridge consumes a low amount of the aggregate power so predict accordingly. Also keep in mind the other appliances.\n",
    "                        #                     Appliance Information:\n",
    "                        #                     Low power consuming appliances - Lighting, Electronics, Fridge\n",
    "                        #                     Moderate power consuming appliances - Bathroom GFI, Dishwasher, Microwave, Kitchen Outlets\n",
    "                        #                     High power consuming appliances - Washer Dryer   \n",
    "                        #                 \"\"\"\n",
    "                        # },\n",
    "                        # {\n",
    "                        #     \"role\": \"user\",\n",
    "                        #     \"content\": f\"\"\"Predict the fridge power consumption for the given time series data for the next {chunksize} timestamps. Each timestamp in the input should have a corresponding output. Return your reply in the following format:\n",
    "                        #                     [timestamp 0, prediction 0, timestamp 1, prediction 1, ..., timestamp {chunksize - 1}, prediction {chunksize - 1}] - the total length should be exactly {chunksize * 2}, starting from timestamp {start_idx} until the timestamp {start_idx + chunksize - 1}. Do not include any additional text or explanations.\n",
    "                                            \n",
    "                        #                     ### Initial Examples\n",
    "                        #                     {initial_examples_str}\n",
    "\n",
    "                        #                     ### Time Series Data\n",
    "                        #                     {csv}\n",
    "                        #                     \"\"\"\n",
    "                        # }\n",
    "                        {\n",
    "                            \"role\": \"system\",\n",
    "                            \"content\": \"\"\"You are a helpful assistant that performs time series predictions for NILM (Non-Intrusive Load Monitoring). The user will provide an aggregate data sequence of power consumption and timestamps with a few examples of power consumed by fridge, and you will predict the power consumption of the fridge corresponding to each timestamp in the data. The sequence is represented by decimal strings separated by commas for power values and ISO 8601 format for timestamps \n",
    "                                            DO NOT CHANGE THE TIMESTAMPS KEEP THEM SAME AS IN THE DATA. USE EXAMPLE STRING PROVIDED AS A TRAINING SET\n",
    "                                            Fridge consumes a low amount of the aggregate power so predict accordingly. Also keep in mind the other appliances.\n",
    "                                            Appliance Information:\n",
    "                                            Low power consuming appliances - Lighting, Electronics, Fridge\n",
    "                                            Moderate power consuming appliances - Bathroom GFI, Dishwasher, Microwave, Kitchen Outlets\n",
    "                                            High power consuming appliances - Washer Dryer   \n",
    "                                        \"\"\"\n",
    "                        },\n",
    "                        {\n",
    "                            \"role\": \"user\",\n",
    "                            \"content\": f\"\"\"Predict the fridge power consumption for the given time series data for the next {chunksize} timestamps by using the examples provided. Each timestamp in the input should have a corresponding output. Return your reply in the following format:\n",
    "                                            [timestamp 0, prediction 0, timestamp 1, prediction 1, ..., timestamp {chunksize - 1}, prediction {chunksize - 1}] - the total length should be exactly {chunksize * 2}, starting from timestamp {start_idx} until the timestamp {start_idx + chunksize - 1}. Do not include any additional text or explanations.\n",
    "                                            \n",
    "                                            ### Initial Examples\n",
    "                                            {initial_examples_str}\n",
    "                                            \n",
    "                                            ### Time Series Data\n",
    "                                            {csv}\n",
    "                                            \"\"\"\n",
    "                        }\n",
    "                    ],\n",
    "                    temperature=1,\n",
    "                    top_p=1,\n",
    "                    stream=False,\n",
    "                    stop=None,\n",
    "                )\n",
    "            except Exception as e:\n",
    "                print('API key limit reached', e)\n",
    "                api_keyover += 1\n",
    "                client = Groq(api_key=api_keys[api_keyover % 4])\n",
    "                continue\n",
    "\n",
    "            try:\n",
    "                answer = completion.choices[0].message.content.strip()\n",
    "                predictions_list = [item.strip() for item in answer.split(',') if item.strip()]\n",
    "\n",
    "                pred_timestamps = predictions_list[::2]\n",
    "                pred_values_str = predictions_list[1::2]\n",
    "\n",
    "                pred_values_cleaned = []\n",
    "                for value in pred_values_str:\n",
    "                    try:\n",
    "                        pred_values_cleaned.append(float(value))\n",
    "                    except ValueError:\n",
    "                        float_part = ''.join([char for char in value if char.isdigit() or char == '.' or char == '-'])\n",
    "                        pred_values_cleaned.append(float(float_part))\n",
    "\n",
    "                pred_df = pd.DataFrame({\n",
    "                    'timestamp': [ts.strip() for ts in pred_timestamps],\n",
    "                    'predicted_fridge_power': pred_values_cleaned\n",
    "                })\n",
    "\n",
    "                if len(pred_timestamps) == chunksize:\n",
    "                    return pred_df\n",
    "                else:\n",
    "                    i += 1\n",
    "            except Exception as e:\n",
    "                i += 1\n",
    "                continue\n",
    "\n",
    "        return None\n",
    "\n",
    "    with concurrent.futures.ThreadPoolExecutor() as executor:\n",
    "        future_to_run = {executor.submit(get_prediction, run): run for run in range(num_samples)}\n",
    "        for future in tqdm(concurrent.futures.as_completed(future_to_run)):\n",
    "            result = future.result()\n",
    "            if result is not None:\n",
    "                predictions.append(result)\n",
    "\n",
    "    if len(predictions) < num_samples:\n",
    "        return promptgroq(csv, start_idx, chunksize, model, num_samples, initial_examples)\n",
    "\n",
    "    for i in range(chunksize):\n",
    "        sum = 0\n",
    "        for j in range(num_samples):\n",
    "            sum += predictions[j]['predicted_fridge_power'][i]\n",
    "        answers['predictions'].append(sum / num_samples)\n",
    "        answers['timestamps'].append(predictions[0]['timestamp'][i])\n",
    "\n",
    "    return answers\n",
    "\n",
    "\n"
   ]
  },
  {
   "cell_type": "code",
   "execution_count": null,
   "metadata": {},
   "outputs": [],
   "source": [
    "train_df = result_df[:60]\n",
    "test_df = result_df[60:]\n",
    "pred_df_list = []\n",
    "\n",
    "# Select a small set of initial examples (e.g., first 5 rows)\n",
    "initial_examples = train_df[['timestamp', 'total_power', 'fridge_power']]"
   ]
  },
  {
   "cell_type": "code",
   "execution_count": null,
   "metadata": {},
   "outputs": [],
   "source": [
    "# Run the loop\n",
    "for start_idx, chunksize in combinationstorun:\n",
    "    for start in tqdm(range(0, len(test_df) - (start_idx + chunksize), 15)):\n",
    "        current_chunk = test_df.iloc[start:start+start_idx+chunksize]\n",
    "        input_string = current_chunk[['timestamp', 'total_power']].to_csv(index=False, header=False)\n",
    "        input_string = input_string.replace(\" \", \"\").replace('\\n', ',').replace(',', ' , ')\n",
    "        answer = promptgroq_fewshots(input_string, start + start_idx, chunksize, model, num_samples=2, initial_examples=initial_examples)\n",
    "        predictions = answer['predictions']\n",
    "        timestamps = answer['timestamps']\n",
    "        predicted_df = pd.DataFrame({'Timestamp': timestamps, 'Fridge_power': predictions})\n",
    "        print(predicted_df)\n",
    "        pred_df_list.append(predicted_df)"
   ]
  },
  {
   "cell_type": "code",
   "execution_count": null,
   "metadata": {},
   "outputs": [],
   "source": [
    "\n",
    "all_pred_df = pd.concat(pred_df_list, ignore_index=True)\n",
    "\n",
    "real_fridge_power = df['fridge_power'][:len(all_pred_df)].values\n",
    "\n",
    "predicted_fridge_power = all_pred_df['Fridge_power'].values\n",
    "\n",
    "plot_results(real_fridge_power, predicted_fridge_power)"
   ]
  },
  {
   "cell_type": "code",
   "execution_count": 2,
   "metadata": {},
   "outputs": [],
   "source": [
    "client = Groq(api_key=\"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\") \n",
    "api_keys=[\"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\", \"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\", \"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\", \"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\"] #get multiple API keys with different Email addresses, you will run into rate limits a lot so either slow down the requests or let lots of api keys handle the job\n",
    "api_keyover=0"
   ]
  },
  {
   "cell_type": "code",
   "execution_count": 29,
   "metadata": {},
   "outputs": [
    {
     "data": {
      "text/html": [
       "<div>\n",
       "<style scoped>\n",
       "    .dataframe tbody tr th:only-of-type {\n",
       "        vertical-align: middle;\n",
       "    }\n",
       "\n",
       "    .dataframe tbody tr th {\n",
       "        vertical-align: top;\n",
       "    }\n",
       "\n",
       "    .dataframe thead th {\n",
       "        text-align: right;\n",
       "    }\n",
       "</style>\n",
       "<table border=\"1\" class=\"dataframe\">\n",
       "  <thead>\n",
       "    <tr style=\"text-align: right;\">\n",
       "      <th></th>\n",
       "      <th>timestamp</th>\n",
       "      <th>total_power</th>\n",
       "      <th>fridge_power</th>\n",
       "    </tr>\n",
       "  </thead>\n",
       "  <tbody>\n",
       "    <tr>\n",
       "      <th>0</th>\n",
       "      <td>2011-04-18 09:22:13-04:00</td>\n",
       "      <td>341.029999</td>\n",
       "      <td>6.0</td>\n",
       "    </tr>\n",
       "    <tr>\n",
       "      <th>1</th>\n",
       "      <td>2011-04-18 09:22:16-04:00</td>\n",
       "      <td>342.359985</td>\n",
       "      <td>6.0</td>\n",
       "    </tr>\n",
       "    <tr>\n",
       "      <th>2</th>\n",
       "      <td>2011-04-18 09:22:20-04:00</td>\n",
       "      <td>342.520020</td>\n",
       "      <td>6.0</td>\n",
       "    </tr>\n",
       "    <tr>\n",
       "      <th>3</th>\n",
       "      <td>2011-04-18 09:22:23-04:00</td>\n",
       "      <td>342.070007</td>\n",
       "      <td>6.0</td>\n",
       "    </tr>\n",
       "    <tr>\n",
       "      <th>4</th>\n",
       "      <td>2011-04-18 09:22:26-04:00</td>\n",
       "      <td>341.770020</td>\n",
       "      <td>6.0</td>\n",
       "    </tr>\n",
       "    <tr>\n",
       "      <th>...</th>\n",
       "      <td>...</td>\n",
       "      <td>...</td>\n",
       "      <td>...</td>\n",
       "    </tr>\n",
       "    <tr>\n",
       "      <th>410090</th>\n",
       "      <td>2011-05-24 15:56:20-04:00</td>\n",
       "      <td>274.380005</td>\n",
       "      <td>186.0</td>\n",
       "    </tr>\n",
       "    <tr>\n",
       "      <th>410091</th>\n",
       "      <td>2011-05-24 15:56:23-04:00</td>\n",
       "      <td>273.690002</td>\n",
       "      <td>187.0</td>\n",
       "    </tr>\n",
       "    <tr>\n",
       "      <th>410092</th>\n",
       "      <td>2011-05-24 15:56:27-04:00</td>\n",
       "      <td>274.070007</td>\n",
       "      <td>190.0</td>\n",
       "    </tr>\n",
       "    <tr>\n",
       "      <th>410093</th>\n",
       "      <td>2011-05-24 15:56:30-04:00</td>\n",
       "      <td>274.750000</td>\n",
       "      <td>189.0</td>\n",
       "    </tr>\n",
       "    <tr>\n",
       "      <th>410094</th>\n",
       "      <td>2011-05-24 15:56:34-04:00</td>\n",
       "      <td>274.119995</td>\n",
       "      <td>186.0</td>\n",
       "    </tr>\n",
       "  </tbody>\n",
       "</table>\n",
       "<p>410095 rows × 3 columns</p>\n",
       "</div>"
      ],
      "text/plain": [
       "                       timestamp  total_power  fridge_power\n",
       "0      2011-04-18 09:22:13-04:00   341.029999           6.0\n",
       "1      2011-04-18 09:22:16-04:00   342.359985           6.0\n",
       "2      2011-04-18 09:22:20-04:00   342.520020           6.0\n",
       "3      2011-04-18 09:22:23-04:00   342.070007           6.0\n",
       "4      2011-04-18 09:22:26-04:00   341.770020           6.0\n",
       "...                          ...          ...           ...\n",
       "410090 2011-05-24 15:56:20-04:00   274.380005         186.0\n",
       "410091 2011-05-24 15:56:23-04:00   273.690002         187.0\n",
       "410092 2011-05-24 15:56:27-04:00   274.070007         190.0\n",
       "410093 2011-05-24 15:56:30-04:00   274.750000         189.0\n",
       "410094 2011-05-24 15:56:34-04:00   274.119995         186.0\n",
       "\n",
       "[410095 rows x 3 columns]"
      ]
     },
     "execution_count": 29,
     "metadata": {},
     "output_type": "execute_result"
    }
   ],
   "source": [
    "df"
   ]
  },
  {
   "cell_type": "code",
   "execution_count": 4,
   "metadata": {},
   "outputs": [
    {
     "data": {
      "text/plain": [
       "[<matplotlib.lines.Line2D at 0x10cc9b5bfd0>]"
      ]
     },
     "execution_count": 4,
     "metadata": {},
     "output_type": "execute_result"
    },
    {
     "data": {
      "image/png": "[encoded data removed]",
      "text/plain": [
       "<Figure size 640x480 with 1 Axes>"
      ]
     },
     "metadata": {},
     "output_type": "display_data"
    }
   ],
   "source": [
    "\n",
    "subset_df = df[13632:34905].reset_index(drop=True)\n",
    "\n",
    "series = pd.Series(subset_df['timestamp'])\n",
    "\n",
    "# Function to extract HH:MM\n",
    "def extract_time(datetime_str):\n",
    "    return pd.to_datetime(datetime_str).strftime('%H:%M')\n",
    "\n",
    "# Apply the function to the Series\n",
    "time_series = series.apply(extract_time)\n",
    "\n",
    "subset_df['timestamp'] = time_series\n",
    "result_df = subset_df.groupby('timestamp', as_index=False).mean()\n",
    "\n",
    "fridge = result_df['fridge_power'].to_numpy()\n",
    "time = [i for i in range(0, 1346)]\n",
    "\n",
    "time = np.array(time)\n",
    "plt.plot(time, fridge)"
   ]
  },
  {
   "cell_type": "markdown",
   "metadata": {},
   "source": [
    "### Zeroshots"
   ]
  },
  {
   "cell_type": "code",
   "execution_count": 41,
   "metadata": {},
   "outputs": [
    {
     "name": "stderr",
     "output_type": "stream",
     "text": [
      "2it [00:02,  1.36s/it][00:00<?, ?it/s]\n",
      "  1%|          | 1/89 [00:02<04:02,  2.76s/it]"
     ]
    },
    {
     "name": "stdout",
     "output_type": "stream",
     "text": [
      "   Timestamp  Fridge_power\n",
      "0     [00:00     97.433120\n",
      "1      00:01     97.519770\n",
      "2      00:02     96.951610\n",
      "3      00:03     96.751025\n",
      "4      00:04     96.308250\n",
      "5      00:05     96.689125\n",
      "6      00:06     96.557450\n",
      "7      00:07     95.737915\n",
      "8      00:08     95.518145\n",
      "9      00:09     95.373270\n",
      "10     00:10     96.843035\n",
      "11     00:11     95.606990\n",
      "12     00:12     93.999805\n",
      "13     00:13     93.942260\n",
      "14     00:14     94.323465\n"
     ]
    },
    {
     "name": "stderr",
     "output_type": "stream",
     "text": [
      "2it [00:08,  4.26s/it]\n",
      "  2%|▏         | 2/89 [00:11<08:57,  6.18s/it]"
     ]
    },
    {
     "name": "stdout",
     "output_type": "stream",
     "text": [
      "   Timestamp  Fridge_power\n",
      "0     [00:30    183.539425\n",
      "1      00:31    183.194265\n",
      "2      00:32    183.322290\n",
      "3      00:33    183.588690\n",
      "4      00:34    183.348225\n",
      "5      00:35    182.584415\n",
      "6      00:36    183.502325\n",
      "7      00:37    183.395890\n",
      "8      00:38    183.096675\n",
      "9      00:39    182.684665\n",
      "10     00:40    183.763075\n",
      "11     00:41    182.401740\n",
      "12     00:42    183.409290\n",
      "13     00:43    183.132375\n",
      "14     00:44    183.903815\n"
     ]
    },
    {
     "name": "stderr",
     "output_type": "stream",
     "text": [
      "2it [00:01,  1.20it/s]\n",
      "  3%|▎         | 3/89 [00:13<05:55,  4.14s/it]"
     ]
    },
    {
     "name": "stdout",
     "output_type": "stream",
     "text": [
      "   Timestamp  Fridge_power\n",
      "0     [00:30    184.462270\n",
      "1      00:31    183.770900\n",
      "2      00:32    183.329670\n",
      "3      00:33    182.918175\n",
      "4      00:34    182.486000\n",
      "5      00:35    182.044665\n",
      "6      00:36    181.637200\n",
      "7      00:37    180.829740\n",
      "8      00:38    180.362240\n",
      "9      00:39    179.919700\n",
      "10     00:40    179.498310\n",
      "11     00:41    179.095670\n",
      "12     00:42    178.684225\n",
      "13     00:43    178.306620\n",
      "14     00:44    177.940995\n"
     ]
    },
    {
     "name": "stderr",
     "output_type": "stream",
     "text": [
      "2it [00:01,  1.18it/s]\n",
      "  4%|▍         | 4/89 [00:14<04:31,  3.19s/it]"
     ]
    },
    {
     "name": "stdout",
     "output_type": "stream",
     "text": [
      "   Timestamp  Fridge_power\n",
      "0     [00:45    118.187940\n",
      "1      00:46    118.403430\n",
      "2      00:47    117.331060\n",
      "3      00:48    105.476585\n",
      "4      00:49    103.410765\n",
      "5      00:50    103.153465\n",
      "6      00:51    102.984385\n",
      "7      00:52    103.501325\n",
      "8      00:53    104.354040\n",
      "9      00:54    103.948775\n",
      "10     00:55    103.227595\n",
      "11     00:56    103.469555\n",
      "12     00:57    104.492975\n",
      "13     00:58    104.093585\n",
      "14     00:59    104.174240\n"
     ]
    },
    {
     "name": "stderr",
     "output_type": "stream",
     "text": [
      "2it [00:05,  2.99s/it]\n",
      "  6%|▌         | 5/89 [00:20<05:53,  4.21s/it]"
     ]
    },
    {
     "name": "stdout",
     "output_type": "stream",
     "text": [
      "    Timestamp  Fridge_power\n",
      "0   [01:00 60    130.935960\n",
      "1    01:01 61    130.039905\n",
      "2    01:02 62    130.230835\n",
      "3    01:03 63    128.416670\n",
      "4    01:04 64    129.654990\n",
      "5    01:05 65    131.827035\n",
      "6    01:06 66    129.692815\n",
      "7    01:07 67    129.044790\n",
      "8    01:08 68    128.803685\n",
      "9    01:09 69    131.877655\n",
      "10   01:10 70    130.522755\n",
      "11   01:11 71    128.310815\n",
      "12   01:12 72    128.712370\n",
      "13   01:13 73    130.734785\n",
      "14   01:14 74    130.627770\n"
     ]
    },
    {
     "name": "stderr",
     "output_type": "stream",
     "text": [
      "2it [00:13,  6.50s/it]\n",
      "  7%|▋         | 6/89 [00:33<09:58,  7.22s/it]"
     ]
    },
    {
     "name": "stdout",
     "output_type": "stream",
     "text": [
      "   Timestamp  Fridge_power\n",
      "0     [01:30    174.181250\n",
      "1      01:31    173.946875\n",
      "2      01:32    173.912500\n",
      "3      01:33    174.368750\n",
      "4      01:34    174.461250\n",
      "5      01:35    173.917815\n",
      "6      01:36    174.483750\n",
      "7      01:37    175.051250\n",
      "8      01:38    175.095000\n",
      "9      01:39    174.123125\n",
      "10     01:40    175.036875\n",
      "11     01:41    173.920000\n",
      "12     01:42    174.505000\n",
      "13     01:43    174.653750\n",
      "14     01:44    173.980000\n"
     ]
    },
    {
     "name": "stderr",
     "output_type": "stream",
     "text": [
      "2it [00:13,  6.50s/it]\n",
      "  8%|▊         | 7/89 [00:46<12:27,  9.12s/it]"
     ]
    },
    {
     "name": "stdout",
     "output_type": "stream",
     "text": [
      "   Timestamp  Fridge_power\n",
      "0        [90    191.287520\n",
      "1         91    190.886520\n",
      "2         92    190.484620\n",
      "3         93    190.082670\n",
      "4         94    189.680720\n",
      "5         95    189.278770\n",
      "6         96    189.271625\n",
      "7         97    188.869675\n",
      "8         98    188.467725\n",
      "9         99    188.070775\n",
      "10       100    187.673825\n",
      "11       101    187.276875\n",
      "12       102    186.879925\n",
      "13       103    186.482975\n",
      "14       104    186.086025\n"
     ]
    },
    {
     "name": "stderr",
     "output_type": "stream",
     "text": [
      "2it [00:10,  5.49s/it]\n",
      "  9%|▉         | 8/89 [00:57<13:07,  9.72s/it]"
     ]
    },
    {
     "name": "stdout",
     "output_type": "stream",
     "text": [
      "   Timestamp  Fridge_power\n",
      "0     [01:45     76.071700\n",
      "1      01:46     77.565950\n",
      "2      01:47     72.613400\n",
      "3      01:48     74.560850\n",
      "4      01:49     77.756500\n",
      "5      01:50     82.337595\n",
      "6      01:51     76.833005\n",
      "7      01:52     78.342930\n",
      "8      01:53     75.995925\n",
      "9      01:54     77.985410\n",
      "10     01:55     76.739945\n",
      "11     01:56     79.738765\n",
      "12     01:57     76.438065\n",
      "13     01:58     78.539145\n",
      "14     01:59     75.418175\n"
     ]
    },
    {
     "name": "stderr",
     "output_type": "stream",
     "text": [
      "2it [00:20, 10.01s/it]\n",
      " 10%|█         | 9/89 [01:17<17:16, 12.96s/it]"
     ]
    },
    {
     "name": "stdout",
     "output_type": "stream",
     "text": [
      "   Timestamp  Fridge_power\n",
      "0       [120        172.10\n",
      "1        121        172.90\n",
      "2        122        173.70\n",
      "3        123        172.30\n",
      "4        124        172.30\n",
      "5        125        173.90\n",
      "6        126        174.00\n",
      "7        127        171.85\n",
      "8        128        172.05\n",
      "9        129        173.90\n",
      "10       130        174.05\n",
      "11       131        171.95\n",
      "12       132        171.60\n",
      "13       133        173.25\n",
      "14       134        173.30\n"
     ]
    },
    {
     "name": "stderr",
     "output_type": "stream",
     "text": [
      "2it [00:07,  3.88s/it]\n",
      " 11%|█         | 10/89 [01:25<14:57, 11.36s/it]"
     ]
    },
    {
     "name": "stdout",
     "output_type": "stream",
     "text": [
      "   Timestamp  Fridge_power\n",
      "0     [02:30    106.270065\n",
      "1      02:31    105.983590\n",
      "2      02:32    106.600585\n",
      "3      02:33    106.263985\n",
      "4      02:34    105.925275\n",
      "5      02:35    105.785915\n",
      "6      02:36    106.408280\n",
      "7      02:37    105.979370\n",
      "8      02:38    105.747115\n",
      "9      02:39    106.174760\n",
      "10     02:40    105.554410\n",
      "11     02:41    106.153280\n",
      "12     02:42    105.835220\n",
      "13     02:43    105.477565\n",
      "14     02:44    105.981075\n"
     ]
    },
    {
     "name": "stderr",
     "output_type": "stream",
     "text": [
      "2it [00:17,  8.82s/it]\n",
      " 12%|█▏        | 11/89 [01:43<17:17, 13.30s/it]"
     ]
    },
    {
     "name": "stdout",
     "output_type": "stream",
     "text": [
      "   Timestamp  Fridge_power\n",
      "0     [02:30      17.28365\n",
      "1      02:31      17.28365\n",
      "2      02:32      17.28365\n",
      "3      02:33      17.95625\n",
      "4      02:34      17.28365\n",
      "5      02:35      17.28365\n",
      "6      02:36      16.56080\n",
      "7      02:37      17.70620\n",
      "8      02:38      17.44725\n",
      "9      02:39      16.49145\n",
      "10     02:40      17.28365\n",
      "11     02:41      17.67295\n",
      "12     02:42      17.28365\n",
      "13     02:43      17.14240\n",
      "14     02:44      17.15775\n"
     ]
    },
    {
     "name": "stderr",
     "output_type": "stream",
     "text": []
    },
    {
     "name": "stdout",
     "output_type": "stream",
     "text": [
      "API key limit reached Error code: 429 - {'error': {'message': 'Rate limit reached for model `llama3-8b-8192` in organization `org_01hzptswaffbsrqr210cddb30c` on requests per minute (RPM): Limit 30, Used 30, Requested 1. Please try again in 1.882s. Visit https://console.groq.com/docs/rate-limits for more information.', 'type': 'requests', 'code': 'rate_limit_exceeded'}}\n"
     ]
    },
    {
     "name": "stderr",
     "output_type": "stream",
     "text": [
      "2it [00:19,  9.85s/it]\n",
      " 13%|█▎        | 12/89 [02:03<19:34, 15.26s/it]"
     ]
    },
    {
     "name": "stdout",
     "output_type": "stream",
     "text": [
      "   Timestamp  Fridge_power\n",
      "0       [165    211.781635\n",
      "1        166    211.084760\n",
      "2        167    216.217775\n",
      "3        168    231.290000\n",
      "4        169    320.829405\n",
      "5        170    313.247395\n",
      "6        171    310.271990\n",
      "7        172    308.584760\n",
      "8        173    308.479910\n",
      "9        174    307.237025\n",
      "10       175    307.349175\n",
      "11       176    306.278160\n",
      "12       177    304.957940\n",
      "13       178    304.923160\n",
      "14       179    303.613405\n"
     ]
    },
    {
     "name": "stderr",
     "output_type": "stream",
     "text": []
    },
    {
     "name": "stdout",
     "output_type": "stream",
     "text": [
      "API key limit reached Error code: 429 - {'error': {'message': 'Rate limit reached for model `llama3-8b-8192` in organization `org_01hzptswaffbsrqr210cddb30c` on requests per minute (RPM): Limit 30, Used 30, Requested 1. Please try again in 1.117s. Visit https://console.groq.com/docs/rate-limits for more information.', 'type': 'requests', 'code': 'rate_limit_exceeded'}}\n"
     ]
    },
    {
     "name": "stderr",
     "output_type": "stream",
     "text": [
      "2it [00:16,  8.19s/it]\n",
      " 15%|█▍        | 13/89 [02:19<19:49, 15.65s/it]"
     ]
    },
    {
     "name": "stdout",
     "output_type": "stream",
     "text": [
      "   Timestamp  Fridge_power\n",
      "0     [03:15    130.399605\n",
      "1      03:16    130.135060\n",
      "2      03:17    130.157900\n",
      "3      03:18    130.291195\n",
      "4      03:19    130.008140\n",
      "5      03:20    129.798055\n",
      "6      03:21    129.798560\n",
      "7      03:22    129.489595\n",
      "8      03:23    129.497675\n",
      "9      03:24    129.290255\n",
      "10     03:25    129.160310\n",
      "11     03:26    128.937895\n",
      "12     03:27    128.699675\n",
      "13     03:28    128.583960\n",
      "14     03:29    128.465005\n"
     ]
    },
    {
     "name": "stderr",
     "output_type": "stream",
     "text": [
      "2it [00:10,  5.48s/it]\n",
      " 16%|█▌        | 14/89 [02:30<17:48, 14.24s/it]"
     ]
    },
    {
     "name": "stdout",
     "output_type": "stream",
     "text": [
      "   Timestamp  Fridge_power\n",
      "0     [03:30    173.725625\n",
      "1      03:31    173.936940\n",
      "2      03:32    173.633125\n",
      "3      03:33    173.707500\n",
      "4      03:34    173.931560\n",
      "5      03:35    173.130000\n",
      "6      03:36    173.445310\n",
      "7      03:37    172.737655\n",
      "8      03:38    172.993065\n",
      "9      03:39    173.221875\n",
      "10     03:40    172.330625\n",
      "11     03:41    172.637812\n",
      "12     03:42    172.335310\n",
      "13     03:43    172.542440\n",
      "14     03:44    171.814690\n"
     ]
    },
    {
     "name": "stderr",
     "output_type": "stream",
     "text": [
      "2it [00:05,  2.56s/it]\n",
      " 17%|█▋        | 15/89 [02:35<14:11, 11.51s/it]"
     ]
    },
    {
     "name": "stdout",
     "output_type": "stream",
     "text": [
      "   Timestamp  Fridge_power\n",
      "0      03:30     49.327050\n",
      "1      03:31     49.671250\n",
      "2      03:32     49.512000\n",
      "3      03:33     49.346875\n",
      "4      03:34     49.180315\n",
      "5      03:35     48.414250\n",
      "6      03:36     48.730440\n",
      "7      03:37     48.522000\n",
      "8      03:38     48.310815\n",
      "9      03:39     48.101750\n",
      "10     03:40     47.909940\n",
      "11     03:41     47.719250\n",
      "12     03:42     47.532065\n",
      "13     03:43     47.347250\n",
      "14     03:44     47.164690\n"
     ]
    },
    {
     "name": "stderr",
     "output_type": "stream",
     "text": [
      "2it [00:09,  4.54s/it]\n",
      " 18%|█▊        | 16/89 [02:45<13:08, 10.80s/it]"
     ]
    },
    {
     "name": "stdout",
     "output_type": "stream",
     "text": [
      "   Timestamp  Fridge_power\n",
      "0       [225           NaN\n",
      "1        226           NaN\n",
      "2        227           NaN\n",
      "3        228           NaN\n",
      "4        229    150.399060\n",
      "5        230    149.653225\n",
      "6        231    149.387850\n",
      "7        232    149.194400\n",
      "8        233    149.055110\n",
      "9        234    148.962775\n",
      "10       235    149.045425\n",
      "11       236    149.129300\n",
      "12       237    149.248700\n",
      "13       238    149.454800\n",
      "14       239    149.703400\n"
     ]
    },
    {
     "name": "stderr",
     "output_type": "stream",
     "text": []
    },
    {
     "name": "stdout",
     "output_type": "stream",
     "text": [
      "API key limit reached Error code: 429 - {'error': {'message': 'Rate limit reached for model `llama3-8b-8192` in organization `org_01hzptswaffbsrqr210cddb30c` on requests per minute (RPM): Limit 30, Used 30, Requested 1. Please try again in 1.939s. Visit https://console.groq.com/docs/rate-limits for more information.', 'type': 'requests', 'code': 'rate_limit_exceeded'}}\n"
     ]
    },
    {
     "name": "stderr",
     "output_type": "stream",
     "text": [
      "2it [00:14,  7.01s/it]\n",
      " 19%|█▉        | 17/89 [02:59<14:08, 11.78s/it]"
     ]
    },
    {
     "name": "stdout",
     "output_type": "stream",
     "text": [
      "   Timestamp  Fridge_power\n",
      "0     [04:24    169.724455\n",
      "1      04:25    169.534180\n",
      "2      04:26    169.698685\n",
      "3      04:27    169.832105\n",
      "4      04:28    169.561805\n",
      "5      04:29    169.716870\n",
      "6      04:30    169.483020\n",
      "7      04:31    169.797620\n",
      "8      04:32    169.679805\n",
      "9      04:33    169.586620\n",
      "10     04:34    169.916890\n",
      "11     04:35    169.651785\n",
      "12     04:36    169.561890\n",
      "13     04:37    169.785285\n",
      "14     04:38    169.609055\n"
     ]
    },
    {
     "name": "stderr",
     "output_type": "stream",
     "text": [
      "2it [00:13,  6.62s/it]\n",
      " 20%|██        | 18/89 [03:12<14:28, 12.23s/it]"
     ]
    },
    {
     "name": "stdout",
     "output_type": "stream",
     "text": [
      "   Timestamp  Fridge_power\n",
      "0      04:15      158.4950\n",
      "1      04:16      160.3700\n",
      "2      04:17      158.8175\n",
      "3      04:18      159.5735\n",
      "4      04:19      160.5700\n",
      "5      04:20      160.6150\n",
      "6      04:21      160.4200\n",
      "7      04:22      160.0050\n",
      "8      04:23      160.5000\n",
      "9      04:24      160.9350\n",
      "10     04:25      160.5150\n",
      "11     04:26      160.1100\n",
      "12     04:27      160.1400\n",
      "13     04:28      161.0400\n",
      "14     04:29      160.7950\n"
     ]
    },
    {
     "name": "stderr",
     "output_type": "stream",
     "text": [
      "2it [00:19,  9.76s/it]\n",
      " 21%|██▏       | 19/89 [03:31<16:50, 14.43s/it]"
     ]
    },
    {
     "name": "stdout",
     "output_type": "stream",
     "text": [
      "   Timestamp  Fridge_power\n",
      "0     [04:30     73.378125\n",
      "1      04:31     73.563750\n",
      "2      04:32     73.724995\n",
      "3      04:33     74.305315\n",
      "4      04:34     73.582315\n",
      "5      04:35     73.137375\n",
      "6      04:36     72.440315\n",
      "7      04:37     73.302250\n",
      "8      04:38     72.606005\n",
      "9      04:39     71.952500\n",
      "10     04:40     71.580200\n",
      "11     04:41     74.411900\n",
      "12     04:42     71.477815\n",
      "13     04:43     70.860625\n",
      "14     04:44     70.895940\n"
     ]
    },
    {
     "name": "stderr",
     "output_type": "stream",
     "text": [
      "2it [00:09,  4.78s/it]\n",
      " 22%|██▏       | 20/89 [03:41<14:55, 12.98s/it]"
     ]
    },
    {
     "name": "stdout",
     "output_type": "stream",
     "text": [
      "   Timestamp  Fridge_power\n",
      "0       [285    175.314975\n",
      "1        286    174.673495\n",
      "2        287    174.470045\n",
      "3        288    174.795500\n",
      "4        289    175.333695\n",
      "5        290    175.062495\n",
      "6        291    176.733810\n",
      "7        292    175.215345\n",
      "8        293    175.029405\n",
      "9        294    175.079905\n",
      "10       295    175.845540\n",
      "11       296    175.343385\n",
      "12       297    174.958945\n",
      "13       298    175.932740\n",
      "14       299    175.207135\n"
     ]
    },
    {
     "name": "stderr",
     "output_type": "stream",
     "text": []
    },
    {
     "name": "stdout",
     "output_type": "stream",
     "text": [
      "API key limit reached Error code: 429 - {'error': {'message': 'Rate limit reached for model `llama3-8b-8192` in organization `org_01hzptswaffbsrqr210cddb30c` on requests per minute (RPM): Limit 30, Used 30, Requested 1. Please try again in 1.738999999s. Visit https://console.groq.com/docs/rate-limits for more information.', 'type': 'requests', 'code': 'rate_limit_exceeded'}}\n"
     ]
    },
    {
     "name": "stderr",
     "output_type": "stream",
     "text": [
      "2it [00:22, 11.19s/it]\n",
      " 24%|██▎       | 21/89 [04:03<17:55, 15.81s/it]"
     ]
    },
    {
     "name": "stdout",
     "output_type": "stream",
     "text": [
      "   Timestamp  Fridge_power\n",
      "0       [300     44.862510\n",
      "1        301     44.712375\n",
      "2        302     44.839890\n",
      "3        303     44.964840\n",
      "4        304     45.093310\n",
      "5        305     45.225960\n",
      "6        306     45.362610\n",
      "7        307     45.501445\n",
      "8        308     45.643100\n",
      "9        309     45.787695\n",
      "10       310     45.935165\n",
      "11       311     46.086410\n",
      "12       312     46.240620\n",
      "13       313     46.393380\n",
      "14       314     46.547630\n"
     ]
    },
    {
     "name": "stderr",
     "output_type": "stream",
     "text": [
      "2it [00:22, 11.11s/it]\n",
      " 25%|██▍       | 22/89 [04:26<19:49, 17.75s/it]"
     ]
    },
    {
     "name": "stdout",
     "output_type": "stream",
     "text": [
      "   Timestamp  Fridge_power\n",
      "0     [16:45    169.657490\n",
      "1      16:46    169.289360\n",
      "2      16:47    169.217715\n",
      "3      16:48    168.836485\n",
      "4      16:49    168.628625\n",
      "5      16:50    169.148710\n",
      "6      16:51    169.019760\n",
      "7      16:52    168.947655\n",
      "8      16:53    169.578595\n",
      "9      16:54    168.860110\n",
      "10     16:55    168.983720\n",
      "11     16:56    168.929330\n",
      "12     16:57    169.240540\n",
      "13     16:58    169.181230\n",
      "14     16:59    169.041135\n"
     ]
    },
    {
     "name": "stderr",
     "output_type": "stream",
     "text": []
    },
    {
     "name": "stdout",
     "output_type": "stream",
     "text": [
      "API key limit reached Error code: 429 - {'error': {'message': 'Rate limit reached for model `llama3-8b-8192` in organization `org_01hzptswaffbsrqr210cddb30c` on requests per minute (RPM): Limit 30, Used 30, Requested 1. Please try again in 1.545s. Visit https://console.groq.com/docs/rate-limits for more information.', 'type': 'requests', 'code': 'rate_limit_exceeded'}}\n"
     ]
    },
    {
     "name": "stderr",
     "output_type": "stream",
     "text": [
      "2it [00:13,  6.99s/it]\n",
      " 26%|██▌       | 23/89 [04:40<18:17, 16.63s/it]"
     ]
    },
    {
     "name": "stdout",
     "output_type": "stream",
     "text": [
      "   Timestamp  Fridge_power\n",
      "0     [06:30    155.916665\n",
      "1      06:31    156.212500\n",
      "2      06:32    158.270830\n",
      "3      06:33    159.291665\n",
      "4      06:34    157.591665\n",
      "5      06:35    157.112500\n",
      "6      06:36    155.920830\n",
      "7      06:37    155.466665\n",
      "8      06:38    154.508335\n",
      "9      06:39    154.058335\n",
      "10     06:40    154.262500\n",
      "11     06:41    154.450000\n",
      "12     06:42    153.466665\n",
      "13     06:43    153.145835\n",
      "14     06:44    153.395835\n"
     ]
    },
    {
     "name": "stderr",
     "output_type": "stream",
     "text": [
      "2it [00:04,  2.15s/it]\n",
      " 27%|██▋       | 24/89 [04:44<14:01, 12.94s/it]"
     ]
    },
    {
     "name": "stdout",
     "output_type": "stream",
     "text": [
      "   Timestamp  Fridge_power\n",
      "0       [345    174.131815\n",
      "1        346    174.109850\n",
      "2        347    174.106785\n",
      "3        348    174.130135\n",
      "4        349    175.021565\n",
      "5        350    174.302500\n",
      "6        351    173.928935\n",
      "7        352    174.357435\n",
      "8        353    174.808640\n",
      "9        354    174.451775\n",
      "10       355    174.027565\n",
      "11       356    174.805465\n",
      "12       357    174.184360\n",
      "13       358    173.937695\n",
      "14       359    174.226945\n"
     ]
    },
    {
     "name": "stderr",
     "output_type": "stream",
     "text": []
    },
    {
     "name": "stdout",
     "output_type": "stream",
     "text": [
      "API key limit reached Error code: 429 - {'error': {'message': 'Rate limit reached for model `llama3-8b-8192` in organization `org_01hzptswaffbsrqr210cddb30c` on requests per minute (RPM): Limit 30, Used 30, Requested 1. Please try again in 1.935s. Visit https://console.groq.com/docs/rate-limits for more information.', 'type': 'requests', 'code': 'rate_limit_exceeded'}}\n",
      "API key limit reached Error code: 429 - {'error': {'message': 'Rate limit reached for model `llama3-8b-8192` in organization `org_01hzptswaffbsrqr210cddb30c` on requests per minute (RPM): Limit 30, Used 30, Requested 1. Please try again in 1.232s. Visit https://console.groq.com/docs/rate-limits for more information.', 'type': 'requests', 'code': 'rate_limit_exceeded'}}\n"
     ]
    },
    {
     "name": "stderr",
     "output_type": "stream",
     "text": [
      "2it [00:24, 12.25s/it]\n",
      " 28%|██▊       | 25/89 [05:09<17:31, 16.42s/it]"
     ]
    },
    {
     "name": "stdout",
     "output_type": "stream",
     "text": [
      "   Timestamp  Fridge_power\n",
      "0     [06:43    161.471453\n",
      "1      06:44    160.769453\n",
      "2      06:45    161.674398\n",
      "3      06:46    161.067288\n",
      "4      06:47    161.474278\n",
      "5      06:48    160.787013\n",
      "6      06:49    160.737478\n",
      "7      06:50    161.592353\n",
      "8      06:51    161.159628\n",
      "9      06:52    160.837378\n",
      "10     06:53    161.289928\n",
      "11     06:54    161.742418\n",
      "12     06:55    161.227428\n",
      "13     06:56    162.137228\n",
      "14     06:57    161.857478\n"
     ]
    },
    {
     "name": "stderr",
     "output_type": "stream",
     "text": [
      "2it [00:23, 11.70s/it]\n",
      " 29%|██▉       | 26/89 [05:32<19:27, 18.53s/it]"
     ]
    },
    {
     "name": "stdout",
     "output_type": "stream",
     "text": [
      "   Timestamp  Fridge_power\n",
      "0     [06:30    173.032115\n",
      "1      06:31    172.624175\n",
      "2      06:32    173.087175\n",
      "3      06:33    172.544205\n",
      "4      06:34    173.783245\n",
      "5      06:35    172.855335\n",
      "6      06:36    173.258430\n",
      "7      06:37    172.526680\n",
      "8      06:38    173.484345\n",
      "9      06:39    172.630190\n",
      "10     06:40    172.977255\n",
      "11     06:41    172.309410\n",
      "12     06:42    173.515110\n",
      "13     06:43    173.039060\n",
      "14     06:44    173.496550\n"
     ]
    },
    {
     "name": "stderr",
     "output_type": "stream",
     "text": [
      "2it [00:09,  4.76s/it]\n",
      " 30%|███       | 27/89 [05:42<16:22, 15.84s/it]"
     ]
    },
    {
     "name": "stdout",
     "output_type": "stream",
     "text": [
      "   Timestamp  Fridge_power\n",
      "0     [06:40     75.510540\n",
      "1      06:41     74.801715\n",
      "2      06:42     75.171825\n",
      "3      06:43     74.515110\n",
      "4      06:44     73.384225\n",
      "5      06:45     73.300360\n",
      "6      06:46     74.684990\n",
      "7      06:47     74.068620\n",
      "8      06:48     74.969255\n",
      "9      06:49     76.359890\n",
      "10     06:50     77.235520\n",
      "11     06:51     78.131155\n",
      "12     06:52     79.051790\n",
      "13     06:53     79.932425\n",
      "14     06:54     80.803055\n"
     ]
    },
    {
     "name": "stderr",
     "output_type": "stream",
     "text": [
      "2it [00:12,  6.42s/it]\n",
      " 31%|███▏      | 28/89 [05:55<15:11, 14.95s/it]"
     ]
    },
    {
     "name": "stdout",
     "output_type": "stream",
     "text": [
      "   Timestamp  Fridge_power\n",
      "0      06:45    196.134765\n",
      "1      06:46    197.760435\n",
      "2      06:47    201.387295\n",
      "3      06:48    200.785415\n",
      "4      06:49    200.768270\n",
      "5      06:50    199.366595\n",
      "6      06:51    198.755500\n",
      "7      06:52    198.426080\n",
      "8      06:53    195.449725\n",
      "9      06:54    193.634240\n",
      "10     06:55    193.218205\n",
      "11     06:56    193.539450\n",
      "12     06:57    193.116895\n",
      "13     06:58    192.979525\n",
      "14     06:59    192.998470\n"
     ]
    },
    {
     "name": "stderr",
     "output_type": "stream",
     "text": [
      "2it [00:07,  3.96s/it]\n",
      " 33%|███▎      | 29/89 [06:02<12:51, 12.85s/it]"
     ]
    },
    {
     "name": "stdout",
     "output_type": "stream",
     "text": [
      "   Timestamp  Fridge_power\n",
      "0     [07:20     128.44095\n",
      "1      07:21     128.26800\n",
      "2      07:22     128.28230\n",
      "3      07:23     128.26090\n",
      "4      07:24     228.40370\n",
      "5      07:25     246.94285\n",
      "6      07:26     247.91470\n",
      "7      07:27     248.53910\n",
      "8      07:28     248.95560\n",
      "9      07:29     248.12205\n",
      "10     07:30     247.50685\n",
      "11     07:31     247.14105\n",
      "12     07:32     246.87695\n",
      "13     07:33     246.67730\n",
      "14     07:34     246.56815\n"
     ]
    },
    {
     "name": "stderr",
     "output_type": "stream",
     "text": []
    },
    {
     "name": "stdout",
     "output_type": "stream",
     "text": [
      "API key limit reached Error code: 429 - {'error': {'message': 'Rate limit reached for model `llama3-8b-8192` in organization `org_01hzptswaffbsrqr210cddb30c` on requests per minute (RPM): Limit 30, Used 30, Requested 1. Please try again in 1.898s. Visit https://console.groq.com/docs/rate-limits for more information.', 'type': 'requests', 'code': 'rate_limit_exceeded'}}\n"
     ]
    },
    {
     "name": "stderr",
     "output_type": "stream",
     "text": [
      "2it [00:56, 28.34s/it]\n",
      " 34%|███▎      | 30/89 [06:59<25:35, 26.02s/it]"
     ]
    },
    {
     "name": "stdout",
     "output_type": "stream",
     "text": [
      "   Timestamp  Fridge_power\n",
      "0     [07:29    366.963300\n",
      "1      07:30    366.870165\n",
      "2      07:31    370.780225\n",
      "3      07:32    436.112000\n",
      "4      07:33    828.575550\n",
      "5      07:34   1595.608300\n",
      "6      07:35   1866.583800\n",
      "7      07:36   1796.937700\n",
      "8      07:37   1665.131300\n",
      "9      07:38    815.832550\n",
      "10     07:39    529.164200\n",
      "11     07:40    409.679350\n",
      "12     07:41    402.141275\n",
      "13     07:42    399.344200\n",
      "14     07:43    402.020750\n"
     ]
    },
    {
     "name": "stderr",
     "output_type": "stream",
     "text": [
      "2it [00:08,  4.30s/it]\n",
      " 35%|███▍      | 31/89 [07:08<20:06, 20.80s/it]"
     ]
    },
    {
     "name": "stdout",
     "output_type": "stream",
     "text": [
      "   Timestamp  Fridge_power\n",
      "0     [07:40    202.071595\n",
      "1      07:41    200.916595\n",
      "2      07:42    199.806595\n",
      "3      07:43    198.726595\n",
      "4      07:44    197.676595\n",
      "5      07:45    196.596595\n",
      "6      07:46    195.576595\n",
      "7      07:47    194.726595\n",
      "8      07:48    193.786595\n",
      "9      07:49    192.831595\n",
      "10     07:50    191.866595\n",
      "11     07:51    190.886595\n",
      "12     07:52    189.921595\n",
      "13     07:53    188.966595\n",
      "14     07:54    188.016595\n"
     ]
    },
    {
     "name": "stderr",
     "output_type": "stream",
     "text": [
      "2it [00:12,  6.07s/it]\n",
      " 36%|███▌      | 32/89 [07:20<17:19, 18.23s/it]"
     ]
    },
    {
     "name": "stdout",
     "output_type": "stream",
     "text": [
      "   Timestamp  Fridge_power\n",
      "0       [465    217.384400\n",
      "1        466    203.622730\n",
      "2        467    205.187885\n",
      "3        468    207.759430\n",
      "4        469    207.533760\n",
      "5        470    208.426745\n",
      "6        471    208.854615\n",
      "7        472    209.550070\n",
      "8        473    210.257475\n",
      "9        474    211.117730\n",
      "10       475    211.382735\n",
      "11       476    212.333315\n",
      "12       477    212.675315\n",
      "13       478    213.561010\n",
      "14       479    213.628645\n"
     ]
    },
    {
     "name": "stderr",
     "output_type": "stream",
     "text": []
    },
    {
     "name": "stdout",
     "output_type": "stream",
     "text": [
      "API key limit reached Error code: 429 - {'error': {'message': 'Rate limit reached for model `llama3-8b-8192` in organization `org_01hzptswaffbsrqr210cddb30c` on requests per minute (RPM): Limit 30, Used 30, Requested 1. Please try again in 1.982s. Visit https://console.groq.com/docs/rate-limits for more information.', 'type': 'requests', 'code': 'rate_limit_exceeded'}}\n",
      "API key limit reached Error code: 429 - {'error': {'message': 'Rate limit reached for model `llama3-8b-8192` in organization `org_01hzptswaffbsrqr210cddb30c` on requests per minute (RPM): Limit 30, Used 30, Requested 1. Please try again in 1.985s. Visit https://console.groq.com/docs/rate-limits for more information.', 'type': 'requests', 'code': 'rate_limit_exceeded'}}\n"
     ]
    },
    {
     "name": "stderr",
     "output_type": "stream",
     "text": [
      "2it [01:17, 38.55s/it]\n",
      " 37%|███▋      | 33/89 [08:37<33:30, 35.90s/it]"
     ]
    },
    {
     "name": "stdout",
     "output_type": "stream",
     "text": [
      "   Timestamp  Fridge_power\n",
      "0     [08:30      183.0865\n",
      "1      08:31      184.1805\n",
      "2      08:32      183.8600\n",
      "3      08:33      183.2340\n",
      "4      08:34      184.3230\n",
      "5      08:35      183.5760\n",
      "6      08:36      182.4990\n",
      "7      08:37      183.5315\n",
      "8      08:38      183.0695\n",
      "9      08:39      182.3270\n",
      "10     08:40      183.7500\n",
      "11     08:41      182.8580\n",
      "12     08:42      182.5760\n",
      "13     08:43      182.0890\n",
      "14     08:44      182.7520\n"
     ]
    },
    {
     "name": "stderr",
     "output_type": "stream",
     "text": [
      "2it [00:10,  5.50s/it]\n",
      " 38%|███▊      | 34/89 [08:48<26:04, 28.44s/it]"
     ]
    },
    {
     "name": "stdout",
     "output_type": "stream",
     "text": [
      "   Timestamp  Fridge_power\n",
      "0       [495    344.224685\n",
      "1        496    347.108605\n",
      "2        497    347.317625\n",
      "3        498    345.677725\n",
      "4        499    345.933610\n",
      "5        500    347.124000\n",
      "6        501    347.342165\n",
      "7        502    345.447935\n",
      "8        503    346.713015\n",
      "9        504    348.652700\n",
      "10       505    348.064075\n",
      "11       506    346.520800\n",
      "12       507    344.802025\n",
      "13       508    345.460410\n",
      "14       509    346.054775\n"
     ]
    },
    {
     "name": "stderr",
     "output_type": "stream",
     "text": [
      "2it [00:43, 21.91s/it]\n",
      " 39%|███▉      | 35/89 [09:32<29:45, 33.07s/it]"
     ]
    },
    {
     "name": "stdout",
     "output_type": "stream",
     "text": [
      "   Timestamp  Fridge_power\n",
      "0     [08:30        424.05\n",
      "1      08:31        422.65\n",
      "2      08:32        421.85\n",
      "3      08:33        420.95\n",
      "4      08:34        419.65\n",
      "5      08:35        418.85\n",
      "6      08:36        417.95\n",
      "7      08:37        417.15\n",
      "8      08:38        416.15\n",
      "9      08:39        415.40\n",
      "10     08:40        414.50\n",
      "11     08:41        413.75\n",
      "12     08:42        412.85\n",
      "13     08:43        362.15\n",
      "14     08:44        280.00\n"
     ]
    },
    {
     "name": "stderr",
     "output_type": "stream",
     "text": [
      "2it [00:05,  2.57s/it]\n",
      " 40%|████      | 36/89 [09:37<21:49, 24.71s/it]"
     ]
    },
    {
     "name": "stdout",
     "output_type": "stream",
     "text": [
      "   Timestamp  Fridge_power\n",
      "0       [525     247.07745\n",
      "1        526     245.41785\n",
      "2        527     245.86155\n",
      "3        528     247.35565\n",
      "4        529     247.12770\n",
      "5        530     245.71755\n",
      "6        531     247.45710\n",
      "7        532     247.36665\n",
      "8        533     247.01290\n",
      "9        534     247.60745\n",
      "10       535     247.01585\n",
      "11       536     246.11295\n",
      "12       537     247.65405\n",
      "13       538     246.83165\n",
      "14       539     246.05645\n"
     ]
    },
    {
     "name": "stderr",
     "output_type": "stream",
     "text": []
    },
    {
     "name": "stdout",
     "output_type": "stream",
     "text": [
      "API key limit reached Error code: 429 - {'error': {'message': 'Rate limit reached for model `llama3-8b-8192` in organization `org_01hzptswaffbsrqr210cddb30c` on requests per minute (RPM): Limit 30, Used 30, Requested 1. Please try again in 1.903s. Visit https://console.groq.com/docs/rate-limits for more information.', 'type': 'requests', 'code': 'rate_limit_exceeded'}}\n"
     ]
    },
    {
     "name": "stderr",
     "output_type": "stream",
     "text": [
      "2it [00:16,  8.20s/it]\n",
      " 42%|████▏     | 37/89 [09:54<19:15, 22.22s/it]"
     ]
    },
    {
     "name": "stdout",
     "output_type": "stream",
     "text": [
      "   Timestamp  Fridge_power\n",
      "0       [540    244.603475\n",
      "1        541    244.164655\n",
      "2        542    244.334600\n",
      "3        543    244.797820\n",
      "4        544    244.305380\n",
      "5        545    243.800675\n",
      "6        546    245.138455\n",
      "7        547    245.087720\n",
      "8        548    244.747775\n",
      "9        549    245.868715\n",
      "10       550    245.755755\n",
      "11       551    246.598090\n",
      "12       552    246.110595\n",
      "13       553    246.105590\n",
      "14       554    247.309340\n"
     ]
    },
    {
     "name": "stderr",
     "output_type": "stream",
     "text": [
      "2it [00:05,  2.64s/it]\n",
      " 43%|████▎     | 38/89 [09:59<14:34, 17.16s/it]"
     ]
    },
    {
     "name": "stdout",
     "output_type": "stream",
     "text": [
      "   Timestamp  Fridge_power\n",
      "0       [555    247.674240\n",
      "1        556    247.101770\n",
      "2        557    247.942010\n",
      "3        558    246.899420\n",
      "4        559    246.845870\n",
      "5        560    247.740800\n",
      "6        561    247.178005\n",
      "7        562    246.696105\n",
      "8        563    245.899740\n",
      "9        564    247.321100\n",
      "10       565    247.135230\n",
      "11       566    247.715895\n",
      "12       567    246.794320\n",
      "13       568    246.624220\n",
      "14       569    247.355000\n"
     ]
    },
    {
     "name": "stderr",
     "output_type": "stream",
     "text": [
      "2it [00:05,  2.87s/it]\n",
      " 44%|████▍     | 39/89 [10:05<11:27, 13.75s/it]"
     ]
    },
    {
     "name": "stdout",
     "output_type": "stream",
     "text": [
      "   Timestamp  Fridge_power\n",
      "0       [570    423.483665\n",
      "1        571    422.402565\n",
      "2        572    421.088565\n",
      "3        573    419.800715\n",
      "4        574    418.994565\n",
      "5        575    540.335365\n",
      "6        576   1202.295315\n",
      "7        577    417.888665\n",
      "8        578    416.273465\n",
      "9        579    418.504365\n",
      "10       580    564.941715\n",
      "11       581   1211.635315\n",
      "12       582    416.499465\n",
      "13       583    414.373665\n",
      "14       584    417.333865\n"
     ]
    },
    {
     "name": "stderr",
     "output_type": "stream",
     "text": [
      "2it [00:09,  4.67s/it]\n",
      " 45%|████▍     | 40/89 [10:14<10:09, 12.44s/it]"
     ]
    },
    {
     "name": "stdout",
     "output_type": "stream",
     "text": [
      "   Timestamp  Fridge_power\n",
      "0       [585    252.438500\n",
      "1        586    252.238535\n",
      "2        587    251.874660\n",
      "3        588    252.102665\n",
      "4        589    251.647235\n",
      "5        590    252.078675\n",
      "6        591    251.526060\n",
      "7        592    250.448875\n",
      "8        593    250.527065\n",
      "9        594    250.160695\n",
      "10       595    250.388700\n",
      "11       596    249.933270\n",
      "12       597    248.490650\n",
      "13       598    248.334905\n",
      "14       599    248.912600\n"
     ]
    },
    {
     "name": "stderr",
     "output_type": "stream",
     "text": []
    },
    {
     "name": "stdout",
     "output_type": "stream",
     "text": [
      "API key limit reached Error code: 429 - {'error': {'message': 'Rate limit reached for model `llama3-8b-8192` in organization `org_01hzptswaffbsrqr210cddb30c` on requests per minute (RPM): Limit 30, Used 30, Requested 1. Please try again in 1.971s. Visit https://console.groq.com/docs/rate-limits for more information.', 'type': 'requests', 'code': 'rate_limit_exceeded'}}\n"
     ]
    },
    {
     "name": "stderr",
     "output_type": "stream",
     "text": [
      "2it [00:16,  8.10s/it]\n",
      " 46%|████▌     | 41/89 [10:30<10:51, 13.58s/it]"
     ]
    },
    {
     "name": "stdout",
     "output_type": "stream",
     "text": [
      "   Timestamp  Fridge_power\n",
      "0       [600    247.416095\n",
      "1        601    246.871000\n",
      "2        602    246.526500\n",
      "3        603    246.179000\n",
      "4        604    248.027000\n",
      "5        605    248.669500\n",
      "6        606    248.061500\n",
      "7        607    247.908500\n",
      "8        608    249.661000\n",
      "9        609    249.813000\n",
      "10       610    248.459500\n",
      "11       611    249.061500\n",
      "12       612    251.463500\n",
      "13       613    251.315500\n",
      "14       614    249.967500\n"
     ]
    },
    {
     "name": "stderr",
     "output_type": "stream",
     "text": [
      "2it [00:22, 11.36s/it]\n",
      " 47%|████▋     | 42/89 [10:53<12:47, 16.34s/it]"
     ]
    },
    {
     "name": "stdout",
     "output_type": "stream",
     "text": [
      "   Timestamp  Fridge_power\n",
      "0       [615    120.187017\n",
      "1        616    115.606004\n",
      "2        617    120.715059\n",
      "3        618    120.914451\n",
      "4        619    120.122893\n",
      "5        620    121.284638\n",
      "6        621    120.795838\n",
      "7        622    121.941889\n",
      "8        623    121.824200\n",
      "9        624    120.457112\n",
      "10       625    120.765456\n",
      "11       626    121.174698\n",
      "12       627    121.925489\n",
      "13       628    121.120839\n",
      "14       629    120.864295\n"
     ]
    },
    {
     "name": "stderr",
     "output_type": "stream",
     "text": [
      "2it [00:05,  2.59s/it]\n",
      " 48%|████▊     | 43/89 [10:58<09:58, 13.00s/it]"
     ]
    },
    {
     "name": "stdout",
     "output_type": "stream",
     "text": [
      "   Timestamp  Fridge_power\n",
      "0       [630    222.726730\n",
      "1        631    222.814785\n",
      "2        632    223.651555\n",
      "3        633    222.744625\n",
      "4        634    221.841735\n",
      "5        635    222.624955\n",
      "6        636    223.708035\n",
      "7        637    223.136725\n",
      "8        638    223.327965\n",
      "9        639    221.936975\n",
      "10       640    221.629000\n",
      "11       641    221.881855\n",
      "12       642    221.703990\n",
      "13       643    220.261195\n",
      "14       644    221.787715\n"
     ]
    },
    {
     "name": "stderr",
     "output_type": "stream",
     "text": []
    },
    {
     "name": "stdout",
     "output_type": "stream",
     "text": [
      "API key limit reached Error code: 429 - {'error': {'message': 'Rate limit reached for model `llama3-8b-8192` in organization `org_01hzptswaffbsrqr210cddb30c` on requests per minute (RPM): Limit 30, Used 30, Requested 1. Please try again in 1.987s. Visit https://console.groq.com/docs/rate-limits for more information.', 'type': 'requests', 'code': 'rate_limit_exceeded'}}\n"
     ]
    },
    {
     "name": "stderr",
     "output_type": "stream",
     "text": [
      "2it [00:25, 12.97s/it]\n",
      " 49%|████▉     | 44/89 [11:24<12:40, 16.90s/it]"
     ]
    },
    {
     "name": "stdout",
     "output_type": "stream",
     "text": [
      "   Timestamp  Fridge_power\n",
      "0       [645     341.90351\n",
      "1        646     404.56080\n",
      "2        647     405.09550\n",
      "3        648     403.50060\n",
      "4        649     402.53070\n",
      "5        650     401.69580\n",
      "6        651     401.12090\n",
      "7        652     400.72560\n",
      "8        653     399.45070\n",
      "9        654     399.12580\n",
      "10       655     398.64090\n",
      "11       656     398.78600\n",
      "12       657     397.74110\n",
      "13       658     398.43120\n",
      "14       659     396.69130\n"
     ]
    },
    {
     "name": "stderr",
     "output_type": "stream",
     "text": [
      "2it [00:05,  2.61s/it]\n",
      " 51%|█████     | 45/89 [11:30<09:50, 13.41s/it]"
     ]
    },
    {
     "name": "stdout",
     "output_type": "stream",
     "text": [
      "   Timestamp  Fridge_power\n",
      "0        660    129.252190\n",
      "1        661    128.252985\n",
      "2        662    129.484060\n",
      "3        663    128.474610\n",
      "4        664    127.740685\n",
      "5        665    127.030100\n",
      "6        666    128.362490\n",
      "7        667    127.197625\n",
      "8        668    126.404000\n",
      "9        669    127.447980\n",
      "10       670    127.150800\n",
      "11       671    126.112860\n",
      "12       672    127.658210\n",
      "13       673    126.849565\n",
      "14       674    127.972900\n"
     ]
    },
    {
     "name": "stderr",
     "output_type": "stream",
     "text": [
      "2it [00:05,  2.57s/it]\n",
      " 52%|█████▏    | 46/89 [11:35<07:50, 10.95s/it]"
     ]
    },
    {
     "name": "stdout",
     "output_type": "stream",
     "text": [
      "   Timestamp  Fridge_power\n",
      "0        675    173.787810\n",
      "1        676    173.932813\n",
      "2        677    174.007781\n",
      "3        678    174.002813\n",
      "4        679    174.032812\n",
      "5        680    174.208750\n",
      "6        681    174.340312\n",
      "7        682    175.105031\n",
      "8        683    174.727500\n",
      "9        684    174.987812\n",
      "10       685    174.950312\n",
      "11       686    175.187531\n",
      "12       687    175.687500\n",
      "13       688    175.640312\n",
      "14       689    175.660313\n"
     ]
    },
    {
     "name": "stderr",
     "output_type": "stream",
     "text": [
      "2it [00:08,  4.10s/it]\n",
      " 53%|█████▎    | 47/89 [11:43<07:05, 10.13s/it]"
     ]
    },
    {
     "name": "stdout",
     "output_type": "stream",
     "text": [
      "   Timestamp  Fridge_power\n",
      "0        690     130.55055\n",
      "1        691     130.27555\n",
      "2        692     131.84930\n",
      "3        693     130.69455\n",
      "4        694     130.42525\n",
      "5        695     130.27405\n",
      "6        696     131.15170\n",
      "7        697     130.54075\n",
      "8        698     130.57475\n",
      "9        699     131.12630\n",
      "10       700     130.83795\n",
      "11       701     130.52775\n",
      "12       702     131.11070\n",
      "13       703     130.63740\n",
      "14       704     130.68470\n"
     ]
    },
    {
     "name": "stderr",
     "output_type": "stream",
     "text": [
      "2it [00:11,  5.52s/it]\n",
      " 54%|█████▍    | 48/89 [11:54<07:06, 10.41s/it]"
     ]
    },
    {
     "name": "stdout",
     "output_type": "stream",
     "text": [
      "   Timestamp  Fridge_power\n",
      "0     [11:45     75.113770\n",
      "1      11:46     74.815665\n",
      "2      11:47     75.046875\n",
      "3      11:48     76.221875\n",
      "4      11:49     75.757130\n",
      "5      11:50     75.709960\n",
      "6      11:51     76.230625\n",
      "7      11:52     77.076565\n",
      "8      11:53     76.646875\n",
      "9      11:54     76.109535\n",
      "10     11:55     76.220940\n",
      "11     11:56     78.559145\n",
      "12     11:57     78.321250\n",
      "13     11:58    106.278330\n",
      "14     11:59    200.222655\n"
     ]
    },
    {
     "name": "stderr",
     "output_type": "stream",
     "text": [
      "2it [00:13,  6.93s/it]\n",
      " 55%|█████▌    | 49/89 [12:08<07:38, 11.46s/it]"
     ]
    },
    {
     "name": "stdout",
     "output_type": "stream",
     "text": [
      "   Timestamp  Fridge_power\n",
      "0       [720       352.850\n",
      "1        721       350.770\n",
      "2        722       348.135\n",
      "3        723       346.380\n",
      "4        724       345.200\n",
      "5        725       344.490\n",
      "6        726       343.625\n",
      "7        727       340.815\n",
      "8        728       339.635\n",
      "9        729       338.900\n",
      "10       730       338.055\n",
      "11       731       335.205\n",
      "12       732       332.355\n",
      "13       733       330.475\n",
      "14       734       328.650\n"
     ]
    },
    {
     "name": "stderr",
     "output_type": "stream",
     "text": [
      "2it [00:13,  6.90s/it]\n",
      " 56%|█████▌    | 50/89 [12:22<07:54, 12.18s/it]"
     ]
    },
    {
     "name": "stdout",
     "output_type": "stream",
     "text": [
      "   Timestamp  Fridge_power\n",
      "0       [735    169.727755\n",
      "1        736    170.013145\n",
      "2        737    169.283625\n",
      "3        738    169.353360\n",
      "4        739    169.861660\n",
      "5        740    169.248465\n",
      "6        741    168.812335\n",
      "7        742    169.093470\n",
      "8        743    169.563550\n",
      "9        744    168.831755\n",
      "10       745    169.316440\n",
      "11       746    168.610375\n",
      "12       747    168.406110\n",
      "13       748    168.703570\n",
      "14       749    169.249875\n"
     ]
    },
    {
     "name": "stderr",
     "output_type": "stream",
     "text": [
      "2it [00:08,  4.01s/it]\n",
      " 57%|█████▋    | 51/89 [12:30<06:56, 10.95s/it]"
     ]
    },
    {
     "name": "stdout",
     "output_type": "stream",
     "text": [
      "   Timestamp  Fridge_power\n",
      "0     [12:30    165.805545\n",
      "1      12:31    167.882120\n",
      "2      12:32    168.657655\n",
      "3      12:33    167.968190\n",
      "4      12:34    167.603725\n",
      "5      12:35    168.409260\n",
      "6      12:36    169.364795\n",
      "7      12:37    168.955330\n",
      "8      12:38    168.650865\n",
      "9      12:39    169.051400\n",
      "10     12:40    168.546935\n",
      "11     12:41    168.737470\n",
      "12     12:42    169.172995\n",
      "13     12:43    169.823530\n",
      "14     12:44    170.214065\n"
     ]
    },
    {
     "name": "stderr",
     "output_type": "stream",
     "text": [
      "2it [00:07,  4.00s/it]\n",
      " 58%|█████▊    | 52/89 [12:38<06:12, 10.07s/it]"
     ]
    },
    {
     "name": "stdout",
     "output_type": "stream",
     "text": [
      "   Timestamp  Fridge_power\n",
      "0        765    174.689170\n",
      "1        766    177.597695\n",
      "2        767    176.017860\n",
      "3        768    176.120755\n",
      "4        769    175.260895\n",
      "5        770    177.590670\n",
      "6        771    176.552415\n",
      "7        772    175.247840\n",
      "8        773    176.469795\n",
      "9        774    176.770695\n",
      "10       775    176.924735\n",
      "11       776    176.777515\n",
      "12       777    177.214660\n",
      "13       778    176.416095\n",
      "14       779    176.498585\n"
     ]
    },
    {
     "name": "stderr",
     "output_type": "stream",
     "text": [
      "2it [00:05,  2.65s/it]\n",
      " 60%|█████▉    | 53/89 [12:43<05:11,  8.65s/it]"
     ]
    },
    {
     "name": "stdout",
     "output_type": "stream",
     "text": [
      "   Timestamp  Fridge_power\n",
      "0        780    292.344015\n",
      "1        781    291.842970\n",
      "2        782    291.726575\n",
      "3        783    291.911430\n",
      "4        784    291.713085\n",
      "5        785    291.885850\n",
      "6        786    291.639665\n",
      "7        787    291.613980\n",
      "8        788    291.296245\n",
      "9        789    291.015550\n",
      "10       790    290.726655\n",
      "11       791    290.435700\n",
      "12       792    290.152085\n",
      "13       793    289.886605\n",
      "14       794    289.623465\n"
     ]
    },
    {
     "name": "stderr",
     "output_type": "stream",
     "text": [
      "2it [00:10,  5.30s/it]\n",
      " 61%|██████    | 54/89 [12:54<05:23,  9.25s/it]"
     ]
    },
    {
     "name": "stdout",
     "output_type": "stream",
     "text": [
      "   Timestamp  Fridge_power\n",
      "0        795    244.599375\n",
      "1        796    245.277000\n",
      "2        797    245.778375\n",
      "3        798    245.193935\n",
      "4        799    244.812500\n",
      "5        800    245.214690\n",
      "6        801    244.404065\n",
      "7        802    245.314375\n",
      "8        803    244.187940\n",
      "9        804    244.933125\n",
      "10       805    243.008125\n",
      "11       806    244.141250\n",
      "12       807    243.196565\n",
      "13       808    243.555315\n",
      "14       809    242.971875\n"
     ]
    },
    {
     "name": "stderr",
     "output_type": "stream",
     "text": [
      "2it [00:08,  4.07s/it]\n",
      " 62%|██████▏   | 55/89 [13:02<05:03,  8.93s/it]"
     ]
    },
    {
     "name": "stdout",
     "output_type": "stream",
     "text": [
      "    Timestamp  Fridge_power\n",
      "0   [13:47:30      9.735855\n",
      "1    13:47:31      9.402915\n",
      "2    13:47:32      9.384865\n",
      "3    13:47:33      9.337395\n",
      "4    13:47:34      9.126915\n",
      "5    13:47:35      9.054695\n",
      "6    13:47:36      9.260925\n",
      "7    13:47:37      9.011690\n",
      "8    13:47:38      9.132345\n",
      "9    13:47:39      9.334695\n",
      "10   13:47:40      9.564435\n",
      "11   13:47:41      9.315580\n",
      "12   13:47:42      9.272115\n",
      "13   13:47:43      9.189675\n",
      "14   13:47:44      9.341260\n"
     ]
    },
    {
     "name": "stderr",
     "output_type": "stream",
     "text": [
      "2it [00:05,  2.62s/it]\n",
      " 63%|██████▎   | 56/89 [13:08<04:18,  7.84s/it]"
     ]
    },
    {
     "name": "stdout",
     "output_type": "stream",
     "text": [
      "   Timestamp  Fridge_power\n",
      "0       [825    247.001065\n",
      "1        826    247.228120\n",
      "2        827    248.428135\n",
      "3        828    248.858490\n",
      "4        829    248.061175\n",
      "5        830    247.550800\n",
      "6        831    249.016105\n",
      "7        832    248.423055\n",
      "8        833    247.189690\n",
      "9        834    247.815790\n",
      "10       835    247.555845\n",
      "11       836    248.328585\n",
      "12       837    248.243795\n",
      "13       838    247.352492\n",
      "14       839    248.329845\n"
     ]
    },
    {
     "name": "stderr",
     "output_type": "stream",
     "text": [
      "2it [00:08,  4.05s/it]\n",
      " 64%|██████▍   | 57/89 [13:16<04:13,  7.94s/it]"
     ]
    },
    {
     "name": "stdout",
     "output_type": "stream",
     "text": [
      "   Timestamp  Fridge_power\n",
      "0     [14:40     79.605700\n",
      "1      14:41     78.334540\n",
      "2      14:42     77.845930\n",
      "3      14:43     79.324665\n",
      "4      14:44     77.725945\n",
      "5      14:45     78.819100\n",
      "6      14:46     81.124925\n",
      "7      14:47     78.364570\n",
      "8      14:48     78.644780\n",
      "9      14:49     80.324710\n",
      "10     14:50     80.490500\n",
      "11     14:51     79.999560\n",
      "12     14:52     79.724690\n",
      "13     14:53     81.350560\n",
      "14     14:54     80.565590\n"
     ]
    },
    {
     "name": "stderr",
     "output_type": "stream",
     "text": [
      "2it [00:13,  6.91s/it]\n",
      " 65%|██████▌   | 58/89 [13:30<05:01,  9.71s/it]"
     ]
    },
    {
     "name": "stdout",
     "output_type": "stream",
     "text": [
      "   Timestamp  Fridge_power\n",
      "0     [14:30    353.701350\n",
      "1      14:31    353.598350\n",
      "2      14:32    353.178920\n",
      "3      14:33    353.777690\n",
      "4      14:34    355.195925\n",
      "5      14:35    356.741780\n",
      "6      14:36    357.216650\n",
      "7      14:37    358.756635\n",
      "8      14:38    360.264075\n",
      "9      14:39    362.086875\n",
      "10     14:40    362.690875\n",
      "11     14:41    364.576575\n",
      "12     14:42    366.740735\n",
      "13     14:43    369.541145\n",
      "14     14:44    368.645995\n"
     ]
    },
    {
     "name": "stderr",
     "output_type": "stream",
     "text": [
      "2it [00:13,  6.90s/it]\n",
      " 66%|██████▋   | 59/89 [13:43<05:28, 10.95s/it]"
     ]
    },
    {
     "name": "stdout",
     "output_type": "stream",
     "text": [
      "   Timestamp  Fridge_power\n",
      "0     [14:30    123.731156\n",
      "1      14:31    123.746506\n",
      "2      14:32    123.736861\n",
      "3      14:33    123.737522\n",
      "4      14:34    123.743194\n",
      "5      14:35    123.739013\n",
      "6      14:36    123.760183\n",
      "7      14:37    123.746512\n",
      "8      14:38    123.742699\n",
      "9      14:39    123.759006\n",
      "10     14:40    123.755184\n",
      "11     14:41    123.741536\n",
      "12     14:42    123.742871\n",
      "13     14:43    123.749206\n",
      "14     14:44    123.755542\n"
     ]
    },
    {
     "name": "stderr",
     "output_type": "stream",
     "text": [
      "2it [00:11,  5.81s/it]\n",
      " 67%|██████▋   | 60/89 [13:55<05:23, 11.16s/it]"
     ]
    },
    {
     "name": "stdout",
     "output_type": "stream",
     "text": [
      "   Timestamp  Fridge_power\n",
      "0       [885    241.165830\n",
      "1        886    241.272915\n",
      "2        887    241.950510\n",
      "3        888    242.632270\n",
      "4        889    241.597670\n",
      "5        890    242.488160\n",
      "6        891    243.586725\n",
      "7        892    243.241180\n",
      "8        893    243.434775\n",
      "9        894    243.392555\n",
      "10       895    243.682925\n",
      "11       896    243.799365\n",
      "12       897    244.091865\n",
      "13       898    242.773135\n",
      "14       899    243.717710\n"
     ]
    },
    {
     "name": "stderr",
     "output_type": "stream",
     "text": [
      "2it [00:05,  2.65s/it]\n",
      " 69%|██████▊   | 61/89 [14:00<04:23,  9.42s/it]"
     ]
    },
    {
     "name": "stdout",
     "output_type": "stream",
     "text": [
      "   Timestamp  Fridge_power\n",
      "0       [900    241.267835\n",
      "1        901    242.223425\n",
      "2        902    241.906885\n",
      "3        903    241.669660\n",
      "4        904    242.082375\n",
      "5        905    241.685450\n",
      "6        906    242.410350\n",
      "7        907    241.424660\n",
      "8        908    241.723200\n",
      "9        909    241.415320\n",
      "10       910    241.134760\n",
      "11       911    240.967375\n",
      "12       912    241.296075\n",
      "13       913    241.839460\n",
      "14       914    241.972850\n"
     ]
    },
    {
     "name": "stderr",
     "output_type": "stream",
     "text": []
    },
    {
     "name": "stdout",
     "output_type": "stream",
     "text": [
      "API key limit reached Error code: 429 - {'error': {'message': 'Rate limit reached for model `llama3-8b-8192` in organization `org_01hzptswaffbsrqr210cddb30c` on requests per minute (RPM): Limit 30, Used 30, Requested 1. Please try again in 1.651s. Visit https://console.groq.com/docs/rate-limits for more information.', 'type': 'requests', 'code': 'rate_limit_exceeded'}}\n"
     ]
    },
    {
     "name": "stderr",
     "output_type": "stream",
     "text": [
      "2it [00:15,  7.76s/it]\n",
      " 70%|██████▉   | 62/89 [14:16<05:04, 11.26s/it]"
     ]
    },
    {
     "name": "stdout",
     "output_type": "stream",
     "text": [
      "   Timestamp  Fridge_power\n",
      "0        915    233.183675\n",
      "1        916    233.287625\n",
      "2        917    233.266905\n",
      "3        918    233.241005\n",
      "4        919    225.843510\n",
      "5        920    225.492505\n",
      "6        921    225.013405\n",
      "7        922    224.521485\n",
      "8        923    224.050060\n",
      "9        924    223.540845\n",
      "10       925    223.060310\n",
      "11       926    222.597795\n",
      "12       927    222.136765\n",
      "13       928    221.681265\n",
      "14       929    221.233280\n"
     ]
    },
    {
     "name": "stderr",
     "output_type": "stream",
     "text": []
    },
    {
     "name": "stdout",
     "output_type": "stream",
     "text": [
      "API key limit reached Error code: 429 - {'error': {'message': 'Rate limit reached for model `llama3-8b-8192` in organization `org_01hzptswaffbsrqr210cddb30c` on requests per minute (RPM): Limit 30, Used 30, Requested 1. Please try again in 1.94s. Visit https://console.groq.com/docs/rate-limits for more information.', 'type': 'requests', 'code': 'rate_limit_exceeded'}}\n",
      "API key limit reached Error code: 429 - {'error': {'message': 'Rate limit reached for model `llama3-8b-8192` in organization `org_01hzptswaffbsrqr210cddb30c` on requests per minute (RPM): Limit 30, Used 30, Requested 1. Please try again in 1.844s. Visit https://console.groq.com/docs/rate-limits for more information.', 'type': 'requests', 'code': 'rate_limit_exceeded'}}\n",
      "API key limit reached Error code: 429 - {'error': {'message': 'Rate limit reached for model `llama3-8b-8192` in organization `org_01hzptswaffbsrqr210cddb30c` on requests per minute (RPM): Limit 30, Used 30, Requested 1. Please try again in 1.99s. Visit https://console.groq.com/docs/rate-limits for more information.', 'type': 'requests', 'code': 'rate_limit_exceeded'}}\n"
     ]
    },
    {
     "name": "stderr",
     "output_type": "stream",
     "text": [
      "2it [00:33, 16.52s/it]\n",
      " 71%|███████   | 63/89 [14:49<07:43, 17.82s/it]"
     ]
    },
    {
     "name": "stdout",
     "output_type": "stream",
     "text": [
      "   Timestamp  Fridge_power\n",
      "0     [15:46    249.724185\n",
      "1      15:47    251.343610\n",
      "2      15:48    252.165840\n",
      "3      15:49    250.765575\n",
      "4      15:50    249.728360\n",
      "5      15:51    250.412790\n",
      "6      15:52    250.547525\n",
      "7      15:53    251.967790\n",
      "8      15:54    252.495525\n",
      "9      15:55    253.455110\n",
      "10     15:56    253.093610\n",
      "11     15:57    251.575740\n",
      "12     15:58    251.752510\n",
      "13     15:59    254.129765\n",
      "14     16:00    258.860225\n"
     ]
    },
    {
     "name": "stderr",
     "output_type": "stream",
     "text": [
      "2it [00:10,  5.25s/it]\n",
      " 72%|███████▏  | 64/89 [15:00<06:30, 15.63s/it]"
     ]
    },
    {
     "name": "stdout",
     "output_type": "stream",
     "text": [
      "   Timestamp  Fridge_power\n",
      "0       [945    249.480535\n",
      "1        946    251.105345\n",
      "2        947    252.681865\n",
      "3        948    251.359870\n",
      "4        949    252.406155\n",
      "5        950    253.604465\n",
      "6        951    255.363225\n",
      "7        952    256.673185\n",
      "8        953    256.239005\n",
      "9        954    257.750525\n",
      "10       955    259.070385\n",
      "11       956    258.442755\n",
      "12       957    260.166015\n",
      "13       958    262.140225\n",
      "14       959    263.965835\n"
     ]
    },
    {
     "name": "stderr",
     "output_type": "stream",
     "text": [
      "2it [00:11,  5.62s/it]\n",
      " 73%|███████▎  | 65/89 [15:11<05:43, 14.33s/it]"
     ]
    },
    {
     "name": "stdout",
     "output_type": "stream",
     "text": [
      "   Timestamp  Fridge_power\n",
      "0     [16:00    317.310825\n",
      "1      16:01    317.827450\n",
      "2      16:02    317.282790\n",
      "3      16:03    317.137805\n",
      "4      16:04    316.761190\n",
      "5      16:05    316.890835\n",
      "6      16:06    316.158760\n",
      "7      16:07    317.723415\n",
      "8      16:08    317.782065\n",
      "9      16:09    315.377165\n",
      "10     16:10    316.172620\n",
      "11     16:11    318.403090\n",
      "12     16:12    317.870990\n",
      "13     16:13    468.295810\n",
      "14     16:14    484.007800\n"
     ]
    },
    {
     "name": "stderr",
     "output_type": "stream",
     "text": [
      "2it [00:11,  5.51s/it]\n",
      " 74%|███████▍  | 66/89 [15:22<05:07, 13.35s/it]"
     ]
    },
    {
     "name": "stdout",
     "output_type": "stream",
     "text": [
      "          Timestamp  Fridge_power\n",
      "0   17:15:59.000000    294.469955\n",
      "1   17:16:00.000000    294.095190\n",
      "2   17:17:01.000000    292.732245\n",
      "3   17:18:02.000000    292.360730\n",
      "4   17:19:03.000000    291.498075\n",
      "5   17:20:04.000000    290.635270\n",
      "6   17:21:05.000000    289.773425\n",
      "7   17:22:06.000000    288.912250\n",
      "8   17:23:07.000000    287.549650\n",
      "9   17:24:08.000000    286.188615\n",
      "10  17:25:09.000000    284.825745\n",
      "11  17:26:10.000000    283.463675\n",
      "12  17:27:11.000000    282.102435\n",
      "13  17:28:12.000000    280.240130\n",
      "14  17:29:13.000000    278.878300\n"
     ]
    },
    {
     "name": "stderr",
     "output_type": "stream",
     "text": [
      "2it [00:05,  2.66s/it]\n",
      " 75%|███████▌  | 67/89 [15:27<04:01, 10.96s/it]"
     ]
    },
    {
     "name": "stdout",
     "output_type": "stream",
     "text": [
      "   Timestamp  Fridge_power\n",
      "0     [16:30    288.830440\n",
      "1      16:31    291.934150\n",
      "2      16:32    291.251620\n",
      "3      16:33    290.313055\n",
      "4      16:34    290.849440\n",
      "5      16:35    291.825200\n",
      "6      16:36    292.177135\n",
      "7      16:37    291.937850\n",
      "8      16:38    291.663285\n",
      "9      16:39    292.145440\n",
      "10     16:40    292.287485\n",
      "11     16:41    290.123040\n",
      "12     16:42    290.295950\n",
      "13     16:43    291.677260\n",
      "14     16:44    290.996445\n"
     ]
    },
    {
     "name": "stderr",
     "output_type": "stream",
     "text": [
      "2it [00:03,  1.84s/it]\n",
      " 76%|███████▋  | 68/89 [15:31<03:04,  8.79s/it]"
     ]
    },
    {
     "name": "stdout",
     "output_type": "stream",
     "text": [
      "   Timestamp  Fridge_power\n",
      "0      [1005    290.738905\n",
      "1       1006    291.802830\n",
      "2       1007    290.065185\n",
      "3       1008    290.811375\n",
      "4       1009    291.909420\n",
      "5       1010    296.956570\n",
      "6       1011    299.035860\n",
      "7       1012    291.518120\n",
      "8       1013    291.784415\n",
      "9       1014    293.497105\n",
      "10      1015    294.988165\n",
      "11      1016    295.211135\n",
      "12      1017    292.554285\n",
      "13      1018    292.744790\n",
      "14      1019    292.965665\n"
     ]
    },
    {
     "name": "stderr",
     "output_type": "stream",
     "text": [
      "2it [00:12,  6.03s/it]\n",
      " 78%|███████▊  | 69/89 [15:43<03:15,  9.78s/it]"
     ]
    },
    {
     "name": "stdout",
     "output_type": "stream",
     "text": [
      "   Timestamp  Fridge_power\n",
      "0       1020    129.221690\n",
      "1       1021    129.385970\n",
      "2       1022    129.570765\n",
      "3       1023    128.745750\n",
      "4       1024    128.923555\n",
      "5       1025    129.582905\n",
      "6       1026    130.284500\n",
      "7       1027    129.157420\n",
      "8       1028    128.477285\n",
      "9       1029    128.720495\n",
      "10      1030    131.187450\n",
      "11      1031    130.237315\n",
      "12      1032    130.780250\n",
      "13      1033    128.835865\n",
      "14      1034    129.721750\n"
     ]
    },
    {
     "name": "stderr",
     "output_type": "stream",
     "text": [
      "2it [00:08,  4.02s/it]\n",
      " 79%|███████▊  | 70/89 [15:51<02:56,  9.27s/it]"
     ]
    },
    {
     "name": "stdout",
     "output_type": "stream",
     "text": [
      "   Timestamp  Fridge_power\n",
      "0       1035     60.842778\n",
      "1       1036     61.145833\n",
      "2       1037     61.673056\n",
      "3       1038     62.229722\n",
      "4       1039     62.897222\n",
      "5       1040     63.536111\n",
      "6       1041     64.180556\n",
      "7       1042     64.781806\n",
      "8       1043     65.475000\n",
      "9       1044     66.119722\n",
      "10      1045     66.775000\n",
      "11      1046     67.398056\n",
      "12      1047     68.116667\n",
      "13      1048     68.781667\n",
      "14      1049     69.472222\n"
     ]
    },
    {
     "name": "stderr",
     "output_type": "stream",
     "text": [
      "2it [00:05,  2.88s/it]\n",
      " 80%|███████▉  | 71/89 [15:57<02:28,  8.23s/it]"
     ]
    },
    {
     "name": "stdout",
     "output_type": "stream",
     "text": [
      "   Timestamp  Fridge_power\n",
      "0       1050    275.493085\n",
      "1       1051    272.769120\n",
      "2       1052    233.447285\n",
      "3       1053    390.893820\n",
      "4       1054    384.284195\n",
      "5       1055    389.983770\n",
      "6       1056    390.481595\n",
      "7       1057    388.195605\n",
      "8       1058    393.692320\n",
      "9       1059    384.705305\n",
      "10      1060    355.652330\n",
      "11      1061    286.243160\n",
      "12      1062    281.500535\n",
      "13      1063    289.002535\n",
      "14      1064    282.804595\n"
     ]
    },
    {
     "name": "stderr",
     "output_type": "stream",
     "text": [
      "2it [00:18,  9.34s/it]\n",
      " 81%|████████  | 72/89 [16:16<03:13, 11.38s/it]"
     ]
    },
    {
     "name": "stdout",
     "output_type": "stream",
     "text": [
      "   Timestamp  Fridge_power\n",
      "0       1065    293.142750\n",
      "1       1066    292.395725\n",
      "2       1067    292.914700\n",
      "3       1068    292.627200\n",
      "4       1069    292.624600\n",
      "5       1070    293.941450\n",
      "6       1071    292.537600\n",
      "7       1072    293.321400\n",
      "8       1073    292.844800\n",
      "9       1074    294.002450\n",
      "10      1075    290.882350\n",
      "11      1076    292.393050\n",
      "12      1077    294.172100\n",
      "13      1078    293.031450\n",
      "14      1079    292.664550\n"
     ]
    },
    {
     "name": "stderr",
     "output_type": "stream",
     "text": [
      "2it [00:07,  3.99s/it]\n",
      " 82%|████████▏ | 73/89 [16:24<02:45, 10.37s/it]"
     ]
    },
    {
     "name": "stdout",
     "output_type": "stream",
     "text": [
      "   Timestamp  Fridge_power\n",
      "0      [1080    360.843285\n",
      "1       1081    362.501590\n",
      "2       1082    363.600937\n",
      "3       1083    361.522187\n",
      "4       1084    362.550500\n",
      "5       1085    363.911062\n",
      "6       1086    362.334420\n",
      "7       1087    362.534587\n",
      "8       1088    361.292750\n",
      "9       1089    361.916500\n",
      "10      1090    363.551250\n",
      "11      1091    361.938437\n",
      "12      1092    363.088188\n",
      "13      1093    363.621487\n",
      "14      1094    362.730750\n"
     ]
    },
    {
     "name": "stderr",
     "output_type": "stream",
     "text": [
      "2it [00:06,  3.01s/it]\n",
      " 83%|████████▎ | 74/89 [16:30<02:16,  9.08s/it]"
     ]
    },
    {
     "name": "stdout",
     "output_type": "stream",
     "text": [
      "   Timestamp  Fridge_power\n",
      "0      [1095    397.950095\n",
      "1       1096    395.342970\n",
      "2       1097    397.003590\n",
      "3       1098    394.738575\n",
      "4       1099    396.196025\n",
      "5       1100    394.666390\n",
      "6       1101    391.335075\n",
      "7       1102    395.323940\n",
      "8       1103    392.469340\n",
      "9       1104    397.648640\n",
      "10      1105    392.083305\n",
      "11      1106    397.014920\n",
      "12      1107    396.248425\n",
      "13      1108    395.471475\n",
      "14      1109    394.043855\n"
     ]
    },
    {
     "name": "stderr",
     "output_type": "stream",
     "text": [
      "2it [00:05,  2.56s/it]\n",
      " 84%|████████▍ | 75/89 [16:35<01:50,  7.90s/it]"
     ]
    },
    {
     "name": "stdout",
     "output_type": "stream",
     "text": [
      "   Timestamp  Fridge_power\n",
      "0      [1110     554.69600\n",
      "1       1111     547.02925\n",
      "2       1112     541.85125\n",
      "3       1113     548.40435\n",
      "4       1114     547.88470\n",
      "5       1115     547.49760\n",
      "6       1116     553.73565\n",
      "7       1117     555.57115\n",
      "8       1118     552.65055\n",
      "9       1119     547.48450\n",
      "10      1120     543.50620\n",
      "11      1121     544.24720\n",
      "12      1122     544.26745\n",
      "13      1123     541.83565\n",
      "14      1124     536.92805\n"
     ]
    },
    {
     "name": "stderr",
     "output_type": "stream",
     "text": [
      "\n"
     ]
    },
    {
     "name": "stdout",
     "output_type": "stream",
     "text": [
      "API key limit reached Error code: 429 - {'error': {'message': 'Rate limit reached for model `llama3-8b-8192` in organization `org_01hzptswaffbsrqr210cddb30c` on requests per minute (RPM): Limit 30, Used 30, Requested 1. Please try again in 1.887s. Visit https://console.groq.com/docs/rate-limits for more information.', 'type': 'requests', 'code': 'rate_limit_exceeded'}}\n"
     ]
    },
    {
     "name": "stderr",
     "output_type": "stream",
     "text": [
      "2it [00:08,  4.44s/it]\u001b[A\n",
      " 85%|████████▌ | 76/89 [16:44<01:46,  8.21s/it]"
     ]
    },
    {
     "name": "stdout",
     "output_type": "stream",
     "text": [
      "   Timestamp  Fridge_power\n",
      "0      [1125    340.230185\n",
      "1       1126    337.542515\n",
      "2       1127    336.861805\n",
      "3       1128    334.247840\n",
      "4       1129    331.893960\n",
      "5       1130    329.018760\n",
      "6       1131    327.297695\n",
      "7       1132    326.533760\n",
      "8       1133    324.916675\n",
      "9       1134    323.445320\n",
      "10      1135    321.246755\n",
      "11      1136    318.875005\n",
      "12      1137    316.945450\n",
      "13      1138    314.804635\n",
      "14      1139    314.688285\n"
     ]
    },
    {
     "name": "stderr",
     "output_type": "stream",
     "text": [
      "2it [00:06,  3.02s/it]\n",
      " 87%|████████▋ | 77/89 [16:50<01:30,  7.57s/it]"
     ]
    },
    {
     "name": "stdout",
     "output_type": "stream",
     "text": [
      "   Timestamp  Fridge_power\n",
      "0       1140    320.238605\n",
      "1       1141    318.394160\n",
      "2       1142    315.024320\n",
      "3       1143    313.999415\n",
      "4       1144    314.287705\n",
      "5       1145    310.812195\n",
      "6       1146    312.768245\n",
      "7       1147    310.730175\n",
      "8       1148    310.383585\n",
      "9       1149    310.975775\n",
      "10      1150    309.793825\n",
      "11      1151    308.511575\n",
      "12      1152    307.133345\n",
      "13      1153    308.180545\n",
      "14      1154    306.425705\n"
     ]
    },
    {
     "name": "stderr",
     "output_type": "stream",
     "text": [
      "2it [00:08,  4.07s/it]\n",
      " 88%|████████▊ | 78/89 [16:58<01:25,  7.76s/it]"
     ]
    },
    {
     "name": "stdout",
     "output_type": "stream",
     "text": [
      "   Timestamp  Fridge_power\n",
      "0       1155    213.375763\n",
      "1       1156    213.334017\n",
      "2       1157    213.128674\n",
      "3       1158    212.910071\n",
      "4       1159    212.721897\n",
      "5       1160    212.053812\n",
      "6       1161    210.870242\n",
      "7       1162    210.686322\n",
      "8       1163    210.351902\n",
      "9       1164    210.178798\n",
      "10      1165    209.497208\n",
      "11      1166    209.335635\n",
      "12      1167    209.147915\n",
      "13      1168    208.968417\n",
      "14      1169    208.797545\n"
     ]
    },
    {
     "name": "stderr",
     "output_type": "stream",
     "text": [
      "2it [00:08,  4.36s/it]\n",
      " 89%|████████▉ | 79/89 [17:07<01:20,  8.06s/it]"
     ]
    },
    {
     "name": "stdout",
     "output_type": "stream",
     "text": [
      "   Timestamp  Fridge_power\n",
      "0       1170     86.792045\n",
      "1       1171     87.337390\n",
      "2       1172     87.397455\n",
      "3       1173     87.078600\n",
      "4       1174     86.933500\n",
      "5       1175     85.870615\n",
      "6       1176     86.436610\n",
      "7       1177     85.567740\n",
      "8       1178     86.187190\n",
      "9       1179     86.637745\n",
      "10      1180     84.586710\n",
      "11      1181     85.206375\n",
      "12      1182     86.043400\n",
      "13      1183     86.331385\n",
      "14      1184     86.609525\n"
     ]
    },
    {
     "name": "stderr",
     "output_type": "stream",
     "text": [
      "2it [00:05,  2.62s/it]\n",
      " 90%|████████▉ | 80/89 [17:12<01:05,  7.23s/it]"
     ]
    },
    {
     "name": "stdout",
     "output_type": "stream",
     "text": [
      "   Timestamp  Fridge_power\n",
      "0       1185       168.740\n",
      "1       1186       170.010\n",
      "2       1187       169.495\n",
      "3       1188       170.860\n",
      "4       1189       169.810\n",
      "5       1190       169.870\n",
      "6       1191       170.890\n",
      "7       1192       171.360\n",
      "8       1193       171.260\n",
      "9       1194       170.545\n",
      "10      1195       170.440\n",
      "11      1196       170.725\n",
      "12      1197       170.610\n",
      "13      1198       169.895\n",
      "14      1199       170.180\n"
     ]
    },
    {
     "name": "stderr",
     "output_type": "stream",
     "text": [
      "2it [00:05,  2.59s/it]\n",
      " 91%|█████████ | 81/89 [17:18<00:53,  6.63s/it]"
     ]
    },
    {
     "name": "stdout",
     "output_type": "stream",
     "text": [
      "   Timestamp  Fridge_power\n",
      "0       1200    169.372500\n",
      "1       1201    169.746700\n",
      "2       1202    169.525937\n",
      "3       1203    169.298438\n",
      "4       1204    168.965937\n",
      "5       1205    168.522688\n",
      "6       1206    169.207687\n",
      "7       1207    168.920563\n",
      "8       1208    168.562563\n",
      "9       1209    168.255625\n",
      "10      1210    168.439375\n",
      "11      1211    168.602500\n",
      "12      1212    168.483125\n",
      "13      1213    167.857625\n",
      "14      1214    168.327500\n"
     ]
    },
    {
     "name": "stderr",
     "output_type": "stream",
     "text": [
      "2it [00:31, 15.54s/it]\n",
      " 92%|█████████▏| 82/89 [17:49<01:37, 13.98s/it]"
     ]
    },
    {
     "name": "stdout",
     "output_type": "stream",
     "text": [
      "   Timestamp  Fridge_power\n",
      "0      [1215    166.353065\n",
      "1       1216    166.359205\n",
      "2       1217    166.365600\n",
      "3       1218    167.258185\n",
      "4       1219    172.823000\n",
      "5       1220    272.310000\n",
      "6       1221    266.789500\n",
      "7       1222    264.910850\n",
      "8       1223    263.726700\n",
      "9       1224    263.371650\n",
      "10      1225    263.027800\n",
      "11      1226    262.831200\n",
      "12      1227    262.528100\n",
      "13      1228    262.119800\n",
      "14      1229    261.767600\n"
     ]
    },
    {
     "name": "stderr",
     "output_type": "stream",
     "text": []
    },
    {
     "name": "stdout",
     "output_type": "stream",
     "text": [
      "API key limit reached Error code: 429 - {'error': {'message': 'Rate limit reached for model `llama3-8b-8192` in organization `org_01hzptswaffbsrqr210cddb30c` on requests per minute (RPM): Limit 30, Used 30, Requested 1. Please try again in 1.242s. Visit https://console.groq.com/docs/rate-limits for more information.', 'type': 'requests', 'code': 'rate_limit_exceeded'}}\n"
     ]
    },
    {
     "name": "stderr",
     "output_type": "stream",
     "text": [
      "2it [00:10,  5.42s/it]\n",
      " 93%|█████████▎| 83/89 [18:00<01:18, 13.05s/it]"
     ]
    },
    {
     "name": "stdout",
     "output_type": "stream",
     "text": [
      "   Timestamp  Fridge_power\n",
      "0      [1230     190.44375\n",
      "1       1231     189.48406\n",
      "2       1232     189.01406\n",
      "3       1233     188.83625\n",
      "4       1234     169.65625\n",
      "5       1235     168.59625\n",
      "6       1236     168.33750\n",
      "7       1237     168.10375\n",
      "8       1238     167.63375\n",
      "9       1239     167.48250\n",
      "10      1240     172.21750\n",
      "11      1241     171.85000\n",
      "12      1242     171.61875\n",
      "13      1243     171.42000\n",
      "14      1244     171.21750\n"
     ]
    },
    {
     "name": "stderr",
     "output_type": "stream",
     "text": [
      "2it [00:22, 11.37s/it]\n",
      " 94%|█████████▍| 84/89 [18:22<01:19, 15.97s/it]"
     ]
    },
    {
     "name": "stdout",
     "output_type": "stream",
     "text": [
      "   Timestamp  Fridge_power\n",
      "0      [1254     86.638445\n",
      "1       1255     87.193270\n",
      "2       1256     86.124650\n",
      "3       1257     86.826810\n",
      "4       1258     86.658350\n",
      "5       1259     86.155915\n",
      "6       1260     86.297140\n",
      "7       1261     87.344510\n",
      "8       1262     86.907525\n",
      "9       1263     86.740540\n",
      "10      1264     86.325890\n",
      "11      1265     86.895600\n",
      "12      1266     86.976275\n",
      "13      1267     86.351435\n",
      "14      1268     86.407825\n"
     ]
    },
    {
     "name": "stderr",
     "output_type": "stream",
     "text": [
      "2it [00:08,  4.01s/it]\n",
      " 96%|█████████▌| 85/89 [18:30<00:54, 13.60s/it]"
     ]
    },
    {
     "name": "stdout",
     "output_type": "stream",
     "text": [
      "   Timestamp  Fridge_power\n",
      "0       1260        61.930\n",
      "1       1261        62.550\n",
      "2       1262        62.420\n",
      "3       1263        62.290\n",
      "4       1264        63.090\n",
      "5       1265        62.550\n",
      "6       1266        62.950\n",
      "7       1267        62.610\n",
      "8       1268        62.985\n",
      "9       1269        62.720\n",
      "10      1270        63.135\n",
      "11      1271        62.895\n",
      "12      1272        63.180\n",
      "13      1273        62.800\n",
      "14      1274        63.065\n"
     ]
    },
    {
     "name": "stderr",
     "output_type": "stream",
     "text": [
      "2it [00:08,  4.02s/it]\n",
      " 97%|█████████▋| 86/89 [18:38<00:35, 11.94s/it]"
     ]
    },
    {
     "name": "stdout",
     "output_type": "stream",
     "text": [
      "   Timestamp  Fridge_power\n",
      "0     [22:49        71.375\n",
      "1      22:50        71.425\n",
      "2      22:51        71.700\n",
      "3      22:52        71.225\n",
      "4      22:53        71.625\n",
      "5      22:54        71.000\n",
      "6      22:55        71.725\n",
      "7      22:56        70.850\n",
      "8      22:57        71.800\n",
      "9      22:58        70.950\n",
      "10     22:59        71.950\n",
      "11     23:00        71.250\n",
      "12     23:01        72.175\n",
      "13     23:02        71.425\n",
      "14     23:03        72.075\n"
     ]
    },
    {
     "name": "stderr",
     "output_type": "stream",
     "text": [
      "2it [00:14,  7.24s/it]\n",
      " 98%|█████████▊| 87/89 [18:53<00:25, 12.72s/it]"
     ]
    },
    {
     "name": "stdout",
     "output_type": "stream",
     "text": [
      "   Timestamp  Fridge_power\n",
      "0     [23:20    176.331515\n",
      "1      23:21    174.640980\n",
      "2      23:22    173.822870\n",
      "3      23:23    172.610030\n",
      "4      23:24    172.072150\n",
      "5      23:25    171.682045\n",
      "6      23:26    171.153455\n",
      "7      23:27    170.203650\n",
      "8      23:28    169.723320\n",
      "9      23:29    168.733250\n",
      "10     23:30    167.760135\n",
      "11     23:31    167.885000\n",
      "12     23:32    167.261005\n",
      "13     23:33    166.491250\n",
      "14     23:34    166.652260\n"
     ]
    },
    {
     "name": "stderr",
     "output_type": "stream",
     "text": [
      "2it [00:13,  6.63s/it]\n",
      " 99%|█████████▉| 88/89 [19:06<00:12, 12.89s/it]"
     ]
    },
    {
     "name": "stdout",
     "output_type": "stream",
     "text": [
      "   Timestamp  Fridge_power\n",
      "0      [1305    169.921875\n",
      "1       1306    169.521795\n",
      "2       1307    169.501950\n",
      "3       1308    169.611170\n",
      "4       1309    169.626635\n",
      "5       1310    170.736000\n",
      "6       1311    170.716500\n",
      "7       1312    170.087850\n",
      "8       1313    169.679750\n",
      "9       1314    170.376250\n",
      "10      1315    170.702300\n",
      "11      1316    170.098700\n",
      "12      1317    169.810550\n",
      "13      1318    169.841200\n",
      "14      1319    170.899950\n"
     ]
    },
    {
     "name": "stderr",
     "output_type": "stream",
     "text": [
      "2it [00:05,  2.63s/it]\n",
      "100%|██████████| 89/89 [19:12<00:00, 12.94s/it]"
     ]
    },
    {
     "name": "stdout",
     "output_type": "stream",
     "text": [
      "   Timestamp  Fridge_power\n",
      "0      [1320    165.596875\n",
      "1       1321    166.465950\n",
      "2       1322    165.836500\n",
      "3       1323    166.152775\n",
      "4       1324    166.901250\n",
      "5       1325    166.732065\n",
      "6       1326    166.067100\n",
      "7       1327    167.158340\n",
      "8       1328    166.401775\n",
      "9       1329    166.522500\n",
      "10      1330    166.598575\n",
      "11      1331    166.375850\n",
      "12      1332    167.374670\n",
      "13      1333    166.551840\n",
      "14      1334    166.360700\n"
     ]
    },
    {
     "name": "stderr",
     "output_type": "stream",
     "text": [
      "\n"
     ]
    }
   ],
   "source": [
    "pred_df_list = []\n",
    "# Run the loop\n",
    "for start_idx, chunksize in combinationstorun:\n",
    "    for start in tqdm(range(0, len(result_df) - (start_idx + chunksize), 15)):\n",
    "        current_chunk = result_df.iloc[start:start+start_idx+chunksize]\n",
    "        input_string = current_chunk[['timestamp', 'total_power']].to_csv(index=False, header=False)\n",
    "        input_string = input_string.replace(\" \", \"\").replace('\\n', ',').replace(',', ' , ')\n",
    "        answer = promptgroq(input_string, start + start_idx, chunksize, model, num_samples=2)\n",
    "        predictions = answer['predictions']\n",
    "        timestamps = answer['timestamps']\n",
    "        predicted_df = pd.DataFrame({'Timestamp': timestamps, 'Fridge_power': predictions})\n",
    "        print(predicted_df)\n",
    "        pred_df_list.append(predicted_df)"
   ]
  },
  {
   "cell_type": "code",
   "execution_count": 50,
   "metadata": {},
   "outputs": [
    {
     "data": {
      "text/plain": [
       "89"
      ]
     },
     "execution_count": 50,
     "metadata": {},
     "output_type": "execute_result"
    }
   ],
   "source": [
    "len(pred_df_list)"
   ]
  },
  {
   "cell_type": "code",
   "execution_count": 60,
   "metadata": {},
   "outputs": [
    {
     "name": "stdout",
     "output_type": "stream",
     "text": [
      "1346\n",
      "PREDICTED 1335\n",
      "PREDICTED 1335\n",
      "MSE Loss: 43414.434918214814\n"
     ]
    },
    {
     "data": {
      "image/png": "[encoded data removed]",
      "text/plain": [
       "<Figure size 1000x600 with 1 Axes>"
      ]
     },
     "metadata": {},
     "output_type": "display_data"
    }
   ],
   "source": [
    "df_1 = pd.concat(pred_df_list, ignore_index=True)\n",
    "\n",
    "# Assuming all_pred_df is defined elsewhere and contains the predicted values\n",
    "all_pred_df = df_1.copy()  # Placeholder, replace with actual predicted values DataFrame\n",
    "\n",
    "# Extract real and predicted fridge power\n",
    "real_fridge_power = result_df['fridge_power'].values\n",
    "predicted_fridge_power = all_pred_df['Fridge_power'].values\n",
    "\n",
    "print(len(real_fridge_power))\n",
    "print('PREDICTED',len(predicted_fridge_power))\n",
    "# Plot results and calculate MSE\n",
    "plot_results(real_fridge_power, predicted_fridge_power)\n"
   ]
  },
  {
   "cell_type": "code",
   "execution_count": 7,
   "metadata": {},
   "outputs": [],
   "source": [
    "\n",
    "i=0\n",
    "# Mock function to simulate API calls\n",
    "def promptgroq_fewshots(csv, start_idx, chunksize, model, num_samples, initial_examples):\n",
    "    answers = {'timestamps': [], 'predictions': []}\n",
    "    attempts = 40\n",
    "    predictions = []\n",
    "    global api_keyover, client, i\n",
    "\n",
    "    initial_examples_str = \", \".join(\n",
    "    [f\"Timestamp: {row['timestamp']}, Total Power: {row['total_power']}, Fridge Power: {row['fridge_power']}\"\n",
    "     for idx, row in initial_examples.iterrows()]\n",
    ")\n",
    "\n",
    "\n",
    "    def get_prediction(run, csv=csv, start_idx=start_idx, chunksize=chunksize, model=model):\n",
    "        global i, api_keyover, client\n",
    "        while i < attempts:\n",
    "            try:\n",
    "                completion = client.chat.completions.create(\n",
    "                    model='llama3-8b-8192',\n",
    "                    messages=[\n",
    "                        # {\n",
    "                        #     \"role\": \"system\",\n",
    "                        #     \"content\": \"\"\"You are a helpful assistant that performs time series predictions for NILM (Non-Intrusive Load Monitoring). The user will provide an aggregate data sequence of power consumption and timestamps with a few examples of power consumed by fridge, and you will predict the power consumption of the fridge corresponding to each timestamp in the data. The sequence is represented by decimal strings separated by commas for power values and ISO 8601 format for timestamps.\n",
    "                                            \n",
    "                        #                     DO NOT CHANGE THE TIMESTAMPS KEEP THEM SAME AS IN THE DATA.\n",
    "                        #                     Fridge consumes a low amount of the aggregate power so predict accordingly. Also keep in mind the other appliances.\n",
    "                        #                     Appliance Information:\n",
    "                        #                     Low power consuming appliances - Lighting, Electronics, Fridge\n",
    "                        #                     Moderate power consuming appliances - Bathroom GFI, Dishwasher, Microwave, Kitchen Outlets\n",
    "                        #                     High power consuming appliances - Washer Dryer   \n",
    "                        #                 \"\"\"\n",
    "                        # },\n",
    "                        # {\n",
    "                        #     \"role\": \"user\",\n",
    "                        #     \"content\": f\"\"\"Predict the fridge power consumption for the given time series data for the next {chunksize} timestamps. Each timestamp in the input should have a corresponding output. Return your reply in the following format:\n",
    "                        #                     [timestamp 0, prediction 0, timestamp 1, prediction 1, ..., timestamp {chunksize - 1}, prediction {chunksize - 1}] - the total length should be exactly {chunksize * 2}, starting from timestamp {start_idx} until the timestamp {start_idx + chunksize - 1}. Do not include any additional text or explanations.\n",
    "                                            \n",
    "                        #                     ### Initial Examples\n",
    "                        #                     {initial_examples_str}\n",
    "\n",
    "                        #                     ### Time Series Data\n",
    "                        #                     {csv}\n",
    "                        #                     \"\"\"\n",
    "                        # }\n",
    "                        {\n",
    "                            \"role\": \"system\",\n",
    "                            \"content\": \"\"\"You are a helpful assistant that performs time series predictions for NILM (Non-Intrusive Load Monitoring). The user will provide an aggregate data sequence of power consumption and timestamps with a few examples of power consumed by fridge, and you will predict the power consumption of the fridge corresponding to each timestamp in the data. The sequence is represented by decimal strings separated by commas for power values and ISO 8601 format for timestamps \n",
    "                                            DO NOT CHANGE THE TIMESTAMPS KEEP THEM SAME AS IN THE DATA. USE EXAMPLE STRING PROVIDED AS A TRAINING SET\n",
    "                                            Fridge consumes a low amount of the aggregate power so predict accordingly. Also keep in mind the other appliances.\n",
    "                                            Appliance Information:\n",
    "                                            Low power consuming appliances - Lighting, Electronics, Fridge\n",
    "                                            Moderate power consuming appliances - Bathroom GFI, Dishwasher, Microwave, Kitchen Outlets\n",
    "                                            High power consuming appliances - Washer Dryer   \n",
    "                                        \"\"\"\n",
    "                        },\n",
    "                        {\n",
    "                            \"role\": \"user\",\n",
    "                            \"content\": f\"\"\"Predict the fridge power consumption for the given time series data for the next {chunksize} timestamps by using the examples provided. Each timestamp in the input should have a corresponding output. Return your reply in the following format:\n",
    "                                            [timestamp 0, prediction 0, timestamp 1, prediction 1, ..., timestamp {chunksize - 1}, prediction {chunksize - 1}] - the total length should be exactly {chunksize * 2}, starting from timestamp {start_idx} until the timestamp {start_idx + chunksize - 1}. Do not include any additional text or explanations.\n",
    "                                            \n",
    "                                            ### Initial Examples\n",
    "                                            {initial_examples_str}\n",
    "                                            \n",
    "                                            ### Time Series Data\n",
    "                                            {csv}\n",
    "                                            \"\"\"\n",
    "                        }\n",
    "                    ],\n",
    "                    temperature=1,\n",
    "                    top_p=1,\n",
    "                    stream=False,\n",
    "                    stop=None,\n",
    "                )\n",
    "            except Exception as e:\n",
    "                print('API key limit reached', e)\n",
    "                api_keyover += 1\n",
    "                client = Groq(api_key=api_keys[api_keyover % 4])\n",
    "                continue\n",
    "\n",
    "            try:\n",
    "                answer = completion.choices[0].message.content.strip()\n",
    "                predictions_list = [item.strip() for item in answer.split(',') if item.strip()]\n",
    "\n",
    "                pred_timestamps = predictions_list[::2]\n",
    "                pred_values_str = predictions_list[1::2]\n",
    "\n",
    "                pred_values_cleaned = []\n",
    "                for value in pred_values_str:\n",
    "                    try:\n",
    "                        pred_values_cleaned.append(float(value))\n",
    "                    except ValueError:\n",
    "                        float_part = ''.join([char for char in value if char.isdigit() or char == '.' or char == '-'])\n",
    "                        pred_values_cleaned.append(float(float_part))\n",
    "\n",
    "                pred_df = pd.DataFrame({\n",
    "                    'timestamp': [ts.strip() for ts in pred_timestamps],\n",
    "                    'predicted_fridge_power': pred_values_cleaned\n",
    "                })\n",
    "\n",
    "                if len(pred_timestamps) == chunksize:\n",
    "                    return pred_df\n",
    "                else:\n",
    "                    i += 1\n",
    "            except Exception as e:\n",
    "                i += 1\n",
    "                continue\n",
    "\n",
    "        return None\n",
    "\n",
    "    with concurrent.futures.ThreadPoolExecutor() as executor:\n",
    "        future_to_run = {executor.submit(get_prediction, run): run for run in range(num_samples)}\n",
    "        for future in tqdm(concurrent.futures.as_completed(future_to_run)):\n",
    "            result = future.result()\n",
    "            if result is not None:\n",
    "                predictions.append(result)\n",
    "\n",
    "    if len(predictions) < num_samples:\n",
    "        return promptgroq(csv, start_idx, chunksize, model, num_samples, initial_examples)\n",
    "\n",
    "    for i in range(chunksize):\n",
    "        sum = 0\n",
    "        for j in range(num_samples):\n",
    "            sum += predictions[j]['predicted_fridge_power'][i]\n",
    "        answers['predictions'].append(sum / num_samples)\n",
    "        answers['timestamps'].append(predictions[0]['timestamp'][i])\n",
    "\n",
    "    return answers\n",
    "\n",
    "\n"
   ]
  },
  {
   "cell_type": "code",
   "execution_count": 9,
   "metadata": {},
   "outputs": [
    {
     "name": "stderr",
     "output_type": "stream",
     "text": [
      "2it [00:07,  3.91s/it][00:00<?, ?it/s]\n",
      "  1%|          | 1/85 [00:07<10:59,  7.86s/it]"
     ]
    },
    {
     "name": "stdout",
     "output_type": "stream",
     "text": [
      "   Timestamp  Fridge_power\n",
      "0     [01:00      6.675000\n",
      "1      01:01      6.475000\n",
      "2      01:02      6.662500\n",
      "3      01:03      6.567708\n",
      "4      01:04      6.583335\n",
      "5      01:05      6.787500\n",
      "6      01:06      6.625000\n",
      "7      01:07      6.614583\n",
      "8      01:08      6.633333\n",
      "9      01:09      6.406250\n",
      "10     01:10      6.843750\n",
      "11     01:11      6.750000\n",
      "12     01:12      6.500000\n",
      "13     01:13      6.812500\n",
      "14     01:14      6.831250\n"
     ]
    },
    {
     "name": "stderr",
     "output_type": "stream",
     "text": [
      "2it [00:01,  1.47it/s]\n",
      "  2%|▏         | 2/85 [00:09<05:36,  4.05s/it]"
     ]
    },
    {
     "name": "stdout",
     "output_type": "stream",
     "text": [
      "   Timestamp  Fridge_power\n",
      "0     [01:15       6.68750\n",
      "1      01:16       6.59375\n",
      "2      01:17       6.71875\n",
      "3      01:18       6.62500\n",
      "4      01:19       6.78125\n",
      "5      01:20       6.62500\n",
      "6      01:21       6.71875\n",
      "7      01:22       6.62500\n",
      "8      01:23       6.85000\n",
      "9      01:24       6.71875\n",
      "10     01:25       6.84375\n",
      "11     01:26       6.81250\n",
      "12     01:27       6.71875\n",
      "13     01:28       6.71875\n",
      "14     01:29       6.81250\n"
     ]
    },
    {
     "name": "stderr",
     "output_type": "stream",
     "text": [
      "2it [00:01,  1.51it/s]\n",
      "  4%|▎         | 3/85 [00:10<03:51,  2.82s/it]"
     ]
    },
    {
     "name": "stdout",
     "output_type": "stream",
     "text": [
      "   Timestamp  Fridge_power\n",
      "0     [01:30      6.750000\n",
      "1      01:31      6.766667\n",
      "2      01:32      6.812500\n",
      "3      01:33      6.906250\n",
      "4      01:34      6.875000\n",
      "5      01:35     28.156250\n",
      "6      01:36    104.883331\n",
      "7      01:37    103.625000\n",
      "8      01:38    102.687500\n",
      "9      01:39    101.625000\n",
      "10     01:40    100.406250\n",
      "11     01:41     97.500000\n",
      "12     01:42     97.050003\n",
      "13     01:43     95.843750\n",
      "14     01:44     97.343750\n"
     ]
    },
    {
     "name": "stderr",
     "output_type": "stream",
     "text": [
      "2it [00:09,  4.52s/it]\n",
      "  5%|▍         | 4/85 [00:19<07:08,  5.29s/it]"
     ]
    },
    {
     "name": "stdout",
     "output_type": "stream",
     "text": [
      "   Timestamp  Fridge_power\n",
      "0     [01:45       6.50000\n",
      "1      01:46       6.46875\n",
      "2      01:47       6.56250\n",
      "3      01:48       6.50000\n",
      "4      01:49       6.81250\n",
      "5      01:50       6.25000\n",
      "6      01:51       6.47500\n",
      "7      01:52       6.50000\n",
      "8      01:53       6.58750\n",
      "9      01:54       6.50000\n",
      "10     01:55       6.50000\n",
      "11     01:56       6.47500\n",
      "12     01:57       6.55625\n",
      "13     01:58       6.70000\n",
      "14     01:59       6.52500\n"
     ]
    },
    {
     "name": "stderr",
     "output_type": "stream",
     "text": []
    },
    {
     "name": "stdout",
     "output_type": "stream",
     "text": [
      "API key limit reached Error code: 429 - {'error': {'message': 'Rate limit reached for model `llama3-8b-8192` in organization `org_01hzptswaffbsrqr210cddb30c` on tokens per minute (TPM): Limit 30000, Used 30389, Requested ~1713. Please try again in 4.203999999s. Visit https://console.groq.com/docs/rate-limits for more information.', 'type': 'tokens', 'code': 'rate_limit_exceeded'}}\n",
      "API key limit reached Error code: 429 - {'error': {'message': 'Rate limit reached for model `llama3-8b-8192` in organization `org_01hzptswaffbsrqr210cddb30c` on tokens per minute (TPM): Limit 30000, Used 30777, Requested ~1713. Please try again in 4.98s. Visit https://console.groq.com/docs/rate-limits for more information.', 'type': 'tokens', 'code': 'rate_limit_exceeded'}}\n"
     ]
    },
    {
     "name": "stderr",
     "output_type": "stream",
     "text": []
    },
    {
     "name": "stdout",
     "output_type": "stream",
     "text": [
      "API key limit reached Error code: 429 - {'error': {'message': 'Rate limit reached for model `llama3-8b-8192` in organization `org_01hzptswaffbsrqr210cddb30c` on tokens per minute (TPM): Limit 30000, Used 30431, Requested ~1713. Please try again in 4.288s. Visit https://console.groq.com/docs/rate-limits for more information.', 'type': 'tokens', 'code': 'rate_limit_exceeded'}}\n"
     ]
    },
    {
     "name": "stderr",
     "output_type": "stream",
     "text": [
      "2it [00:37, 18.67s/it]\n",
      "  6%|▌         | 5/85 [00:57<22:28, 16.86s/it]"
     ]
    },
    {
     "name": "stdout",
     "output_type": "stream",
     "text": [
      "   Timestamp  Fridge_power\n",
      "0     [02:00      6.562500\n",
      "1      02:01      6.437500\n",
      "2      02:02      6.678750\n",
      "3      02:03      6.463333\n",
      "4      02:04      6.500000\n",
      "5      02:05      6.812500\n",
      "6      02:06      6.500000\n",
      "7      02:07      6.561250\n",
      "8      02:08      6.599500\n",
      "9      02:09      6.311250\n",
      "10     02:10      6.875000\n",
      "11     02:11      6.750000\n",
      "12     02:12      6.500000\n",
      "13     02:13      6.750000\n",
      "14     02:14      6.781250\n"
     ]
    },
    {
     "name": "stderr",
     "output_type": "stream",
     "text": []
    },
    {
     "name": "stdout",
     "output_type": "stream",
     "text": [
      "API key limit reached Error code: 429 - {'error': {'message': 'Rate limit reached for model `llama3-8b-8192` in organization `org_01hzptswaffbsrqr210cddb30c` on tokens per minute (TPM): Limit 30000, Used 30040, Requested ~1712. Please try again in 3.505s. Visit https://console.groq.com/docs/rate-limits for more information.', 'type': 'tokens', 'code': 'rate_limit_exceeded'}}\n"
     ]
    },
    {
     "name": "stderr",
     "output_type": "stream",
     "text": [
      "2it [00:27, 13.93s/it]\n",
      "  7%|▋         | 6/85 [01:24<27:07, 20.60s/it]"
     ]
    },
    {
     "name": "stdout",
     "output_type": "stream",
     "text": [
      "   Timestamp  Fridge_power\n",
      "0     [02:15      6.500000\n",
      "1      02:16      6.437500\n",
      "2      02:17      6.718750\n",
      "3      02:18      6.625000\n",
      "4      02:19      6.483333\n",
      "5      02:20      6.500000\n",
      "6      02:21      6.781250\n",
      "7      02:22      6.781250\n",
      "8      02:23      6.531250\n",
      "9      02:24      6.593750\n",
      "10     02:25      6.856250\n",
      "11     02:26      6.750000\n",
      "12     02:27      6.708333\n",
      "13     02:28      6.812500\n",
      "14     02:29      6.750000\n"
     ]
    },
    {
     "name": "stderr",
     "output_type": "stream",
     "text": []
    },
    {
     "name": "stdout",
     "output_type": "stream",
     "text": [
      "API key limit reached Error code: 429 - {'error': {'message': 'Rate limit reached for model `llama3-8b-8192` in organization `org_01hzptswaffbsrqr210cddb30c` on tokens per minute (TPM): Limit 30000, Used 30178, Requested ~1714. Please try again in 3.784s. Visit https://console.groq.com/docs/rate-limits for more information.', 'type': 'tokens', 'code': 'rate_limit_exceeded'}}\n"
     ]
    },
    {
     "name": "stderr",
     "output_type": "stream",
     "text": [
      "2it [00:19,  9.51s/it]\n",
      "  8%|▊         | 7/85 [01:43<26:07, 20.09s/it]"
     ]
    },
    {
     "name": "stdout",
     "output_type": "stream",
     "text": [
      "   Timestamp  Fridge_power\n",
      "0     [02:30      6.550000\n",
      "1      02:31      6.509375\n",
      "2      02:32      6.640625\n",
      "3      02:33      6.718750\n",
      "4      02:34      6.625000\n",
      "5      02:35      6.643750\n",
      "6      02:36      6.700000\n",
      "7      02:37      6.781250\n",
      "8      02:38      6.706250\n",
      "9      02:39      6.675000\n",
      "10     02:40      6.587500\n",
      "11     02:41      6.762500\n",
      "12     02:42      6.737500\n",
      "13     02:43      6.693750\n",
      "14     02:44      6.731250\n"
     ]
    },
    {
     "name": "stderr",
     "output_type": "stream",
     "text": [
      "2it [00:07,  3.88s/it]\n",
      "  9%|▉         | 8/85 [01:51<20:45, 16.17s/it]"
     ]
    },
    {
     "name": "stdout",
     "output_type": "stream",
     "text": [
      "   Timestamp  Fridge_power\n",
      "0     [02:45      6.187500\n",
      "1      02:46      6.250000\n",
      "2      02:47      6.250000\n",
      "3      02:48      6.406250\n",
      "4      02:49      6.406250\n",
      "5      02:50      6.687500\n",
      "6      02:51      6.625000\n",
      "7      02:52      6.625000\n",
      "8      02:53      6.625000\n",
      "9      02:54      6.596667\n",
      "10     02:55      6.625000\n",
      "11     02:56      6.500000\n",
      "12     02:57      6.562500\n",
      "13     02:58      6.625000\n",
      "14     02:59      6.625000\n"
     ]
    },
    {
     "name": "stderr",
     "output_type": "stream",
     "text": []
    },
    {
     "name": "stdout",
     "output_type": "stream",
     "text": [
      "API key limit reached Error code: 429 - {'error': {'message': 'Rate limit reached for model `llama3-8b-8192` in organization `org_01hzptswaffbsrqr210cddb30c` on tokens per minute (TPM): Limit 30000, Used 29963, Requested ~1713. Please try again in 3.351s. Visit https://console.groq.com/docs/rate-limits for more information.', 'type': 'tokens', 'code': 'rate_limit_exceeded'}}\n"
     ]
    },
    {
     "name": "stderr",
     "output_type": "stream",
     "text": []
    },
    {
     "name": "stdout",
     "output_type": "stream",
     "text": [
      "API key limit reached Error code: 429 - {'error': {'message': 'Rate limit reached for model `llama3-8b-8192` in organization `org_01hzptswaffbsrqr210cddb30c` on tokens per minute (TPM): Limit 30000, Used 30399, Requested ~1713. Please try again in 4.224s. Visit https://console.groq.com/docs/rate-limits for more information.', 'type': 'tokens', 'code': 'rate_limit_exceeded'}}\n"
     ]
    },
    {
     "name": "stderr",
     "output_type": "stream",
     "text": [
      "2it [00:27, 13.90s/it]\n",
      " 11%|█         | 9/85 [02:19<25:05, 19.81s/it]"
     ]
    },
    {
     "name": "stdout",
     "output_type": "stream",
     "text": [
      "   Timestamp  Fridge_power\n",
      "0       [120    113.280300\n",
      "1        121    112.986400\n",
      "2        122    113.126550\n",
      "3        123    113.010983\n",
      "4        124    113.057650\n",
      "5        125    113.158750\n",
      "6        126    113.033750\n",
      "7        127    113.048900\n",
      "8        128    113.087500\n",
      "9        129    112.968750\n",
      "10       130    113.397500\n",
      "11       131    113.360000\n",
      "12       132    113.085000\n",
      "13       133    113.426250\n",
      "14       134    113.178333\n"
     ]
    },
    {
     "name": "stderr",
     "output_type": "stream",
     "text": [
      "2it [00:17,  8.96s/it]\n",
      " 12%|█▏        | 10/85 [02:37<24:02, 19.24s/it]"
     ]
    },
    {
     "name": "stdout",
     "output_type": "stream",
     "text": [
      "   Timestamp  Fridge_power\n",
      "0       [135      6.562500\n",
      "1        136      6.468750\n",
      "2        137      6.593750\n",
      "3        138      6.483333\n",
      "4        139      6.500000\n",
      "5        140      6.656250\n",
      "6        141      6.500000\n",
      "7        142      6.531250\n",
      "8        143      6.687500\n",
      "9        144      6.625000\n",
      "10       145      6.500000\n",
      "11       146      6.656250\n",
      "12       147      6.625000\n",
      "13       148      6.500000\n",
      "14       149      6.593750\n"
     ]
    },
    {
     "name": "stderr",
     "output_type": "stream",
     "text": []
    },
    {
     "name": "stdout",
     "output_type": "stream",
     "text": [
      "API key limit reached Error code: 429 - {'error': {'message': 'Rate limit reached for model `llama3-8b-8192` in organization `org_01hzptswaffbsrqr210cddb30c` on tokens per minute (TPM): Limit 30000, Used 30498, Requested ~1711. Please try again in 4.418s. Visit https://console.groq.com/docs/rate-limits for more information.', 'type': 'tokens', 'code': 'rate_limit_exceeded'}}\n",
      "API key limit reached Error code: 429 - {'error': {'message': 'Rate limit reached for model `llama3-8b-8192` in organization `org_01hzptswaffbsrqr210cddb30c` on tokens per minute (TPM): Limit 30000, Used 30058, Requested ~1711. Please try again in 3.538s. Visit https://console.groq.com/docs/rate-limits for more information.', 'type': 'tokens', 'code': 'rate_limit_exceeded'}}\n"
     ]
    },
    {
     "name": "stderr",
     "output_type": "stream",
     "text": []
    },
    {
     "name": "stdout",
     "output_type": "stream",
     "text": [
      "API key limit reached Error code: 429 - {'error': {'message': 'Rate limit reached for model `llama3-8b-8192` in organization `org_01hzptswaffbsrqr210cddb30c` on tokens per minute (TPM): Limit 30000, Used 30384, Requested ~1711. Please try again in 4.191s. Visit https://console.groq.com/docs/rate-limits for more information.', 'type': 'tokens', 'code': 'rate_limit_exceeded'}}\n"
     ]
    },
    {
     "name": "stderr",
     "output_type": "stream",
     "text": [
      "2it [00:54, 27.44s/it]\n",
      " 13%|█▎        | 11/85 [03:32<37:11, 30.15s/it]"
     ]
    },
    {
     "name": "stdout",
     "output_type": "stream",
     "text": [
      "   Timestamp  Fridge_power\n",
      "0       [150       6.71500\n",
      "1        151       6.65375\n",
      "2        152       6.71625\n",
      "3        153       6.67000\n",
      "4        154       6.68750\n",
      "5        155       6.75000\n",
      "6        156       6.75000\n",
      "7        157       6.78125\n",
      "8        158       6.62500\n",
      "9        159       6.62500\n",
      "10       160       6.62500\n",
      "11       161       6.62500\n",
      "12       162       6.62500\n",
      "13       163       6.81875\n",
      "14       164       6.78125\n"
     ]
    },
    {
     "name": "stderr",
     "output_type": "stream",
     "text": []
    },
    {
     "name": "stdout",
     "output_type": "stream",
     "text": [
      "API key limit reached Error code: 429 - {'error': {'message': 'Rate limit reached for model `llama3-8b-8192` in organization `org_01hzptswaffbsrqr210cddb30c` on tokens per minute (TPM): Limit 30000, Used 30394, Requested ~1714. Please try again in 4.216999999s. Visit https://console.groq.com/docs/rate-limits for more information.', 'type': 'tokens', 'code': 'rate_limit_exceeded'}}\n"
     ]
    },
    {
     "name": "stderr",
     "output_type": "stream",
     "text": [
      "2it [00:37, 18.69s/it]\n",
      " 14%|█▍        | 12/85 [04:09<39:22, 32.36s/it]"
     ]
    },
    {
     "name": "stdout",
     "output_type": "stream",
     "text": [
      "   Timestamp  Fridge_power\n",
      "0     [03:45      6.531250\n",
      "1      03:46      6.500000\n",
      "2      03:47      6.531250\n",
      "3      03:48      6.531250\n",
      "4      03:49      6.531250\n",
      "5      03:50     27.750000\n",
      "6      03:51    109.906250\n",
      "7      03:52    104.383331\n",
      "8      03:53    103.156250\n",
      "9      03:54    102.187500\n",
      "10     03:55    101.406250\n",
      "11     03:56    101.156250\n",
      "12     03:57    100.250000\n",
      "13     03:58    100.093750\n",
      "14     03:59     99.316666\n"
     ]
    },
    {
     "name": "stderr",
     "output_type": "stream",
     "text": [
      "2it [00:22, 11.45s/it]\n",
      " 15%|█▌        | 13/85 [04:32<35:24, 29.50s/it]"
     ]
    },
    {
     "name": "stdout",
     "output_type": "stream",
     "text": [
      "   Timestamp  Fridge_power\n",
      "0       [180      6.475000\n",
      "1        181      6.468750\n",
      "2        182      6.512500\n",
      "3        183      6.485000\n",
      "4        184      6.650000\n",
      "5        185      6.600000\n",
      "6        186      6.525000\n",
      "7        187      6.623437\n",
      "8        188      6.512500\n",
      "9        189      6.737500\n",
      "10       190      6.600000\n",
      "11       191      6.543750\n",
      "12       192      6.625000\n",
      "13       193      6.641667\n",
      "14       194      6.631250\n"
     ]
    },
    {
     "name": "stderr",
     "output_type": "stream",
     "text": []
    },
    {
     "name": "stdout",
     "output_type": "stream",
     "text": [
      "API key limit reached Error code: 429 - {'error': {'message': 'Rate limit reached for model `llama3-8b-8192` in organization `org_01hzptswaffbsrqr210cddb30c` on tokens per minute (TPM): Limit 30000, Used 30413, Requested ~1713. Please try again in 4.253s. Visit https://console.groq.com/docs/rate-limits for more information.', 'type': 'tokens', 'code': 'rate_limit_exceeded'}}\n"
     ]
    },
    {
     "name": "stderr",
     "output_type": "stream",
     "text": [
      "2it [00:18,  9.04s/it]\n",
      " 16%|█▋        | 14/85 [04:50<30:50, 26.06s/it]"
     ]
    },
    {
     "name": "stdout",
     "output_type": "stream",
     "text": [
      "   Timestamp  Fridge_power\n",
      "0     [04:15       6.25000\n",
      "1      04:16       6.28125\n",
      "2      04:17       6.37500\n",
      "3      04:18       6.25000\n",
      "4      04:19       6.31875\n",
      "5      04:20       6.25000\n",
      "6      04:21       6.65625\n",
      "7      04:22       6.37500\n",
      "8      04:23       6.37500\n",
      "9      04:24       6.50000\n",
      "10     04:25       6.59375\n",
      "11     04:26       6.75000\n",
      "12     04:27       6.62500\n",
      "13     04:28       6.62500\n",
      "14     04:29       6.75000\n"
     ]
    },
    {
     "name": "stderr",
     "output_type": "stream",
     "text": []
    },
    {
     "name": "stdout",
     "output_type": "stream",
     "text": [
      "API key limit reached Error code: 429 - {'error': {'message': 'Rate limit reached for model `llama3-8b-8192` in organization `org_01hzptswaffbsrqr210cddb30c` on tokens per minute (TPM): Limit 30000, Used 30092, Requested ~1714. Please try again in 3.612s. Visit https://console.groq.com/docs/rate-limits for more information.', 'type': 'tokens', 'code': 'rate_limit_exceeded'}}\n"
     ]
    },
    {
     "name": "stderr",
     "output_type": "stream",
     "text": [
      "2it [00:22, 11.18s/it]\n",
      " 18%|█▊        | 15/85 [05:13<29:06, 24.95s/it]"
     ]
    },
    {
     "name": "stdout",
     "output_type": "stream",
     "text": [
      "   Timestamp  Fridge_power\n",
      "0       [210      6.631250\n",
      "1        211      6.562500\n",
      "2        212      6.681250\n",
      "3        213      6.606250\n",
      "4        214      6.762500\n",
      "5        215      6.675000\n",
      "6        216      6.700000\n",
      "7        217      6.664583\n",
      "8        218      6.656250\n",
      "9        219      6.681250\n",
      "10       220      6.531250\n",
      "11       221      6.781250\n",
      "12       222      6.689583\n",
      "13       223      6.731250\n",
      "14       224      6.625000\n"
     ]
    },
    {
     "name": "stderr",
     "output_type": "stream",
     "text": [
      "2it [00:19,  9.74s/it]\n",
      " 19%|█▉        | 16/85 [05:32<26:48, 23.31s/it]"
     ]
    },
    {
     "name": "stdout",
     "output_type": "stream",
     "text": [
      "   Timestamp  Fridge_power\n",
      "0       [225     91.124000\n",
      "1        226      6.052083\n",
      "2        227     90.491250\n",
      "3        228      6.600000\n",
      "4        229     91.418333\n",
      "5        230      6.716667\n",
      "6        231     90.534268\n",
      "7        232      6.575000\n",
      "8        233     91.621250\n",
      "9        234      6.593750\n",
      "10       235     90.566870\n",
      "11       236      6.745833\n",
      "12       237     91.359690\n",
      "13       238      6.658333\n",
      "14       239     90.772585\n"
     ]
    },
    {
     "name": "stderr",
     "output_type": "stream",
     "text": [
      "2it [00:08,  4.07s/it]\n",
      " 20%|██        | 17/85 [05:40<21:15, 18.76s/it]"
     ]
    },
    {
     "name": "stdout",
     "output_type": "stream",
     "text": [
      "   Timestamp  Fridge_power\n",
      "0       [240      5.958333\n",
      "1        241      5.958333\n",
      "2        242      5.833333\n",
      "3        243      5.958333\n",
      "4        244      5.958333\n",
      "5        245      5.833333\n",
      "6        246      5.983333\n",
      "7        247      5.958333\n",
      "8        248      5.833333\n",
      "9        249      5.958333\n",
      "10       250      5.958333\n",
      "11       251      5.833333\n",
      "12       252      5.958333\n",
      "13       253      5.983333\n",
      "14       254      5.833333\n"
     ]
    },
    {
     "name": "stderr",
     "output_type": "stream",
     "text": [
      "2it [00:22, 11.42s/it]\n",
      " 21%|██        | 18/85 [06:03<22:19, 19.99s/it]"
     ]
    },
    {
     "name": "stdout",
     "output_type": "stream",
     "text": [
      "   Timestamp  Fridge_power\n",
      "0       [255        5.8750\n",
      "1        256        6.1875\n",
      "2        257        6.2500\n",
      "3        258        6.3250\n",
      "4        259        6.3250\n",
      "5        260        6.2875\n",
      "6        261        6.2250\n",
      "7        262        6.2750\n",
      "8        263        6.3250\n",
      "9        264        6.3250\n",
      "10       265        6.2750\n",
      "11       266        6.2750\n",
      "12       267        6.2750\n",
      "13       268        6.2750\n",
      "14       269        6.3250\n"
     ]
    },
    {
     "name": "stderr",
     "output_type": "stream",
     "text": []
    },
    {
     "name": "stdout",
     "output_type": "stream",
     "text": [
      "API key limit reached Error code: 429 - {'error': {'message': 'Rate limit reached for model `llama3-8b-8192` in organization `org_01hzptswaffbsrqr210cddb30c` on tokens per minute (TPM): Limit 30000, Used 30187, Requested ~1712. Please try again in 3.799s. Visit https://console.groq.com/docs/rate-limits for more information.', 'type': 'tokens', 'code': 'rate_limit_exceeded'}}\n"
     ]
    },
    {
     "name": "stderr",
     "output_type": "stream",
     "text": []
    },
    {
     "name": "stdout",
     "output_type": "stream",
     "text": [
      "API key limit reached Error code: 429 - {'error': {'message': 'Rate limit reached for model `llama3-8b-8192` in organization `org_01hzptswaffbsrqr210cddb30c` on tokens per minute (TPM): Limit 30000, Used 30238, Requested ~1712. Please try again in 3.9s. Visit https://console.groq.com/docs/rate-limits for more information.', 'type': 'tokens', 'code': 'rate_limit_exceeded'}}\n"
     ]
    },
    {
     "name": "stderr",
     "output_type": "stream",
     "text": [
      "2it [00:27, 13.67s/it]\n",
      " 22%|██▏       | 19/85 [06:31<24:25, 22.20s/it]"
     ]
    },
    {
     "name": "stdout",
     "output_type": "stream",
     "text": [
      "   Timestamp  Fridge_power\n",
      "0     [05:30       6.00000\n",
      "1      05:31       5.84375\n",
      "2      05:32       6.00000\n",
      "3      05:33       6.21875\n",
      "4      05:34       5.87500\n",
      "5      05:35       5.96875\n",
      "6      05:36       6.00000\n",
      "7      05:37       6.15625\n",
      "8      05:38       6.00000\n",
      "9      05:39       5.96875\n",
      "10     05:40       6.00000\n",
      "11     05:41       6.18750\n",
      "12     05:42       6.00000\n",
      "13     05:43       6.00000\n",
      "14     05:44       6.09375\n"
     ]
    },
    {
     "name": "stderr",
     "output_type": "stream",
     "text": []
    },
    {
     "name": "stdout",
     "output_type": "stream",
     "text": [
      "API key limit reached Error code: 429 - {'error': {'message': 'Rate limit reached for model `llama3-8b-8192` in organization `org_01hzptswaffbsrqr210cddb30c` on tokens per minute (TPM): Limit 30000, Used 30448, Requested ~1713. Please try again in 4.323s. Visit https://console.groq.com/docs/rate-limits for more information.', 'type': 'tokens', 'code': 'rate_limit_exceeded'}}\n"
     ]
    },
    {
     "name": "stderr",
     "output_type": "stream",
     "text": []
    },
    {
     "name": "stdout",
     "output_type": "stream",
     "text": [
      "API key limit reached Error code: 429 - {'error': {'message': 'Rate limit reached for model `llama3-8b-8192` in organization `org_01hzptswaffbsrqr210cddb30c` on tokens per minute (TPM): Limit 30000, Used 30008, Requested ~1713. Please try again in 3.442s. Visit https://console.groq.com/docs/rate-limits for more information.', 'type': 'tokens', 'code': 'rate_limit_exceeded'}}\n"
     ]
    },
    {
     "name": "stderr",
     "output_type": "stream",
     "text": [
      "2it [00:35, 17.80s/it]\n",
      " 24%|██▎       | 20/85 [07:06<28:25, 26.24s/it]"
     ]
    },
    {
     "name": "stdout",
     "output_type": "stream",
     "text": [
      "   Timestamp  Fridge_power\n",
      "0       [285       6.46875\n",
      "1        286       6.46875\n",
      "2        287       6.46875\n",
      "3        288       6.57500\n",
      "4        289       6.57500\n",
      "5        290       6.57500\n",
      "6        291       6.57500\n",
      "7        292       6.57500\n",
      "8        293       6.57500\n",
      "9        294       6.70000\n",
      "10       295       6.70000\n",
      "11       296       6.70000\n",
      "12       297       6.70000\n",
      "13       298       6.70000\n",
      "14       299       6.70000\n"
     ]
    },
    {
     "name": "stderr",
     "output_type": "stream",
     "text": [
      "2it [01:06, 33.14s/it]\n",
      " 25%|██▍       | 21/85 [08:13<40:48, 38.26s/it]"
     ]
    },
    {
     "name": "stdout",
     "output_type": "stream",
     "text": [
      "   Timestamp  Fridge_power\n",
      "0       [300      6.500000\n",
      "1        301      6.481250\n",
      "2        302      6.750000\n",
      "3        303      6.531250\n",
      "4        304      6.562500\n",
      "5        305      6.537500\n",
      "6        306      6.712500\n",
      "7        307      6.791666\n",
      "8        308      6.625000\n",
      "9        309      6.562500\n",
      "10       310      6.750000\n",
      "11       311      6.583333\n",
      "12       312      6.750000\n",
      "13       313      6.550000\n",
      "14       314      6.750000\n"
     ]
    },
    {
     "name": "stderr",
     "output_type": "stream",
     "text": [
      "2it [00:04,  2.04s/it]\n",
      " 26%|██▌       | 22/85 [08:17<29:24, 28.01s/it]"
     ]
    },
    {
     "name": "stdout",
     "output_type": "stream",
     "text": [
      "   Timestamp  Fridge_power\n",
      "0       [315       7.18750\n",
      "1        316       7.12500\n",
      "2        317       7.12500\n",
      "3        318       7.12500\n",
      "4        319       7.12500\n",
      "5        320       7.12500\n",
      "6        321       7.18750\n",
      "7        322       7.12500\n",
      "8        323       7.12500\n",
      "9        324       7.15625\n",
      "10       325       7.12500\n",
      "11       326       7.18750\n",
      "12       327       7.12500\n",
      "13       328       7.12500\n",
      "14       329       7.18750\n"
     ]
    },
    {
     "name": "stderr",
     "output_type": "stream",
     "text": [
      "2it [00:02,  1.09s/it]\n",
      " 27%|██▋       | 23/85 [08:19<20:56, 20.27s/it]"
     ]
    },
    {
     "name": "stdout",
     "output_type": "stream",
     "text": [
      "   Timestamp  Fridge_power\n",
      "0       [330       6.65850\n",
      "1        331       6.50000\n",
      "2        332       6.70000\n",
      "3        333       6.45625\n",
      "4        334       6.57500\n",
      "5        335       6.65625\n",
      "6        336       6.45000\n",
      "7        337       6.57500\n",
      "8        338       6.45000\n",
      "9        339       6.57500\n",
      "10       340       6.68750\n",
      "11       341       6.57500\n",
      "12       342       6.45000\n",
      "13       343       6.57500\n",
      "14       344       6.32500\n"
     ]
    },
    {
     "name": "stderr",
     "output_type": "stream",
     "text": []
    },
    {
     "name": "stdout",
     "output_type": "stream",
     "text": [
      "API key limit reached Error code: 429 - {'error': {'message': 'Rate limit reached for model `llama3-8b-8192` in organization `org_01hzptswaffbsrqr210cddb30c` on tokens per minute (TPM): Limit 30000, Used 30089, Requested ~1714. Please try again in 3.606s. Visit https://console.groq.com/docs/rate-limits for more information.', 'type': 'tokens', 'code': 'rate_limit_exceeded'}}\n"
     ]
    },
    {
     "name": "stderr",
     "output_type": "stream",
     "text": [
      "2it [00:28, 14.41s/it]\n",
      " 28%|██▊       | 24/85 [08:48<23:12, 22.84s/it]"
     ]
    },
    {
     "name": "stdout",
     "output_type": "stream",
     "text": [
      "   Timestamp  Fridge_power\n",
      "0       [345           6.5\n",
      "1        346           6.5\n",
      "2        347           6.5\n",
      "3        348           6.5\n",
      "4        349           6.5\n",
      "5        350           6.5\n",
      "6        351           6.5\n",
      "7        352           6.5\n",
      "8        353           6.5\n",
      "9        354           6.5\n",
      "10       355           6.5\n",
      "11       356           6.5\n",
      "12       357           6.5\n",
      "13       358           6.5\n",
      "14       359           6.5\n"
     ]
    },
    {
     "name": "stderr",
     "output_type": "stream",
     "text": []
    },
    {
     "name": "stdout",
     "output_type": "stream",
     "text": [
      "API key limit reached Error code: 429 - {'error': {'message': 'Rate limit reached for model `llama3-8b-8192` in organization `org_01hzptswaffbsrqr210cddb30c` on tokens per minute (TPM): Limit 30000, Used 30495, Requested ~1712. Please try again in 4.415s. Visit https://console.groq.com/docs/rate-limits for more information.', 'type': 'tokens', 'code': 'rate_limit_exceeded'}}\n",
      "API key limit reached Error code: 429 - {'error': {'message': 'Rate limit reached for model `llama3-8b-8192` in organization `org_01hzptswaffbsrqr210cddb30c` on tokens per minute (TPM): Limit 30000, Used 29940, Requested ~1712. Please try again in 3.304s. Visit https://console.groq.com/docs/rate-limits for more information.', 'type': 'tokens', 'code': 'rate_limit_exceeded'}}\n"
     ]
    },
    {
     "name": "stderr",
     "output_type": "stream",
     "text": []
    },
    {
     "name": "stdout",
     "output_type": "stream",
     "text": [
      "API key limit reached Error code: 429 - {'error': {'message': 'Rate limit reached for model `llama3-8b-8192` in organization `org_01hzptswaffbsrqr210cddb30c` on tokens per minute (TPM): Limit 30000, Used 30299, Requested ~1712. Please try again in 4.022s. Visit https://console.groq.com/docs/rate-limits for more information.', 'type': 'tokens', 'code': 'rate_limit_exceeded'}}\n"
     ]
    },
    {
     "name": "stderr",
     "output_type": "stream",
     "text": [
      "2it [00:40, 20.44s/it]\n",
      " 29%|██▉       | 25/85 [09:29<28:15, 28.26s/it]"
     ]
    },
    {
     "name": "stdout",
     "output_type": "stream",
     "text": [
      "   Timestamp  Fridge_power\n",
      "0     [07:00      6.612500\n",
      "1      07:01      6.485417\n",
      "2      07:02      6.687500\n",
      "3      07:03      6.489583\n",
      "4      07:04      6.625000\n",
      "5      07:05      6.656250\n",
      "6      07:06      6.550000\n",
      "7      07:07      6.450000\n",
      "8      07:08      6.675000\n",
      "9      07:09      6.300000\n",
      "10     07:10      6.625000\n",
      "11     07:11      6.675000\n",
      "12     07:12      6.612500\n",
      "13     07:13      6.550000\n",
      "14     07:14      6.625000\n"
     ]
    },
    {
     "name": "stderr",
     "output_type": "stream",
     "text": [
      "2it [00:13,  6.84s/it]\n",
      " 31%|███       | 26/85 [09:42<23:29, 23.89s/it]"
     ]
    },
    {
     "name": "stdout",
     "output_type": "stream",
     "text": [
      "   Timestamp  Fridge_power\n",
      "0     [07:15      6.531250\n",
      "1      07:16      6.531250\n",
      "2      07:17      6.656250\n",
      "3      07:18      6.656250\n",
      "4      07:19      6.593750\n",
      "5      07:20      6.625000\n",
      "6      07:21      6.775000\n",
      "7      07:22      6.718750\n",
      "8      07:23      6.500000\n",
      "9      07:24      6.531250\n",
      "10     07:25      6.775000\n",
      "11     07:26      6.697917\n",
      "12     07:27      6.625000\n",
      "13     07:28      6.687500\n",
      "14     07:29      6.750000\n"
     ]
    },
    {
     "name": "stderr",
     "output_type": "stream",
     "text": [
      "2it [00:09,  4.69s/it]\n",
      " 32%|███▏      | 27/85 [09:52<18:53, 19.55s/it]"
     ]
    },
    {
     "name": "stdout",
     "output_type": "stream",
     "text": [
      "   Timestamp  Fridge_power\n",
      "0       [390       6.46875\n",
      "1        391       6.56250\n",
      "2        392       6.52500\n",
      "3        393       6.50000\n",
      "4        394       6.50000\n",
      "5        395       6.50000\n",
      "6        396       6.62500\n",
      "7        397       6.50000\n",
      "8        398       6.50000\n",
      "9        399       6.50000\n",
      "10       400       6.50000\n",
      "11       401       6.50000\n",
      "12       402       6.50000\n",
      "13       403       6.50000\n",
      "14       404       6.50000\n"
     ]
    },
    {
     "name": "stderr",
     "output_type": "stream",
     "text": []
    },
    {
     "name": "stdout",
     "output_type": "stream",
     "text": [
      "API key limit reached Error code: 429 - {'error': {'message': 'Rate limit reached for model `llama3-8b-8192` in organization `org_01hzptswaffbsrqr210cddb30c` on tokens per minute (TPM): Limit 30000, Used 30429, Requested ~1714. Please try again in 4.285999999s. Visit https://console.groq.com/docs/rate-limits for more information.', 'type': 'tokens', 'code': 'rate_limit_exceeded'}}\n"
     ]
    },
    {
     "name": "stderr",
     "output_type": "stream",
     "text": [
      "2it [00:37, 18.74s/it]\n",
      " 33%|███▎      | 28/85 [10:29<23:41, 24.93s/it]"
     ]
    },
    {
     "name": "stdout",
     "output_type": "stream",
     "text": [
      "   Timestamp  Fridge_power\n",
      "0       [405      6.625000\n",
      "1        406      6.437500\n",
      "2        407      6.687500\n",
      "3        408      6.466667\n",
      "4        409      6.468750\n",
      "5        410      6.812500\n",
      "6        411      6.531250\n",
      "7        412      6.656250\n",
      "8        413      6.468750\n",
      "9        414      6.687500\n",
      "10       415      6.666667\n",
      "11       416      6.750000\n",
      "12       417      6.750000\n",
      "13       418      6.562500\n",
      "14       419      6.756250\n"
     ]
    },
    {
     "name": "stderr",
     "output_type": "stream",
     "text": []
    },
    {
     "name": "stdout",
     "output_type": "stream",
     "text": [
      "API key limit reached Error code: 429 - {'error': {'message': 'Rate limit reached for model `llama3-8b-8192` in organization `org_01hzptswaffbsrqr210cddb30c` on tokens per minute (TPM): Limit 30000, Used 30132, Requested ~1713. Please try again in 3.691s. Visit https://console.groq.com/docs/rate-limits for more information.', 'type': 'tokens', 'code': 'rate_limit_exceeded'}}\n",
      "API key limit reached Error code: 429 - {'error': {'message': 'Rate limit reached for model `llama3-8b-8192` in organization `org_01hzptswaffbsrqr210cddb30c` on tokens per minute (TPM): Limit 30000, Used 30156, Requested ~1713. Please try again in 3.738s. Visit https://console.groq.com/docs/rate-limits for more information.', 'type': 'tokens', 'code': 'rate_limit_exceeded'}}\n"
     ]
    },
    {
     "name": "stderr",
     "output_type": "stream",
     "text": []
    },
    {
     "name": "stdout",
     "output_type": "stream",
     "text": [
      "API key limit reached Error code: 429 - {'error': {'message': 'Rate limit reached for model `llama3-8b-8192` in organization `org_01hzptswaffbsrqr210cddb30c` on tokens per minute (TPM): Limit 30000, Used 30149, Requested ~1713. Please try again in 3.724s. Visit https://console.groq.com/docs/rate-limits for more information.', 'type': 'tokens', 'code': 'rate_limit_exceeded'}}\n"
     ]
    },
    {
     "name": "stderr",
     "output_type": "stream",
     "text": [
      "2it [01:03, 31.52s/it]\n",
      " 34%|███▍      | 29/85 [11:32<33:56, 36.36s/it]"
     ]
    },
    {
     "name": "stdout",
     "output_type": "stream",
     "text": [
      "   Timestamp  Fridge_power\n",
      "0       [420       6.50000\n",
      "1        421       6.50000\n",
      "2        422       6.53125\n",
      "3        423       6.50000\n",
      "4        424       6.50000\n",
      "5        425       6.50000\n",
      "6        426       6.50000\n",
      "7        427       6.56250\n",
      "8        428       6.50000\n",
      "9        429       6.50000\n",
      "10       430       6.50000\n",
      "11       431       6.56250\n",
      "12       432       6.50000\n",
      "13       433       6.50000\n",
      "14       434       6.50000\n"
     ]
    },
    {
     "name": "stderr",
     "output_type": "stream",
     "text": []
    },
    {
     "name": "stdout",
     "output_type": "stream",
     "text": [
      "API key limit reached Error code: 429 - {'error': {'message': 'Rate limit reached for model `llama3-8b-8192` in organization `org_01hzptswaffbsrqr210cddb30c` on tokens per minute (TPM): Limit 30000, Used 30178, Requested ~1713. Please try again in 3.783s. Visit https://console.groq.com/docs/rate-limits for more information.', 'type': 'tokens', 'code': 'rate_limit_exceeded'}}\n"
     ]
    },
    {
     "name": "stderr",
     "output_type": "stream",
     "text": [
      "2it [00:26, 13.49s/it]\n",
      " 35%|███▌      | 30/85 [11:59<30:45, 33.55s/it]"
     ]
    },
    {
     "name": "stdout",
     "output_type": "stream",
     "text": [
      "   Timestamp  Fridge_power\n",
      "0       [435      6.906250\n",
      "1        436      6.812500\n",
      "2        437      6.937500\n",
      "3        438      6.827083\n",
      "4        439      6.843750\n",
      "5        440      6.968750\n",
      "6        441      6.812500\n",
      "7        442      6.843750\n",
      "8        443      6.968750\n",
      "9        444      6.812500\n",
      "10       445      6.968750\n",
      "11       446      6.812500\n",
      "12       447      6.937500\n",
      "13       448      7.000000\n",
      "14       449      6.843750\n"
     ]
    },
    {
     "name": "stderr",
     "output_type": "stream",
     "text": []
    },
    {
     "name": "stdout",
     "output_type": "stream",
     "text": [
      "API key limit reached Error code: 429 - {'error': {'message': 'Rate limit reached for model `llama3-8b-8192` in organization `org_01hzptswaffbsrqr210cddb30c` on tokens per minute (TPM): Limit 30000, Used 30227, Requested ~1712. Please try again in 3.879s. Visit https://console.groq.com/docs/rate-limits for more information.', 'type': 'tokens', 'code': 'rate_limit_exceeded'}}\n"
     ]
    },
    {
     "name": "stderr",
     "output_type": "stream",
     "text": [
      "2it [00:19,  9.50s/it]\n",
      " 36%|███▋      | 31/85 [12:18<26:16, 29.20s/it]"
     ]
    },
    {
     "name": "stdout",
     "output_type": "stream",
     "text": [
      "   Timestamp  Fridge_power\n",
      "0       [450       6.46875\n",
      "1        451       6.53125\n",
      "2        452       6.59375\n",
      "3        453       6.50000\n",
      "4        454       6.56250\n",
      "5        455       6.50000\n",
      "6        456       6.62500\n",
      "7        457       6.50000\n",
      "8        458       6.50000\n",
      "9        459       6.50000\n",
      "10       460       6.50000\n",
      "11       461       6.50000\n",
      "12       462       6.62500\n",
      "13       463       6.68750\n",
      "14       464       6.62500\n"
     ]
    },
    {
     "name": "stderr",
     "output_type": "stream",
     "text": []
    },
    {
     "name": "stdout",
     "output_type": "stream",
     "text": [
      "API key limit reached Error code: 429 - {'error': {'message': 'Rate limit reached for model `llama3-8b-8192` in organization `org_01hzptswaffbsrqr210cddb30c` on tokens per minute (TPM): Limit 30000, Used 30135, Requested ~1713. Please try again in 3.696s. Visit https://console.groq.com/docs/rate-limits for more information.', 'type': 'tokens', 'code': 'rate_limit_exceeded'}}\n"
     ]
    },
    {
     "name": "stderr",
     "output_type": "stream",
     "text": [
      "2it [00:13,  6.71s/it]\n",
      " 38%|███▊      | 32/85 [12:32<21:36, 24.47s/it]"
     ]
    },
    {
     "name": "stdout",
     "output_type": "stream",
     "text": [
      "   Timestamp  Fridge_power\n",
      "0     [08:45      7.404445\n",
      "1      08:46      7.374306\n",
      "2      08:47      7.352500\n",
      "3      08:48      7.628750\n",
      "4      08:49      7.610000\n",
      "5      08:50      7.476250\n",
      "6      08:51      7.498500\n",
      "7      08:52      7.525000\n",
      "8      08:53      7.504750\n",
      "9      08:54      7.436875\n",
      "10     08:55      7.468750\n",
      "11     08:56      7.496375\n",
      "12     08:57      7.473125\n",
      "13     08:58      7.487750\n",
      "14     08:59      7.473000\n"
     ]
    },
    {
     "name": "stderr",
     "output_type": "stream",
     "text": [
      "2it [00:27, 13.55s/it]\n",
      " 39%|███▉      | 33/85 [12:59<21:54, 25.28s/it]"
     ]
    },
    {
     "name": "stdout",
     "output_type": "stream",
     "text": [
      "   Timestamp  Fridge_power\n",
      "0       [480      6.562500\n",
      "1        481      6.500000\n",
      "2        482      6.675000\n",
      "3        483      6.608333\n",
      "4        484      6.656250\n",
      "5        485      6.737500\n",
      "6        486      6.625000\n",
      "7        487      6.531250\n",
      "8        488      6.612500\n",
      "9        489      6.468750\n",
      "10       490      6.812500\n",
      "11       491      6.625000\n",
      "12       492      6.625000\n",
      "13       493      6.643750\n",
      "14       494      6.583333\n"
     ]
    },
    {
     "name": "stderr",
     "output_type": "stream",
     "text": [
      "2it [00:14,  7.16s/it]\n",
      " 40%|████      | 34/85 [13:14<18:47, 22.10s/it]"
     ]
    },
    {
     "name": "stdout",
     "output_type": "stream",
     "text": [
      "   Timestamp  Fridge_power\n",
      "0       [495      6.843750\n",
      "1        496      6.700000\n",
      "2        497      6.625000\n",
      "3        498      6.787500\n",
      "4        499      6.608333\n",
      "5        500      6.737500\n",
      "6        501      6.750000\n",
      "7        502      6.575000\n",
      "8        503      6.741667\n",
      "9        504      6.600000\n",
      "10       505      6.700000\n",
      "11       506      6.741667\n",
      "12       507      6.712500\n",
      "13       508      6.725000\n",
      "14       509      6.725000\n"
     ]
    },
    {
     "name": "stderr",
     "output_type": "stream",
     "text": [
      "2it [00:12,  6.05s/it]\n",
      " 41%|████      | 35/85 [13:26<15:55, 19.11s/it]"
     ]
    },
    {
     "name": "stdout",
     "output_type": "stream",
     "text": [
      "   Timestamp  Fridge_power\n",
      "0       [510      6.625000\n",
      "1        511      6.537500\n",
      "2        512      6.693750\n",
      "3        513      6.708333\n",
      "4        514      6.631250\n",
      "5        515      6.731250\n",
      "6        516      6.656250\n",
      "7        517      6.750000\n",
      "8        518      6.781250\n",
      "9        519      6.781250\n",
      "10       520      6.718750\n",
      "11       521      6.781250\n",
      "12       522      6.718750\n",
      "13       523      6.750000\n",
      "14       524      6.750000\n"
     ]
    },
    {
     "name": "stderr",
     "output_type": "stream",
     "text": []
    },
    {
     "name": "stdout",
     "output_type": "stream",
     "text": [
      "API key limit reached Error code: 429 - {'error': {'message': 'Rate limit reached for model `llama3-8b-8192` in organization `org_01hzptswaffbsrqr210cddb30c` on tokens per minute (TPM): Limit 30000, Used 30086, Requested ~1712. Please try again in 3.596s. Visit https://console.groq.com/docs/rate-limits for more information.', 'type': 'tokens', 'code': 'rate_limit_exceeded'}}\n"
     ]
    },
    {
     "name": "stderr",
     "output_type": "stream",
     "text": [
      "2it [00:54, 27.01s/it]\n",
      " 42%|████▏     | 36/85 [14:20<24:10, 29.60s/it]"
     ]
    },
    {
     "name": "stdout",
     "output_type": "stream",
     "text": [
      "   Timestamp  Fridge_power\n",
      "0     [09:45      4.687500\n",
      "1      09:46      4.593750\n",
      "2      09:47      4.718750\n",
      "3      09:48      4.608333\n",
      "4      09:49      4.625000\n",
      "5      09:50      4.781250\n",
      "6      09:51      4.625000\n",
      "7      09:52      4.656250\n",
      "8      09:53      4.750000\n",
      "9      09:54      4.687500\n",
      "10     09:55      4.781250\n",
      "11     09:56      4.812500\n",
      "12     09:57      4.625000\n",
      "13     09:58      4.687500\n",
      "14     09:59      4.656250\n"
     ]
    },
    {
     "name": "stderr",
     "output_type": "stream",
     "text": [
      "2it [00:09,  4.83s/it]\n",
      " 44%|████▎     | 37/85 [14:29<18:54, 23.63s/it]"
     ]
    },
    {
     "name": "stdout",
     "output_type": "stream",
     "text": [
      "   Timestamp  Fridge_power\n",
      "0       [540      6.000000\n",
      "1        541      6.000000\n",
      "2        542      5.968750\n",
      "3        543      6.093750\n",
      "4        544      6.000000\n",
      "5        545      6.083333\n",
      "6        546      6.000000\n",
      "7        547      6.056250\n",
      "8        548      6.000000\n",
      "9        549      6.000000\n",
      "10       550      6.000000\n",
      "11       551      6.000000\n",
      "12       552      6.000000\n",
      "13       553      6.000000\n",
      "14       554      6.000000\n"
     ]
    },
    {
     "name": "stderr",
     "output_type": "stream",
     "text": []
    },
    {
     "name": "stdout",
     "output_type": "stream",
     "text": [
      "API key limit reached Error code: 429 - {'error': {'message': 'Rate limit reached for model `llama3-8b-8192` in organization `org_01hzptswaffbsrqr210cddb30c` on tokens per minute (TPM): Limit 30000, Used 30167, Requested ~1715. Please try again in 3.765s. Visit https://console.groq.com/docs/rate-limits for more information.', 'type': 'tokens', 'code': 'rate_limit_exceeded'}}\n",
      "API key limit reached Error code: 429 - {'error': {'message': 'Rate limit reached for model `llama3-8b-8192` in organization `org_01hzptswaffbsrqr210cddb30c` on tokens per minute (TPM): Limit 30000, Used 30187, Requested ~1715. Please try again in 3.805s. Visit https://console.groq.com/docs/rate-limits for more information.', 'type': 'tokens', 'code': 'rate_limit_exceeded'}}\n"
     ]
    },
    {
     "name": "stderr",
     "output_type": "stream",
     "text": []
    },
    {
     "name": "stdout",
     "output_type": "stream",
     "text": [
      "API key limit reached Error code: 429 - {'error': {'message': 'Rate limit reached for model `llama3-8b-8192` in organization `org_01hzptswaffbsrqr210cddb30c` on tokens per minute (TPM): Limit 30000, Used 30228, Requested ~1715. Please try again in 3.887s. Visit https://console.groq.com/docs/rate-limits for more information.', 'type': 'tokens', 'code': 'rate_limit_exceeded'}}\n"
     ]
    },
    {
     "name": "stderr",
     "output_type": "stream",
     "text": [
      "2it [00:31, 15.71s/it]\n",
      " 45%|████▍     | 38/85 [15:01<20:27, 26.11s/it]"
     ]
    },
    {
     "name": "stdout",
     "output_type": "stream",
     "text": [
      "   Timestamp  Fridge_power\n",
      "0       [555      6.468750\n",
      "1        556      6.468750\n",
      "2        557      6.687500\n",
      "3        558      6.531250\n",
      "4        559      6.734375\n",
      "5        560      6.500000\n",
      "6        561      6.687500\n",
      "7        562      6.625000\n",
      "8        563      6.750000\n",
      "9        564      6.781250\n",
      "10       565      6.625000\n",
      "11       566      6.781250\n",
      "12       567      6.468750\n",
      "13       568      6.625000\n",
      "14       569      6.531250\n"
     ]
    },
    {
     "name": "stderr",
     "output_type": "stream",
     "text": [
      "2it [00:22, 11.40s/it]\n",
      " 46%|████▌     | 39/85 [15:24<19:16, 25.14s/it]"
     ]
    },
    {
     "name": "stdout",
     "output_type": "stream",
     "text": [
      "   Timestamp  Fridge_power\n",
      "0       [570      6.468750\n",
      "1        571      6.531250\n",
      "2        572      6.562500\n",
      "3        573      6.500000\n",
      "4        574      6.662500\n",
      "5        575      6.687500\n",
      "6        576      6.500000\n",
      "7        577      6.500000\n",
      "8        578      6.625000\n",
      "9        579      6.583333\n",
      "10       580      6.375000\n",
      "11       581      6.406250\n",
      "12       582      6.500000\n",
      "13       583      6.656250\n",
      "14       584      6.583333\n"
     ]
    },
    {
     "name": "stderr",
     "output_type": "stream",
     "text": []
    },
    {
     "name": "stdout",
     "output_type": "stream",
     "text": [
      "API key limit reached Error code: 429 - {'error': {'message': 'Rate limit reached for model `llama3-8b-8192` in organization `org_01hzptswaffbsrqr210cddb30c` on tokens per minute (TPM): Limit 30000, Used 30218, Requested ~1712. Please try again in 3.861s. Visit https://console.groq.com/docs/rate-limits for more information.', 'type': 'tokens', 'code': 'rate_limit_exceeded'}}\n"
     ]
    },
    {
     "name": "stderr",
     "output_type": "stream",
     "text": [
      "2it [00:17,  9.00s/it]\n",
      " 47%|████▋     | 40/85 [15:42<17:16, 23.04s/it]"
     ]
    },
    {
     "name": "stdout",
     "output_type": "stream",
     "text": [
      "   Timestamp  Fridge_power\n",
      "0       [585      6.645833\n",
      "1        586      6.552083\n",
      "2        587      6.677083\n",
      "3        588      6.566667\n",
      "4        589      6.583333\n",
      "5        590      6.739583\n",
      "6        591      6.583333\n",
      "7        592      6.614583\n",
      "8        593      6.645833\n",
      "9        594      6.677083\n",
      "10       595      6.558333\n",
      "11       596      6.583333\n",
      "12       597      6.645833\n",
      "13       598      6.677083\n",
      "14       599      6.583333\n"
     ]
    },
    {
     "name": "stderr",
     "output_type": "stream",
     "text": []
    },
    {
     "name": "stdout",
     "output_type": "stream",
     "text": [
      "API key limit reached Error code: 429 - {'error': {'message': 'Rate limit reached for model `llama3-8b-8192` in organization `org_01hzptswaffbsrqr210cddb30c` on tokens per minute (TPM): Limit 30000, Used 30128, Requested ~1713. Please try again in 3.682s. Visit https://console.groq.com/docs/rate-limits for more information.', 'type': 'tokens', 'code': 'rate_limit_exceeded'}}\n"
     ]
    },
    {
     "name": "stderr",
     "output_type": "stream",
     "text": [
      "2it [00:27, 13.88s/it]\n",
      " 48%|████▊     | 41/85 [16:11<18:03, 24.64s/it]"
     ]
    },
    {
     "name": "stdout",
     "output_type": "stream",
     "text": [
      "   Timestamp  Fridge_power\n",
      "0     [11:00    209.440300\n",
      "1      11:01    208.576570\n",
      "2      11:02    133.049375\n",
      "3      11:03    125.700750\n",
      "4      11:04    245.054060\n",
      "5      11:05    126.370000\n",
      "6      11:06    125.618750\n",
      "7      11:07    132.583130\n",
      "8      11:08    127.619380\n",
      "9      11:09    126.792000\n",
      "10     11:10     93.110315\n",
      "11     11:11     91.005310\n",
      "12     11:12     92.151880\n",
      "13     11:13     91.326875\n",
      "14     11:14     91.015310\n"
     ]
    },
    {
     "name": "stderr",
     "output_type": "stream",
     "text": [
      "2it [00:13,  6.89s/it]\n",
      " 49%|████▉     | 42/85 [16:25<15:20, 21.42s/it]"
     ]
    },
    {
     "name": "stdout",
     "output_type": "stream",
     "text": [
      "   Timestamp  Fridge_power\n",
      "0       [615      6.250250\n",
      "1        616      6.500000\n",
      "2        617      6.605000\n",
      "3        618      6.518750\n",
      "4        619      6.641667\n",
      "5        620      6.656250\n",
      "6        621      6.500000\n",
      "7        622      6.708333\n",
      "8        623      6.500000\n",
      "9        624      6.566667\n",
      "10       625      6.550000\n",
      "11       626      6.666666\n",
      "12       627      6.541666\n",
      "13       628      6.583333\n",
      "14       629      6.687500\n"
     ]
    },
    {
     "name": "stderr",
     "output_type": "stream",
     "text": [
      "2it [00:45, 22.94s/it]\n",
      " 51%|█████     | 43/85 [17:11<20:08, 28.78s/it]"
     ]
    },
    {
     "name": "stdout",
     "output_type": "stream",
     "text": [
      "   Timestamp  Fridge_power\n",
      "0       [630      6.554688\n",
      "1        631      6.459375\n",
      "2        632      6.468750\n",
      "3        633      6.453125\n",
      "4        634      6.593750\n",
      "5        635      6.500000\n",
      "6        636      6.515625\n",
      "7        637      6.531250\n",
      "8        638      6.515625\n",
      "9        639      6.500000\n",
      "10       640      6.500000\n",
      "11       641      6.500000\n",
      "12       642      6.531250\n",
      "13       643      6.500000\n",
      "14       644      6.500000\n"
     ]
    },
    {
     "name": "stderr",
     "output_type": "stream",
     "text": []
    },
    {
     "name": "stdout",
     "output_type": "stream",
     "text": [
      "API key limit reached Error code: 429 - {'error': {'message': 'Rate limit reached for model `llama3-8b-8192` in organization `org_01hzptswaffbsrqr210cddb30c` on tokens per minute (TPM): Limit 30000, Used 30405, Requested ~1714. Please try again in 4.238s. Visit https://console.groq.com/docs/rate-limits for more information.', 'type': 'tokens', 'code': 'rate_limit_exceeded'}}\n"
     ]
    },
    {
     "name": "stderr",
     "output_type": "stream",
     "text": [
      "2it [00:17,  8.53s/it]\n",
      " 52%|█████▏    | 44/85 [17:28<17:17, 25.30s/it]"
     ]
    },
    {
     "name": "stdout",
     "output_type": "stream",
     "text": [
      "   Timestamp  Fridge_power\n",
      "0       [645       5.58125\n",
      "1        646       5.44000\n",
      "2        647       5.50000\n",
      "3        648       5.41500\n",
      "4        649       5.36500\n",
      "5        650       5.40375\n",
      "6        651       5.48375\n",
      "7        652       5.44500\n",
      "8        653       5.35500\n",
      "9        654       5.38000\n",
      "10       655       5.40000\n",
      "11       656       5.38000\n",
      "12       657       5.41500\n",
      "13       658       5.44000\n",
      "14       659       5.46000\n"
     ]
    },
    {
     "name": "stderr",
     "output_type": "stream",
     "text": [
      "2it [00:13,  6.96s/it]\n",
      " 53%|█████▎    | 45/85 [17:42<14:37, 21.94s/it]"
     ]
    },
    {
     "name": "stdout",
     "output_type": "stream",
     "text": [
      "   Timestamp  Fridge_power\n",
      "0       [660       6.53750\n",
      "1        661       6.34375\n",
      "2        662       6.58125\n",
      "3        663       6.65625\n",
      "4        664       6.61250\n",
      "5        665       6.59375\n",
      "6        666       6.40625\n",
      "7        667       6.61875\n",
      "8        668       6.62500\n",
      "9        669       6.62500\n",
      "10       670       6.59375\n",
      "11       671       6.63750\n",
      "12       672       6.63125\n",
      "13       673       6.40625\n",
      "14       674       6.53125\n"
     ]
    },
    {
     "name": "stderr",
     "output_type": "stream",
     "text": []
    },
    {
     "name": "stdout",
     "output_type": "stream",
     "text": [
      "API key limit reached Error code: 429 - {'error': {'message': 'Rate limit reached for model `llama3-8b-8192` in organization `org_01hzptswaffbsrqr210cddb30c` on tokens per minute (TPM): Limit 30000, Used 29945, Requested ~1714. Please try again in 3.317s. Visit https://console.groq.com/docs/rate-limits for more information.', 'type': 'tokens', 'code': 'rate_limit_exceeded'}}\n"
     ]
    },
    {
     "name": "stderr",
     "output_type": "stream",
     "text": [
      "2it [00:23, 11.57s/it]\n",
      " 54%|█████▍    | 46/85 [18:05<14:30, 22.33s/it]"
     ]
    },
    {
     "name": "stdout",
     "output_type": "stream",
     "text": [
      "   Timestamp  Fridge_power\n",
      "0     [12:15       6.59375\n",
      "1      12:16       6.53125\n",
      "2      12:17       6.59375\n",
      "3      12:18       6.50000\n",
      "4      12:19       6.50000\n",
      "5      12:20       6.65625\n",
      "6      12:21       6.62500\n",
      "7      12:22       6.50000\n",
      "8      12:23       6.62500\n",
      "9      12:24       6.50000\n",
      "10     12:25       6.56250\n",
      "11     12:26       6.65625\n",
      "12     12:27       6.62500\n",
      "13     12:28       6.50000\n",
      "14     12:29       6.62500\n"
     ]
    },
    {
     "name": "stderr",
     "output_type": "stream",
     "text": []
    },
    {
     "name": "stdout",
     "output_type": "stream",
     "text": [
      "API key limit reached Error code: 429 - {'error': {'message': 'Rate limit reached for model `llama3-8b-8192` in organization `org_01hzptswaffbsrqr210cddb30c` on tokens per minute (TPM): Limit 30000, Used 30352, Requested ~1712. Please try again in 4.128s. Visit https://console.groq.com/docs/rate-limits for more information.', 'type': 'tokens', 'code': 'rate_limit_exceeded'}}\n"
     ]
    },
    {
     "name": "stderr",
     "output_type": "stream",
     "text": [
      "2it [00:17,  8.95s/it]\n",
      " 55%|█████▌    | 47/85 [18:23<13:18, 21.02s/it]"
     ]
    },
    {
     "name": "stdout",
     "output_type": "stream",
     "text": [
      "   Timestamp  Fridge_power\n",
      "0       [690      6.625000\n",
      "1        691      6.437500\n",
      "2        692      6.718750\n",
      "3        693      6.483333\n",
      "4        694      6.500000\n",
      "5        695      6.812500\n",
      "6        696      6.500000\n",
      "7        697      6.406250\n",
      "8        698      6.562500\n",
      "9        699      6.708333\n",
      "10       700      6.812500\n",
      "11       701      6.625000\n",
      "12       702      6.718750\n",
      "13       703      6.562500\n",
      "14       704      6.500000\n"
     ]
    },
    {
     "name": "stderr",
     "output_type": "stream",
     "text": [
      "2it [00:13,  6.56s/it]\n",
      " 56%|█████▋    | 48/85 [18:36<11:30, 18.67s/it]"
     ]
    },
    {
     "name": "stdout",
     "output_type": "stream",
     "text": [
      "   Timestamp  Fridge_power\n",
      "0       [705       6.59375\n",
      "1        706       6.55000\n",
      "2        707       6.53125\n",
      "3        708       6.71875\n",
      "4        709       6.55625\n",
      "5        710       6.63750\n",
      "6        711       6.45625\n",
      "7        712       6.53125\n",
      "8        713       6.71875\n",
      "9        714       6.73125\n",
      "10       715       6.60000\n",
      "11       716       6.52500\n",
      "12       717       6.53125\n",
      "13       718       6.63750\n",
      "14       719       6.62500\n"
     ]
    },
    {
     "name": "stderr",
     "output_type": "stream",
     "text": [
      "2it [00:13,  6.95s/it]\n",
      " 58%|█████▊    | 49/85 [18:50<10:21, 17.27s/it]"
     ]
    },
    {
     "name": "stdout",
     "output_type": "stream",
     "text": [
      "   Timestamp  Fridge_power\n",
      "0       [720      6.583333\n",
      "1        721      6.802083\n",
      "2        722      6.708333\n",
      "3        723      6.770833\n",
      "4        724      6.583333\n",
      "5        725      6.708333\n",
      "6        726      6.583333\n",
      "7        727      6.645833\n",
      "8        728      6.708333\n",
      "9        729      6.583333\n",
      "10       730      6.708333\n",
      "11       731      6.583333\n",
      "12       732      6.708333\n",
      "13       733      6.583333\n",
      "14       734      6.770833\n"
     ]
    },
    {
     "name": "stderr",
     "output_type": "stream",
     "text": [
      "2it [00:13,  6.88s/it]\n",
      " 59%|█████▉    | 50/85 [19:04<09:27, 16.23s/it]"
     ]
    },
    {
     "name": "stdout",
     "output_type": "stream",
     "text": [
      "   Timestamp  Fridge_power\n",
      "0       [735      6.583333\n",
      "1        736      6.583333\n",
      "2        737      6.625000\n",
      "3        738      6.531250\n",
      "4        739      6.500000\n",
      "5        740      6.583333\n",
      "6        741      6.625000\n",
      "7        742      6.562500\n",
      "8        743      6.562500\n",
      "9        744      6.500000\n",
      "10       745      6.583333\n",
      "11       746      6.625000\n",
      "12       747      6.583333\n",
      "13       748      6.500000\n",
      "14       749      6.583333\n"
     ]
    },
    {
     "name": "stderr",
     "output_type": "stream",
     "text": []
    },
    {
     "name": "stdout",
     "output_type": "stream",
     "text": [
      "API key limit reached Error code: 429 - {'error': {'message': 'Rate limit reached for model `llama3-8b-8192` in organization `org_01hzptswaffbsrqr210cddb30c` on tokens per minute (TPM): Limit 30000, Used 30139, Requested ~1712. Please try again in 3.703s. Visit https://console.groq.com/docs/rate-limits for more information.', 'type': 'tokens', 'code': 'rate_limit_exceeded'}}\n"
     ]
    },
    {
     "name": "stderr",
     "output_type": "stream",
     "text": [
      "2it [00:37, 18.68s/it]\n",
      " 60%|██████    | 51/85 [19:42<12:47, 22.58s/it]"
     ]
    },
    {
     "name": "stdout",
     "output_type": "stream",
     "text": [
      "   Timestamp  Fridge_power\n",
      "0     [13:30       6.50000\n",
      "1      13:31       6.46875\n",
      "2      13:32       6.62500\n",
      "3      13:33       6.53125\n",
      "4      13:34       6.50000\n",
      "5      13:35       6.61250\n",
      "6      13:36       6.50000\n",
      "7      13:37       6.65625\n",
      "8      13:38       6.62500\n",
      "9      13:39       6.62500\n",
      "10     13:40       6.65625\n",
      "11     13:41       6.50000\n",
      "12     13:42       6.50000\n",
      "13     13:43       6.53125\n",
      "14     13:44       6.50000\n"
     ]
    },
    {
     "name": "stderr",
     "output_type": "stream",
     "text": [
      "2it [00:08,  4.39s/it]\n",
      " 61%|██████    | 52/85 [19:50<10:08, 18.45s/it]"
     ]
    },
    {
     "name": "stdout",
     "output_type": "stream",
     "text": [
      "   Timestamp  Fridge_power\n",
      "0       [765      6.550000\n",
      "1        766      6.614583\n",
      "2        767      6.625000\n",
      "3        768      6.500000\n",
      "4        769      6.625000\n",
      "5        770      6.687500\n",
      "6        771      6.708333\n",
      "7        772      6.625000\n",
      "8        773      6.718750\n",
      "9        774      6.708333\n",
      "10       775      6.625000\n",
      "11       776      6.625000\n",
      "12       777      6.500000\n",
      "13       778      6.625000\n",
      "14       779      6.625000\n"
     ]
    },
    {
     "name": "stderr",
     "output_type": "stream",
     "text": []
    },
    {
     "name": "stdout",
     "output_type": "stream",
     "text": [
      "API key limit reached Error code: 429 - {'error': {'message': 'Rate limit reached for model `llama3-8b-8192` in organization `org_01hzptswaffbsrqr210cddb30c` on tokens per minute (TPM): Limit 30000, Used 30135, Requested ~1714. Please try again in 3.698s. Visit https://console.groq.com/docs/rate-limits for more information.', 'type': 'tokens', 'code': 'rate_limit_exceeded'}}\n"
     ]
    },
    {
     "name": "stderr",
     "output_type": "stream",
     "text": [
      "2it [00:17,  8.92s/it]\n",
      " 62%|██████▏   | 53/85 [20:08<09:45, 18.28s/it]"
     ]
    },
    {
     "name": "stdout",
     "output_type": "stream",
     "text": [
      "   Timestamp  Fridge_power\n",
      "0       [780      6.165625\n",
      "1        781      6.273438\n",
      "2        782      6.218750\n",
      "3        783      6.140625\n",
      "4        784      6.093750\n",
      "5        785      6.187500\n",
      "6        786      6.218750\n",
      "7        787      6.187500\n",
      "8        788      6.187500\n",
      "9        789      6.187500\n",
      "10       790      6.218750\n",
      "11       791      6.250000\n",
      "12       792      6.156250\n",
      "13       793      6.187500\n",
      "14       794      6.125000\n"
     ]
    },
    {
     "name": "stderr",
     "output_type": "stream",
     "text": [
      "2it [00:10,  5.31s/it]\n",
      " 64%|██████▎   | 54/85 [20:19<08:15, 15.99s/it]"
     ]
    },
    {
     "name": "stdout",
     "output_type": "stream",
     "text": [
      "   Timestamp  Fridge_power\n",
      "0       [795      6.583333\n",
      "1        796      6.575093\n",
      "2        797      6.653125\n",
      "3        798      6.708333\n",
      "4        799      6.718750\n",
      "5        800      6.750000\n",
      "6        801      6.687500\n",
      "7        802      6.687500\n",
      "8        803      6.658333\n",
      "9        804      6.818750\n",
      "10       805      6.681250\n",
      "11       806      6.662500\n",
      "12       807      6.706250\n",
      "13       808      6.725000\n",
      "14       809      6.670833\n"
     ]
    },
    {
     "name": "stderr",
     "output_type": "stream",
     "text": [
      "2it [00:11,  5.88s/it]\n",
      " 65%|██████▍   | 55/85 [20:31<07:22, 14.74s/it]"
     ]
    },
    {
     "name": "stdout",
     "output_type": "stream",
     "text": [
      "   Timestamp  Fridge_power\n",
      "0       [810      6.562500\n",
      "1        811      6.500000\n",
      "2        812      6.656250\n",
      "3        813      6.443750\n",
      "4        814      6.537500\n",
      "5        815      6.500000\n",
      "6        816      6.677083\n",
      "7        817      6.531250\n",
      "8        818      6.625000\n",
      "9        819      6.437500\n",
      "10       820      6.531250\n",
      "11       821      6.593750\n",
      "12       822      6.625000\n",
      "13       823      6.500000\n",
      "14       824      6.750000\n"
     ]
    },
    {
     "name": "stderr",
     "output_type": "stream",
     "text": []
    },
    {
     "name": "stdout",
     "output_type": "stream",
     "text": [
      "API key limit reached Error code: 429 - {'error': {'message': 'Rate limit reached for model `llama3-8b-8192` in organization `org_01hzptswaffbsrqr210cddb30c` on tokens per minute (TPM): Limit 30000, Used 30354, Requested ~1714. Please try again in 4.136s. Visit https://console.groq.com/docs/rate-limits for more information.', 'type': 'tokens', 'code': 'rate_limit_exceeded'}}\n"
     ]
    },
    {
     "name": "stderr",
     "output_type": "stream",
     "text": [
      "2it [00:23, 11.88s/it]\n",
      " 66%|██████▌   | 56/85 [20:54<08:26, 17.46s/it]"
     ]
    },
    {
     "name": "stdout",
     "output_type": "stream",
     "text": [
      "   Timestamp  Fridge_power\n",
      "0       [825      6.343750\n",
      "1        826      6.468750\n",
      "2        827      6.687500\n",
      "3        828      6.516667\n",
      "4        829      6.437500\n",
      "5        830      6.750000\n",
      "6        831      6.718750\n",
      "7        832      6.500000\n",
      "8        833      6.656250\n",
      "9        834      6.656250\n",
      "10       835      6.625000\n",
      "11       836      6.812500\n",
      "12       837      6.625000\n",
      "13       838      6.500000\n",
      "14       839      6.562500\n"
     ]
    },
    {
     "name": "stderr",
     "output_type": "stream",
     "text": []
    },
    {
     "name": "stdout",
     "output_type": "stream",
     "text": [
      "API key limit reached Error code: 429 - {'error': {'message': 'Rate limit reached for model `llama3-8b-8192` in organization `org_01hzptswaffbsrqr210cddb30c` on tokens per minute (TPM): Limit 30000, Used 30355, Requested ~1713. Please try again in 4.136999999s. Visit https://console.groq.com/docs/rate-limits for more information.', 'type': 'tokens', 'code': 'rate_limit_exceeded'}}\n"
     ]
    },
    {
     "name": "stderr",
     "output_type": "stream",
     "text": [
      "2it [00:18,  9.47s/it]\n",
      " 67%|██████▋   | 57/85 [21:13<08:21, 17.92s/it]"
     ]
    },
    {
     "name": "stdout",
     "output_type": "stream",
     "text": [
      "   Timestamp  Fridge_power\n",
      "0       [840      6.559375\n",
      "1        841      6.564583\n",
      "2        842      6.508333\n",
      "3        843      6.433333\n",
      "4        844      6.433333\n",
      "5        845      6.483333\n",
      "6        846      6.483333\n",
      "7        847      6.545833\n",
      "8        848      6.614583\n",
      "9        849      6.583333\n",
      "10       850      6.583333\n",
      "11       851      6.583333\n",
      "12       852      6.583333\n",
      "13       853      6.583333\n",
      "14       854      6.583333\n"
     ]
    },
    {
     "name": "stderr",
     "output_type": "stream",
     "text": []
    },
    {
     "name": "stdout",
     "output_type": "stream",
     "text": [
      "API key limit reached Error code: 429 - {'error': {'message': 'Rate limit reached for model `llama3-8b-8192` in organization `org_01hzptswaffbsrqr210cddb30c` on tokens per minute (TPM): Limit 30000, Used 30269, Requested ~1712. Please try again in 3.962s. Visit https://console.groq.com/docs/rate-limits for more information.', 'type': 'tokens', 'code': 'rate_limit_exceeded'}}\n"
     ]
    },
    {
     "name": "stderr",
     "output_type": "stream",
     "text": [
      "2it [00:35, 17.95s/it]\n",
      " 68%|██████▊   | 58/85 [21:49<10:29, 23.32s/it]"
     ]
    },
    {
     "name": "stdout",
     "output_type": "stream",
     "text": [
      "   Timestamp  Fridge_power\n",
      "0       [855      6.580000\n",
      "1        856      6.536250\n",
      "2        857      6.647500\n",
      "3        858      6.518750\n",
      "4        859      6.600000\n",
      "5        860      6.796250\n",
      "6        861      6.495000\n",
      "7        862      6.596250\n",
      "8        863      6.516667\n",
      "9        864      6.688750\n",
      "10       865      6.592500\n",
      "11       866      6.560000\n",
      "12       867      6.661667\n",
      "13       868      6.710000\n",
      "14       869      6.695000\n"
     ]
    },
    {
     "name": "stderr",
     "output_type": "stream",
     "text": [
      "2it [00:22, 11.20s/it]\n",
      " 69%|██████▉   | 59/85 [22:12<09:59, 23.07s/it]"
     ]
    },
    {
     "name": "stdout",
     "output_type": "stream",
     "text": [
      "   Timestamp  Fridge_power\n",
      "0       [870       6.62500\n",
      "1        871       6.59375\n",
      "2        872       6.59375\n",
      "3        873       6.53125\n",
      "4        874       6.53125\n",
      "5        875       6.62500\n",
      "6        876       6.65625\n",
      "7        877       6.53125\n",
      "8        878       6.59375\n",
      "9        879       6.65625\n",
      "10       880       6.62500\n",
      "11       881       6.50000\n",
      "12       882       6.56250\n",
      "13       883       6.62500\n",
      "14       884       6.65625\n"
     ]
    },
    {
     "name": "stderr",
     "output_type": "stream",
     "text": [
      "2it [00:38, 19.04s/it]\n",
      " 71%|███████   | 60/85 [22:50<11:29, 27.58s/it]"
     ]
    },
    {
     "name": "stdout",
     "output_type": "stream",
     "text": [
      "   Timestamp  Fridge_power\n",
      "0       [885      6.312500\n",
      "1        886      6.218750\n",
      "2        887      6.375000\n",
      "3        888      6.234375\n",
      "4        889      6.250000\n",
      "5        890      6.375000\n",
      "6        891      6.343750\n",
      "7        892      6.375000\n",
      "8        893      6.281250\n",
      "9        894      6.406250\n",
      "10       895      6.375000\n",
      "11       896      6.450000\n",
      "12       897      6.375000\n",
      "13       898      6.375000\n",
      "14       899      6.375000\n"
     ]
    },
    {
     "name": "stderr",
     "output_type": "stream",
     "text": [
      "2it [00:03,  1.64s/it]\n",
      " 72%|███████▏  | 61/85 [22:53<08:07, 20.30s/it]"
     ]
    },
    {
     "name": "stdout",
     "output_type": "stream",
     "text": [
      "   Timestamp  Fridge_power\n",
      "0       [914       6.43750\n",
      "1        911       6.53125\n",
      "2        908       6.65625\n",
      "3        905       6.46875\n",
      "4        902       6.56250\n",
      "5        899       6.62500\n",
      "6        896       6.59375\n",
      "7        893       6.56250\n",
      "8        890       6.50000\n",
      "9        887       6.62500\n",
      "10       884       6.62500\n",
      "11       881       6.62500\n",
      "12       878       6.65625\n",
      "13       875       6.62500\n",
      "14       872       6.65625\n"
     ]
    },
    {
     "name": "stderr",
     "output_type": "stream",
     "text": [
      "2it [00:05,  2.50s/it]\n",
      " 73%|███████▎  | 62/85 [22:58<06:01, 15.72s/it]"
     ]
    },
    {
     "name": "stdout",
     "output_type": "stream",
     "text": [
      "   Timestamp  Fridge_power\n",
      "0       [915      6.531250\n",
      "1        916      6.645833\n",
      "2        917      6.781250\n",
      "3        918      6.562500\n",
      "4        919      6.593750\n",
      "5        920      6.625000\n",
      "6        921      6.750000\n",
      "7        922      6.718750\n",
      "8        923      6.500000\n",
      "9        924      6.562500\n",
      "10       925      6.718750\n",
      "11       926      6.812500\n",
      "12       927      6.718750\n",
      "13       928      6.645833\n",
      "14       929      6.718750\n"
     ]
    },
    {
     "name": "stderr",
     "output_type": "stream",
     "text": []
    },
    {
     "name": "stdout",
     "output_type": "stream",
     "text": [
      "API key limit reached Error code: 429 - {'error': {'message': 'Rate limit reached for model `llama3-8b-8192` in organization `org_01hzptswaffbsrqr210cddb30c` on tokens per minute (TPM): Limit 30000, Used 30169, Requested ~1713. Please try again in 3.765s. Visit https://console.groq.com/docs/rate-limits for more information.', 'type': 'tokens', 'code': 'rate_limit_exceeded'}}\n"
     ]
    },
    {
     "name": "stderr",
     "output_type": "stream",
     "text": [
      "2it [00:39, 19.89s/it]\n",
      " 74%|███████▍  | 63/85 [23:38<08:24, 22.95s/it]"
     ]
    },
    {
     "name": "stdout",
     "output_type": "stream",
     "text": [
      "   Timestamp  Fridge_power\n",
      "0       [930      6.693750\n",
      "1        931      6.658333\n",
      "2        932      6.662500\n",
      "3        933      6.658333\n",
      "4        934      6.675000\n",
      "5        935      6.600000\n",
      "6        936      6.662500\n",
      "7        937      6.658333\n",
      "8        938      6.725000\n",
      "9        939      6.662500\n",
      "10       940      6.683333\n",
      "11       941      6.731250\n",
      "12       942      6.725000\n",
      "13       943      6.683333\n",
      "14       944      6.725000\n"
     ]
    },
    {
     "name": "stderr",
     "output_type": "stream",
     "text": []
    },
    {
     "name": "stdout",
     "output_type": "stream",
     "text": [
      "API key limit reached Connection error.\n"
     ]
    },
    {
     "name": "stderr",
     "output_type": "stream",
     "text": [
      "2it [07:54, 237.39s/it]\n",
      " 75%|███████▌  | 64/85 [31:33<55:28, 158.51s/it]"
     ]
    },
    {
     "name": "stdout",
     "output_type": "stream",
     "text": [
      "   Timestamp  Fridge_power\n",
      "0       [945       5.75000\n",
      "1        946       6.25000\n",
      "2        947       6.28125\n",
      "3        948       6.37500\n",
      "4        949       6.25000\n",
      "5        950       6.25000\n",
      "6        951       6.31250\n",
      "7        952       6.25000\n",
      "8        953       6.25000\n",
      "9        954       6.25000\n",
      "10       955       6.25000\n",
      "11       956       6.25000\n",
      "12       957       6.25000\n",
      "13       958       6.25000\n",
      "14       959       6.25000\n"
     ]
    },
    {
     "name": "stderr",
     "output_type": "stream",
     "text": [
      "2it [00:03,  1.87s/it]\n",
      " 76%|███████▋  | 65/85 [31:37<37:22, 112.10s/it]"
     ]
    },
    {
     "name": "stdout",
     "output_type": "stream",
     "text": [
      "   Timestamp  Fridge_power\n",
      "0       [960      6.312500\n",
      "1        961      6.400000\n",
      "2        962      6.518750\n",
      "3        963      6.762500\n",
      "4        964      6.787500\n",
      "5        965      6.708333\n",
      "6        966      6.733333\n",
      "7        967      6.758333\n",
      "8        968      6.825000\n",
      "9        969      6.850000\n",
      "10       970      6.875000\n",
      "11       971      6.900000\n",
      "12       972      6.925000\n",
      "13       973      6.950000\n",
      "14       974      6.975000\n"
     ]
    },
    {
     "name": "stderr",
     "output_type": "stream",
     "text": [
      "2it [00:11,  5.64s/it]\n",
      " 78%|███████▊  | 66/85 [31:48<25:55, 81.87s/it] "
     ]
    },
    {
     "name": "stdout",
     "output_type": "stream",
     "text": [
      "   Timestamp  Fridge_power\n",
      "0       [975      6.618750\n",
      "1        976      6.506250\n",
      "2        977      6.631250\n",
      "3        978      6.541683\n",
      "4        979      6.558350\n",
      "5        980      6.706250\n",
      "6        981      6.656250\n",
      "7        982      6.681250\n",
      "8        983      6.700000\n",
      "9        984      6.556250\n",
      "10       985      6.737500\n",
      "11       986      6.725000\n",
      "12       987      6.600000\n",
      "13       988      6.756250\n",
      "14       989      6.725000\n"
     ]
    },
    {
     "name": "stderr",
     "output_type": "stream",
     "text": [
      "2it [00:08,  4.35s/it]\n",
      " 79%|███████▉  | 67/85 [31:57<17:58, 59.92s/it]"
     ]
    },
    {
     "name": "stdout",
     "output_type": "stream",
     "text": [
      "   Timestamp  Fridge_power\n",
      "0       [990       5.78750\n",
      "1        991       6.27500\n",
      "2        992       6.37500\n",
      "3        993       5.77500\n",
      "4        994       6.31250\n",
      "5        995       6.27500\n",
      "6        996       5.82500\n",
      "7        997       6.28125\n",
      "8        998       6.30000\n",
      "9        999       5.77500\n",
      "10      1000       6.30000\n",
      "11      1001       6.27500\n",
      "12      1002       5.82500\n",
      "13      1003       6.30000\n",
      "14      1004       6.31250\n"
     ]
    },
    {
     "name": "stderr",
     "output_type": "stream",
     "text": [
      "2it [00:09,  4.97s/it]\n",
      " 80%|████████  | 68/85 [32:07<12:43, 44.94s/it]"
     ]
    },
    {
     "name": "stdout",
     "output_type": "stream",
     "text": [
      "   Timestamp  Fridge_power\n",
      "0      [1005       5.96875\n",
      "1       1006       6.03125\n",
      "2       1007       5.87500\n",
      "3       1008       5.84375\n",
      "4       1009       6.00000\n",
      "5       1010       5.96875\n",
      "6       1011       5.87500\n",
      "7       1012       5.71875\n",
      "8       1013       6.00000\n",
      "9       1014       5.84375\n",
      "10      1015       5.84375\n",
      "11      1016       5.84375\n",
      "12      1017       5.87500\n",
      "13      1018       5.84375\n",
      "14      1019       5.75000\n"
     ]
    },
    {
     "name": "stderr",
     "output_type": "stream",
     "text": [
      "2it [00:07,  3.85s/it]\n",
      " 81%|████████  | 69/85 [32:15<09:00, 33.78s/it]"
     ]
    },
    {
     "name": "stdout",
     "output_type": "stream",
     "text": [
      "   Timestamp  Fridge_power\n",
      "0      [1020      6.600000\n",
      "1       1021      6.512500\n",
      "2       1022      6.650000\n",
      "3       1023      6.525000\n",
      "4       1024      6.375000\n",
      "5       1025      6.575000\n",
      "6       1026      6.425000\n",
      "7       1027      6.516666\n",
      "8       1028      6.462500\n",
      "9       1029      6.631250\n",
      "10      1030      6.487500\n",
      "11      1031      6.375000\n",
      "12      1032      6.462500\n",
      "13      1033      6.600000\n",
      "14      1034      6.687500\n"
     ]
    },
    {
     "name": "stderr",
     "output_type": "stream",
     "text": [
      "2it [00:13,  6.76s/it]\n",
      " 82%|████████▏ | 70/85 [32:28<06:55, 27.71s/it]"
     ]
    },
    {
     "name": "stdout",
     "output_type": "stream",
     "text": [
      "   Timestamp  Fridge_power\n",
      "0      [1035      6.550000\n",
      "1       1036      6.468749\n",
      "2       1037      6.718750\n",
      "3       1038      6.452083\n",
      "4       1039      6.583333\n",
      "5       1040      6.656250\n",
      "6       1041      6.531250\n",
      "7       1042      6.656250\n",
      "8       1043      6.593750\n",
      "9       1044      6.708333\n",
      "10      1045      6.687500\n",
      "11      1046      6.781250\n",
      "12      1047      6.625000\n",
      "13      1048      6.656250\n",
      "14      1049      6.687500\n"
     ]
    },
    {
     "name": "stderr",
     "output_type": "stream",
     "text": [
      "2it [00:09,  4.99s/it]\n",
      " 84%|████████▎ | 71/85 [32:38<05:13, 22.41s/it]"
     ]
    },
    {
     "name": "stdout",
     "output_type": "stream",
     "text": [
      "   Timestamp  Fridge_power\n",
      "0      [1050      6.425000\n",
      "1       1051      6.437500\n",
      "2       1052      6.600000\n",
      "3       1053      6.475000\n",
      "4       1054      6.250000\n",
      "5       1055      6.512500\n",
      "6       1056      6.375000\n",
      "7       1057      6.450000\n",
      "8       1058      6.550000\n",
      "9       1059      6.425000\n",
      "10      1060      6.391666\n",
      "11      1061      6.387500\n",
      "12      1062      6.400000\n",
      "13      1063      6.475000\n",
      "14      1064      6.412500\n"
     ]
    },
    {
     "name": "stderr",
     "output_type": "stream",
     "text": []
    },
    {
     "name": "stdout",
     "output_type": "stream",
     "text": [
      "API key limit reached Error code: 429 - {'error': {'message': 'Rate limit reached for model `llama3-8b-8192` in organization `org_01hzptswaffbsrqr210cddb30c` on tokens per minute (TPM): Limit 30000, Used 30037, Requested ~1714. Please try again in 3.502s. Visit https://console.groq.com/docs/rate-limits for more information.', 'type': 'tokens', 'code': 'rate_limit_exceeded'}}\n"
     ]
    },
    {
     "name": "stderr",
     "output_type": "stream",
     "text": [
      "2it [00:13,  6.78s/it]\n",
      " 85%|████████▍ | 72/85 [32:52<04:17, 19.78s/it]"
     ]
    },
    {
     "name": "stdout",
     "output_type": "stream",
     "text": [
      "   Timestamp  Fridge_power\n",
      "0     [18:45      6.487500\n",
      "1      20:20      6.443750\n",
      "2      20:21      6.618750\n",
      "3      20:22      6.558333\n",
      "4      20:23      6.625000\n",
      "5      20:24      6.831250\n",
      "6      20:25      6.631250\n",
      "7      20:26      6.962500\n",
      "8      20:27      6.825000\n",
      "9      20:28      6.937500\n",
      "10     20:29      6.987500\n",
      "11     20:30      7.100000\n",
      "12     20:31      6.900000\n",
      "13     20:32     27.825000\n",
      "14     20:33    110.531250\n"
     ]
    },
    {
     "name": "stderr",
     "output_type": "stream",
     "text": []
    },
    {
     "name": "stdout",
     "output_type": "stream",
     "text": [
      "API key limit reached Error code: 429 - {'error': {'message': 'Rate limit reached for model `llama3-8b-8192` in organization `org_01hzptswaffbsrqr210cddb30c` on tokens per minute (TPM): Limit 30000, Used 30562, Requested ~1715. Please try again in 4.554s. Visit https://console.groq.com/docs/rate-limits for more information.', 'type': 'tokens', 'code': 'rate_limit_exceeded'}}\n"
     ]
    },
    {
     "name": "stderr",
     "output_type": "stream",
     "text": []
    },
    {
     "name": "stdout",
     "output_type": "stream",
     "text": [
      "API key limit reached Error code: 429 - {'error': {'message': 'Rate limit reached for model `llama3-8b-8192` in organization `org_01hzptswaffbsrqr210cddb30c` on tokens per minute (TPM): Limit 30000, Used 30074, Requested ~1715. Please try again in 3.579s. Visit https://console.groq.com/docs/rate-limits for more information.', 'type': 'tokens', 'code': 'rate_limit_exceeded'}}\n"
     ]
    },
    {
     "name": "stderr",
     "output_type": "stream",
     "text": [
      "2it [00:27, 13.81s/it]\n",
      " 86%|████████▌ | 73/85 [33:19<04:25, 22.16s/it]"
     ]
    },
    {
     "name": "stdout",
     "output_type": "stream",
     "text": [
      "   Timestamp  Fridge_power\n",
      "0     [20:34      6.083334\n",
      "1      20:35      6.083334\n",
      "2      20:36      6.158334\n",
      "3      20:37      6.183333\n",
      "4      20:38      6.183333\n",
      "5      20:39      6.208334\n",
      "6      20:40      6.220834\n",
      "7      20:41      6.208334\n",
      "8      20:42      6.208334\n",
      "9      20:43      6.208334\n",
      "10     20:44      6.208334\n",
      "11     20:45      6.208334\n",
      "12     20:46      6.208334\n",
      "13     20:47      6.195833\n",
      "14     20:48      6.195833\n"
     ]
    },
    {
     "name": "stderr",
     "output_type": "stream",
     "text": []
    },
    {
     "name": "stdout",
     "output_type": "stream",
     "text": [
      "API key limit reached Error code: 429 - {'error': {'message': 'Rate limit reached for model `llama3-8b-8192` in organization `org_01hzptswaffbsrqr210cddb30c` on tokens per minute (TPM): Limit 30000, Used 30126, Requested ~1710. Please try again in 3.672s. Visit https://console.groq.com/docs/rate-limits for more information.', 'type': 'tokens', 'code': 'rate_limit_exceeded'}}\n"
     ]
    },
    {
     "name": "stderr",
     "output_type": "stream",
     "text": [
      "2it [00:13,  6.60s/it]\n",
      " 87%|████████▋ | 74/85 [33:33<03:34, 19.53s/it]"
     ]
    },
    {
     "name": "stdout",
     "output_type": "stream",
     "text": [
      "   Timestamp  Fridge_power\n",
      "0      [1095       6.40000\n",
      "1       1096       6.46875\n",
      "2       1097       6.58125\n",
      "3       1098       6.67500\n",
      "4       1099       6.81250\n",
      "5       1100       6.64375\n",
      "6       1101       6.50000\n",
      "7       1102       6.51875\n",
      "8       1103       6.55000\n",
      "9       1104       6.65625\n",
      "10      1105       6.75000\n",
      "11      1106       6.59375\n",
      "12      1107       6.50000\n",
      "13      1108       6.57500\n",
      "14      1109       6.65000\n"
     ]
    },
    {
     "name": "stderr",
     "output_type": "stream",
     "text": [
      "2it [00:09,  4.74s/it]\n",
      " 88%|████████▊ | 75/85 [33:42<02:45, 16.53s/it]"
     ]
    },
    {
     "name": "stdout",
     "output_type": "stream",
     "text": [
      "   Timestamp  Fridge_power\n",
      "0      [1110      5.687500\n",
      "1       1111      5.468750\n",
      "2       1112      5.718750\n",
      "3       1113      5.483333\n",
      "4       1114      5.625000\n",
      "5       1115      5.656250\n",
      "6       1116      5.625000\n",
      "7       1117      5.531250\n",
      "8       1118      5.675000\n",
      "9       1119      5.406250\n",
      "10      1120      5.812500\n",
      "11      1121      5.625000\n",
      "12      1122      5.625000\n",
      "13      1123      5.500000\n",
      "14      1124      5.656250\n"
     ]
    },
    {
     "name": "stderr",
     "output_type": "stream",
     "text": [
      "2it [00:14,  7.12s/it]\n",
      " 89%|████████▉ | 76/85 [33:57<02:22, 15.85s/it]"
     ]
    },
    {
     "name": "stdout",
     "output_type": "stream",
     "text": [
      "   Timestamp  Fridge_power\n",
      "0      [1125      6.516667\n",
      "1       1126      6.500000\n",
      "2       1127      6.500000\n",
      "3       1128      6.500000\n",
      "4       1129      6.500000\n",
      "5       1130      6.500000\n",
      "6       1131      6.500000\n",
      "7       1132      6.500000\n",
      "8       1133      6.500000\n",
      "9       1134      6.500000\n",
      "10      1135      6.500000\n",
      "11      1136      6.500000\n",
      "12      1137      6.500000\n",
      "13      1138      6.500000\n",
      "14      1139      6.500000\n"
     ]
    },
    {
     "name": "stderr",
     "output_type": "stream",
     "text": []
    },
    {
     "name": "stdout",
     "output_type": "stream",
     "text": [
      "API key limit reached Error code: 429 - {'error': {'message': 'Rate limit reached for model `llama3-8b-8192` in organization `org_01hzptswaffbsrqr210cddb30c` on tokens per minute (TPM): Limit 30000, Used 30483, Requested ~1713. Please try again in 4.392s. Visit https://console.groq.com/docs/rate-limits for more information.', 'type': 'tokens', 'code': 'rate_limit_exceeded'}}\n"
     ]
    },
    {
     "name": "stderr",
     "output_type": "stream",
     "text": [
      "2it [00:22, 11.14s/it]\n",
      " 91%|█████████ | 77/85 [34:19<02:22, 17.79s/it]"
     ]
    },
    {
     "name": "stdout",
     "output_type": "stream",
     "text": [
      "   Timestamp  Fridge_power\n",
      "0      [1140       6.47500\n",
      "1       1141       6.45625\n",
      "2       1142       6.47500\n",
      "3       1143       6.44375\n",
      "4       1144       6.47500\n",
      "5       1145       6.50625\n",
      "6       1146       6.47500\n",
      "7       1147       6.47500\n",
      "8       1148       6.44375\n",
      "9       1149       6.47500\n",
      "10      1150       6.47500\n",
      "11      1151       6.47500\n",
      "12      1152       6.47500\n",
      "13      1153       6.47500\n",
      "14      1154       6.47500\n"
     ]
    },
    {
     "name": "stderr",
     "output_type": "stream",
     "text": [
      "2it [00:18,  9.03s/it]\n",
      " 92%|█████████▏| 78/85 [34:37<02:05, 17.88s/it]"
     ]
    },
    {
     "name": "stdout",
     "output_type": "stream",
     "text": [
      "   Timestamp  Fridge_power\n",
      "0      [1155       6.56250\n",
      "1       1156       6.46875\n",
      "2       1157       6.59375\n",
      "3       1158       6.62500\n",
      "4       1159       6.65625\n",
      "5       1160       6.75000\n",
      "6       1161       6.50000\n",
      "7       1162       6.50000\n",
      "8       1163       6.53125\n",
      "9       1164       6.37500\n",
      "10      1165       6.37500\n",
      "11      1166       6.43750\n",
      "12      1167       6.40625\n",
      "13      1168       6.50000\n",
      "14      1169       6.50000\n"
     ]
    },
    {
     "name": "stderr",
     "output_type": "stream",
     "text": [
      "2it [00:13,  6.97s/it]\n",
      " 93%|█████████▎| 79/85 [34:51<01:40, 16.71s/it]"
     ]
    },
    {
     "name": "stdout",
     "output_type": "stream",
     "text": [
      "   Timestamp  Fridge_power\n",
      "0      [1170         6.525\n",
      "1       1171         6.475\n",
      "2       1172         6.525\n",
      "3       1173         6.475\n",
      "4       1174         6.425\n",
      "5       1175         6.575\n",
      "6       1176         6.500\n",
      "7       1177         6.550\n",
      "8       1178         6.600\n",
      "9       1179         6.550\n",
      "10      1180         6.525\n",
      "11      1181         6.475\n",
      "12      1182         6.425\n",
      "13      1183         6.575\n",
      "14      1184         6.500\n"
     ]
    },
    {
     "name": "stderr",
     "output_type": "stream",
     "text": [
      "2it [00:12,  6.49s/it]\n",
      " 94%|█████████▍| 80/85 [35:04<01:18, 15.60s/it]"
     ]
    },
    {
     "name": "stdout",
     "output_type": "stream",
     "text": [
      "   Timestamp  Fridge_power\n",
      "0      [1185      6.587500\n",
      "1       1186      6.491667\n",
      "2       1187      6.550000\n",
      "3       1188      6.462500\n",
      "4       1189      6.618750\n",
      "5       1190      6.500000\n",
      "6       1191      6.456250\n",
      "7       1192      6.662500\n",
      "8       1193      6.525000\n",
      "9       1194      6.531250\n",
      "10      1195      6.706250\n",
      "11      1196      6.500000\n",
      "12      1197      6.650000\n",
      "13      1198      6.681250\n",
      "14      1199      6.712500\n"
     ]
    },
    {
     "name": "stderr",
     "output_type": "stream",
     "text": [
      "2it [00:13,  6.98s/it]\n",
      " 95%|█████████▌| 81/85 [35:18<01:00, 15.12s/it]"
     ]
    },
    {
     "name": "stdout",
     "output_type": "stream",
     "text": [
      "   Timestamp  Fridge_power\n",
      "0      [1200      6.506250\n",
      "1       1201      6.459375\n",
      "2       1202      6.562500\n",
      "3       1203      6.470833\n",
      "4       1204      6.450000\n",
      "5       1205      6.631250\n",
      "6       1206      6.500000\n",
      "7       1207      6.505000\n",
      "8       1208      6.530000\n",
      "9       1209      6.396250\n",
      "10      1210      6.662500\n",
      "11      1211      6.606250\n",
      "12      1212      6.463750\n",
      "13      1213      6.631250\n",
      "14      1214      6.583333\n"
     ]
    },
    {
     "name": "stderr",
     "output_type": "stream",
     "text": []
    },
    {
     "name": "stdout",
     "output_type": "stream",
     "text": [
      "API key limit reached Error code: 429 - {'error': {'message': 'Rate limit reached for model `llama3-8b-8192` in organization `org_01hzptswaffbsrqr210cddb30c` on tokens per minute (TPM): Limit 30000, Used 30736, Requested ~1713. Please try again in 4.899s. Visit https://console.groq.com/docs/rate-limits for more information.', 'type': 'tokens', 'code': 'rate_limit_exceeded'}}\n",
      "API key limit reached Error code: 429 - {'error': {'message': 'Rate limit reached for model `llama3-8b-8192` in organization `org_01hzptswaffbsrqr210cddb30c` on tokens per minute (TPM): Limit 30000, Used 30376, Requested ~1713. Please try again in 4.179s. Visit https://console.groq.com/docs/rate-limits for more information.', 'type': 'tokens', 'code': 'rate_limit_exceeded'}}\n"
     ]
    },
    {
     "name": "stderr",
     "output_type": "stream",
     "text": []
    },
    {
     "name": "stdout",
     "output_type": "stream",
     "text": [
      "API key limit reached Error code: 429 - {'error': {'message': 'Rate limit reached for model `llama3-8b-8192` in organization `org_01hzptswaffbsrqr210cddb30c` on tokens per minute (TPM): Limit 30000, Used 30145, Requested ~1713. Please try again in 3.717s. Visit https://console.groq.com/docs/rate-limits for more information.', 'type': 'tokens', 'code': 'rate_limit_exceeded'}}\n"
     ]
    },
    {
     "name": "stderr",
     "output_type": "stream",
     "text": [
      "2it [00:55, 27.97s/it]\n",
      " 96%|█████████▋| 82/85 [36:14<01:22, 27.37s/it]"
     ]
    },
    {
     "name": "stdout",
     "output_type": "stream",
     "text": [
      "   Timestamp  Fridge_power\n",
      "0      [1215       6.48750\n",
      "1       1216       6.46875\n",
      "2       1217       6.65000\n",
      "3       1218       6.55625\n",
      "4       1219       6.58125\n",
      "5       1220       6.47500\n",
      "6       1221       6.62500\n",
      "7       1222       6.65000\n",
      "8       1223       6.55000\n",
      "9       1224       6.47500\n",
      "10      1225       6.52500\n",
      "11      1226       6.64375\n",
      "12      1227       6.47500\n",
      "13      1228       6.52500\n",
      "14      1229       6.55000\n"
     ]
    },
    {
     "name": "stderr",
     "output_type": "stream",
     "text": []
    },
    {
     "name": "stdout",
     "output_type": "stream",
     "text": [
      "API key limit reached Error code: 429 - {'error': {'message': 'Rate limit reached for model `llama3-8b-8192` in organization `org_01hzptswaffbsrqr210cddb30c` on tokens per minute (TPM): Limit 30000, Used 30050, Requested ~1713. Please try again in 3.527s. Visit https://console.groq.com/docs/rate-limits for more information.', 'type': 'tokens', 'code': 'rate_limit_exceeded'}}\n",
      "API key limit reached Error code: 429 - {'error': {'message': 'Rate limit reached for model `llama3-8b-8192` in organization `org_01hzptswaffbsrqr210cddb30c` on tokens per minute (TPM): Limit 30000, Used 30378, Requested ~1713. Please try again in 4.182s. Visit https://console.groq.com/docs/rate-limits for more information.', 'type': 'tokens', 'code': 'rate_limit_exceeded'}}\n"
     ]
    },
    {
     "name": "stderr",
     "output_type": "stream",
     "text": []
    },
    {
     "name": "stdout",
     "output_type": "stream",
     "text": [
      "API key limit reached Error code: 429 - {'error': {'message': 'Rate limit reached for model `llama3-8b-8192` in organization `org_01hzptswaffbsrqr210cddb30c` on tokens per minute (TPM): Limit 30000, Used 30070, Requested ~1713. Please try again in 3.566s. Visit https://console.groq.com/docs/rate-limits for more information.', 'type': 'tokens', 'code': 'rate_limit_exceeded'}}\n"
     ]
    },
    {
     "name": "stderr",
     "output_type": "stream",
     "text": [
      "2it [00:56, 28.18s/it]\n",
      " 98%|█████████▊| 83/85 [37:10<01:12, 36.08s/it]"
     ]
    },
    {
     "name": "stdout",
     "output_type": "stream",
     "text": [
      "   Timestamp  Fridge_power\n",
      "0      [1230      6.500000\n",
      "1       1231      6.500000\n",
      "2       1232      6.625000\n",
      "3       1233      6.531250\n",
      "4       1234      6.516667\n",
      "5       1235      6.612500\n",
      "6       1236      6.484375\n",
      "7       1237      6.625000\n",
      "8       1238      6.500000\n",
      "9       1239      6.500000\n",
      "10      1240      6.500000\n",
      "11      1241      6.500000\n",
      "12      1242      6.250000\n",
      "13      1243      6.250000\n",
      "14      1244      6.500000\n"
     ]
    },
    {
     "name": "stderr",
     "output_type": "stream",
     "text": [
      "2it [00:12,  6.36s/it]\n",
      " 99%|█████████▉| 84/85 [37:23<00:29, 29.09s/it]"
     ]
    },
    {
     "name": "stdout",
     "output_type": "stream",
     "text": [
      "   Timestamp  Fridge_power\n",
      "0      [1245      6.441250\n",
      "1       1246      6.437500\n",
      "2       1247      6.506250\n",
      "3       1248      6.450000\n",
      "4       1249      6.450000\n",
      "5       1250      6.372917\n",
      "6       1251      6.529167\n",
      "7       1252      6.450000\n",
      "8       1253      6.466667\n",
      "9       1254      6.475000\n",
      "10      1255      6.450000\n",
      "11      1256      6.466667\n",
      "12      1257      6.450000\n",
      "13      1258      6.466667\n",
      "14      1259      6.475000\n"
     ]
    },
    {
     "name": "stderr",
     "output_type": "stream",
     "text": [
      "2it [00:13,  6.91s/it]\n",
      "100%|██████████| 85/85 [37:37<00:00, 26.56s/it]"
     ]
    },
    {
     "name": "stdout",
     "output_type": "stream",
     "text": [
      "   Timestamp  Fridge_power\n",
      "0      [1260      6.531250\n",
      "1       1261      6.514583\n",
      "2       1262      6.625000\n",
      "3       1263      6.562500\n",
      "4       1264      6.468750\n",
      "5       1265      6.468750\n",
      "6       1266      6.500000\n",
      "7       1267      6.612500\n",
      "8       1268      6.625000\n",
      "9       1269      6.593750\n",
      "10      1270      6.525000\n",
      "11      1271      6.500000\n",
      "12      1272      6.656250\n",
      "13      1273      6.625000\n",
      "14      1274      6.500000\n"
     ]
    },
    {
     "name": "stderr",
     "output_type": "stream",
     "text": [
      "\n"
     ]
    }
   ],
   "source": [
    "# Run the loop\n",
    "for start_idx, chunksize in combinationstorun:\n",
    "    for start in tqdm(range(0, len(test_df) - (start_idx + chunksize), 15)):\n",
    "        current_chunk = test_df.iloc[start:start+start_idx+chunksize]\n",
    "        input_string = current_chunk[['timestamp', 'total_power']].to_csv(index=False, header=False)\n",
    "        input_string = input_string.replace(\" \", \"\").replace('\\n', ',').replace(',', ' , ')\n",
    "        answer = promptgroq_fewshots(input_string, start + start_idx, chunksize, model, num_samples=2, initial_examples=initial_examples)\n",
    "        predictions = answer['predictions']\n",
    "        timestamps = answer['timestamps']\n",
    "        predicted_df = pd.DataFrame({'Timestamp': timestamps, 'Fridge_power': predictions})\n",
    "        print(predicted_df)\n",
    "        pred_df_list.append(predicted_df)"
   ]
  },
  {
   "cell_type": "code",
   "execution_count": null,
   "metadata": {},
   "outputs": [],
   "source": []
  }
 ],
 "metadata": {
  "kernelspec": {
   "display_name": "nilmtk-env",
   "language": "python",
   "name": "python3"
  },
  "language_info": {
   "codemirror_mode": {
    "name": "ipython",
    "version": 3
   },
   "file_extension": ".py",
   "mimetype": "text/x-python",
   "name": "python",
   "nbconvert_exporter": "python",
   "pygments_lexer": "ipython3",
   "version": "3.10.14"
  }
 },
 "nbformat": 4,
 "nbformat_minor": 2
}
