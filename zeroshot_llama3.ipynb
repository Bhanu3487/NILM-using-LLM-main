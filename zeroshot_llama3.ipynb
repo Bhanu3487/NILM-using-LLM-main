{
 "cells": [
  {
   "cell_type": "code",
   "execution_count": 1,
   "metadata": {},
   "outputs": [],
   "source": [
    "from groq import Groq\n",
    "import json\n",
    "import pandas as pd    \n",
    "from sklearn.metrics import mean_squared_error, mean_absolute_error, r2_score\n",
    "from math import sqrt\n",
    "import tqdm\n",
    "import os\n",
    "import numpy as np\n",
    "import json\n",
    "import concurrent.futures\n",
    "import numpy as np\n",
    "from tqdm import tqdm\n",
    "import re\n",
    "import numpy as np\n",
    "import matplotlib.pyplot as plt\n",
    "from sklearn.metrics import mean_squared_error"
   ]
  },
  {
   "cell_type": "code",
   "execution_count": 2,
   "metadata": {},
   "outputs": [],
   "source": [
    "client = Groq(api_key=\"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\") \n",
    "api_keys=[\"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\", \"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\", \"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\", \"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\"] #get multiple API keys with different Email addresses, you will run into rate limits a lot so either slow down the requests or let lots of api keys handle the job\n",
    "api_keyover=0"
   ]
  },
  {
   "cell_type": "markdown",
   "metadata": {},
   "source": [
    "Create DF"
   ]
  },
  {
   "cell_type": "code",
   "execution_count": 3,
   "metadata": {},
   "outputs": [],
   "source": [
    "from nilmtk.dataset import DataSet\n",
    "redd = DataSet('redd.h5')\n",
    "building = redd.buildings[1]\n",
    "main_meter = building.elec.mains()"
   ]
  },
  {
   "cell_type": "code",
   "execution_count": 4,
   "metadata": {},
   "outputs": [
    {
     "name": "stdout",
     "output_type": "stream",
     "text": [
      "Loading data for meter ElecMeterID(instance=1, building=1, dataset='REDD')     "
     ]
    },
    {
     "name": "stderr",
     "output_type": "stream",
     "text": [
      "c:\\users\\bhanu\\nilmtk\\nilmtk\\utils.py:338: FutureWarning: 'S' is deprecated and will be removed in a future version, please use 's' instead.\n",
      "  resampled = series.resample(freq).mean()\n",
      "c:\\users\\bhanu\\nilmtk\\nilmtk\\metergroup.py:718: FutureWarning: 'S' is deprecated and will be removed in a future version, please use 's' instead.\n",
      "  index = pd.date_range(\n",
      "c:\\users\\bhanu\\nilmtk\\nilmtk\\utils.py:501: FutureWarning: 'S' is deprecated and will be removed in a future version, please use 's' instead.\n",
      "  return fill_method(how(data.resample(rule, **resample_kwargs)))\n"
     ]
    },
    {
     "name": "stdout",
     "output_type": "stream",
     "text": [
      "Loading data for meter ElecMeterID(instance=2, building=1, dataset='REDD')     "
     ]
    },
    {
     "name": "stderr",
     "output_type": "stream",
     "text": [
      "c:\\users\\bhanu\\nilmtk\\nilmtk\\utils.py:501: FutureWarning: 'S' is deprecated and will be removed in a future version, please use 's' instead.\n",
      "  return fill_method(how(data.resample(rule, **resample_kwargs)))\n"
     ]
    },
    {
     "name": "stdout",
     "output_type": "stream",
     "text": [
      "\n",
      "Done loading data all meters for this chunk.\n"
     ]
    },
    {
     "data": {
      "text/html": [
       "<div>\n",
       "<style scoped>\n",
       "    .dataframe tbody tr th:only-of-type {\n",
       "        vertical-align: middle;\n",
       "    }\n",
       "\n",
       "    .dataframe tbody tr th {\n",
       "        vertical-align: top;\n",
       "    }\n",
       "\n",
       "    .dataframe thead th {\n",
       "        text-align: right;\n",
       "    }\n",
       "</style>\n",
       "<table border=\"1\" class=\"dataframe\">\n",
       "  <thead>\n",
       "    <tr style=\"text-align: right;\">\n",
       "      <th></th>\n",
       "      <th>index</th>\n",
       "      <th>total_power</th>\n",
       "      <th>fridge</th>\n",
       "      <th>dish washer</th>\n",
       "    </tr>\n",
       "  </thead>\n",
       "  <tbody>\n",
       "    <tr>\n",
       "      <th>0</th>\n",
       "      <td>2011-04-18 09:22:13-04:00</td>\n",
       "      <td>341.029999</td>\n",
       "      <td>6.0</td>\n",
       "      <td>0.0</td>\n",
       "    </tr>\n",
       "    <tr>\n",
       "      <th>1</th>\n",
       "      <td>2011-04-18 09:22:16-04:00</td>\n",
       "      <td>342.359985</td>\n",
       "      <td>6.0</td>\n",
       "      <td>0.0</td>\n",
       "    </tr>\n",
       "    <tr>\n",
       "      <th>2</th>\n",
       "      <td>2011-04-18 09:22:20-04:00</td>\n",
       "      <td>342.520020</td>\n",
       "      <td>6.0</td>\n",
       "      <td>0.0</td>\n",
       "    </tr>\n",
       "    <tr>\n",
       "      <th>3</th>\n",
       "      <td>2011-04-18 09:22:23-04:00</td>\n",
       "      <td>342.070007</td>\n",
       "      <td>6.0</td>\n",
       "      <td>1.0</td>\n",
       "    </tr>\n",
       "    <tr>\n",
       "      <th>4</th>\n",
       "      <td>2011-04-18 09:22:26-04:00</td>\n",
       "      <td>341.770020</td>\n",
       "      <td>6.0</td>\n",
       "      <td>0.0</td>\n",
       "    </tr>\n",
       "    <tr>\n",
       "      <th>...</th>\n",
       "      <td>...</td>\n",
       "      <td>...</td>\n",
       "      <td>...</td>\n",
       "      <td>...</td>\n",
       "    </tr>\n",
       "    <tr>\n",
       "      <th>410090</th>\n",
       "      <td>2011-05-24 15:56:20-04:00</td>\n",
       "      <td>274.380005</td>\n",
       "      <td>186.0</td>\n",
       "      <td>1.0</td>\n",
       "    </tr>\n",
       "    <tr>\n",
       "      <th>410091</th>\n",
       "      <td>2011-05-24 15:56:23-04:00</td>\n",
       "      <td>273.690002</td>\n",
       "      <td>187.0</td>\n",
       "      <td>0.0</td>\n",
       "    </tr>\n",
       "    <tr>\n",
       "      <th>410092</th>\n",
       "      <td>2011-05-24 15:56:27-04:00</td>\n",
       "      <td>274.070007</td>\n",
       "      <td>190.0</td>\n",
       "      <td>0.0</td>\n",
       "    </tr>\n",
       "    <tr>\n",
       "      <th>410093</th>\n",
       "      <td>2011-05-24 15:56:30-04:00</td>\n",
       "      <td>274.750000</td>\n",
       "      <td>189.0</td>\n",
       "      <td>0.0</td>\n",
       "    </tr>\n",
       "    <tr>\n",
       "      <th>410094</th>\n",
       "      <td>2011-05-24 15:56:34-04:00</td>\n",
       "      <td>274.119995</td>\n",
       "      <td>186.0</td>\n",
       "      <td>0.0</td>\n",
       "    </tr>\n",
       "  </tbody>\n",
       "</table>\n",
       "<p>410095 rows × 4 columns</p>\n",
       "</div>"
      ],
      "text/plain": [
       "                           index  total_power  fridge  dish washer\n",
       "0      2011-04-18 09:22:13-04:00   341.029999     6.0          0.0\n",
       "1      2011-04-18 09:22:16-04:00   342.359985     6.0          0.0\n",
       "2      2011-04-18 09:22:20-04:00   342.520020     6.0          0.0\n",
       "3      2011-04-18 09:22:23-04:00   342.070007     6.0          1.0\n",
       "4      2011-04-18 09:22:26-04:00   341.770020     6.0          0.0\n",
       "...                          ...          ...     ...          ...\n",
       "410090 2011-05-24 15:56:20-04:00   274.380005   186.0          1.0\n",
       "410091 2011-05-24 15:56:23-04:00   273.690002   187.0          0.0\n",
       "410092 2011-05-24 15:56:27-04:00   274.070007   190.0          0.0\n",
       "410093 2011-05-24 15:56:30-04:00   274.750000   189.0          0.0\n",
       "410094 2011-05-24 15:56:34-04:00   274.119995   186.0          0.0\n",
       "\n",
       "[410095 rows x 4 columns]"
      ]
     },
     "execution_count": 4,
     "metadata": {},
     "output_type": "execute_result"
    }
   ],
   "source": [
    "dict = {'fridge' : [],\n",
    "        'dish washer' : []}\n",
    "appliances = ['fridge', 'dish washer']\n",
    "for i in appliances:\n",
    "        dict[i] = building.elec[i].power_series_all_data().to_frame(name=i)\n",
    "\n",
    "main_df = main_meter.power_series_all_data().to_frame(name='total_power')\n",
    "\n",
    "dict_dfs = list(dict.values())\n",
    "\n",
    "# Concatenate all DataFrames into one\n",
    "df = pd.concat([main_df] + dict_dfs, axis=1)\n",
    "\n",
    "df = df.dropna()\n",
    "df.reset_index(inplace=True)\n",
    "df"
   ]
  },
  {
   "cell_type": "code",
   "execution_count": 5,
   "metadata": {},
   "outputs": [
    {
     "data": {
      "text/html": [
       "<div>\n",
       "<style scoped>\n",
       "    .dataframe tbody tr th:only-of-type {\n",
       "        vertical-align: middle;\n",
       "    }\n",
       "\n",
       "    .dataframe tbody tr th {\n",
       "        vertical-align: top;\n",
       "    }\n",
       "\n",
       "    .dataframe thead th {\n",
       "        text-align: right;\n",
       "    }\n",
       "</style>\n",
       "<table border=\"1\" class=\"dataframe\">\n",
       "  <thead>\n",
       "    <tr style=\"text-align: right;\">\n",
       "      <th></th>\n",
       "      <th>index</th>\n",
       "      <th>total_power</th>\n",
       "      <th>fridge</th>\n",
       "      <th>dish washer</th>\n",
       "    </tr>\n",
       "  </thead>\n",
       "  <tbody>\n",
       "    <tr>\n",
       "      <th>97254</th>\n",
       "      <td>2011-04-23 00:00:02-04:00</td>\n",
       "      <td>172.250000</td>\n",
       "      <td>7.0</td>\n",
       "      <td>0.0</td>\n",
       "    </tr>\n",
       "    <tr>\n",
       "      <th>97255</th>\n",
       "      <td>2011-04-23 00:00:05-04:00</td>\n",
       "      <td>175.300003</td>\n",
       "      <td>7.0</td>\n",
       "      <td>0.0</td>\n",
       "    </tr>\n",
       "    <tr>\n",
       "      <th>97256</th>\n",
       "      <td>2011-04-23 00:00:09-04:00</td>\n",
       "      <td>175.250000</td>\n",
       "      <td>7.0</td>\n",
       "      <td>0.0</td>\n",
       "    </tr>\n",
       "    <tr>\n",
       "      <th>97257</th>\n",
       "      <td>2011-04-23 00:00:12-04:00</td>\n",
       "      <td>173.089996</td>\n",
       "      <td>6.0</td>\n",
       "      <td>0.0</td>\n",
       "    </tr>\n",
       "    <tr>\n",
       "      <th>97258</th>\n",
       "      <td>2011-04-23 00:00:16-04:00</td>\n",
       "      <td>173.270004</td>\n",
       "      <td>7.0</td>\n",
       "      <td>0.0</td>\n",
       "    </tr>\n",
       "    <tr>\n",
       "      <th>...</th>\n",
       "      <td>...</td>\n",
       "      <td>...</td>\n",
       "      <td>...</td>\n",
       "      <td>...</td>\n",
       "    </tr>\n",
       "    <tr>\n",
       "      <th>119577</th>\n",
       "      <td>2011-04-23 23:59:36-04:00</td>\n",
       "      <td>854.840027</td>\n",
       "      <td>7.0</td>\n",
       "      <td>0.0</td>\n",
       "    </tr>\n",
       "    <tr>\n",
       "      <th>119578</th>\n",
       "      <td>2011-04-23 23:59:45-04:00</td>\n",
       "      <td>851.169983</td>\n",
       "      <td>7.0</td>\n",
       "      <td>0.0</td>\n",
       "    </tr>\n",
       "    <tr>\n",
       "      <th>119579</th>\n",
       "      <td>2011-04-23 23:59:48-04:00</td>\n",
       "      <td>850.109985</td>\n",
       "      <td>7.0</td>\n",
       "      <td>0.0</td>\n",
       "    </tr>\n",
       "    <tr>\n",
       "      <th>119580</th>\n",
       "      <td>2011-04-23 23:59:52-04:00</td>\n",
       "      <td>853.880005</td>\n",
       "      <td>7.0</td>\n",
       "      <td>0.0</td>\n",
       "    </tr>\n",
       "    <tr>\n",
       "      <th>119581</th>\n",
       "      <td>2011-04-23 23:59:55-04:00</td>\n",
       "      <td>851.369995</td>\n",
       "      <td>7.0</td>\n",
       "      <td>0.0</td>\n",
       "    </tr>\n",
       "  </tbody>\n",
       "</table>\n",
       "<p>22328 rows × 4 columns</p>\n",
       "</div>"
      ],
      "text/plain": [
       "                           index  total_power  fridge  dish washer\n",
       "97254  2011-04-23 00:00:02-04:00   172.250000     7.0          0.0\n",
       "97255  2011-04-23 00:00:05-04:00   175.300003     7.0          0.0\n",
       "97256  2011-04-23 00:00:09-04:00   175.250000     7.0          0.0\n",
       "97257  2011-04-23 00:00:12-04:00   173.089996     6.0          0.0\n",
       "97258  2011-04-23 00:00:16-04:00   173.270004     7.0          0.0\n",
       "...                          ...          ...     ...          ...\n",
       "119577 2011-04-23 23:59:36-04:00   854.840027     7.0          0.0\n",
       "119578 2011-04-23 23:59:45-04:00   851.169983     7.0          0.0\n",
       "119579 2011-04-23 23:59:48-04:00   850.109985     7.0          0.0\n",
       "119580 2011-04-23 23:59:52-04:00   853.880005     7.0          0.0\n",
       "119581 2011-04-23 23:59:55-04:00   851.369995     7.0          0.0\n",
       "\n",
       "[22328 rows x 4 columns]"
      ]
     },
     "execution_count": 5,
     "metadata": {},
     "output_type": "execute_result"
    }
   ],
   "source": [
    "df[97254:119582]        #23rd April"
   ]
  },
  {
   "cell_type": "code",
   "execution_count": 6,
   "metadata": {},
   "outputs": [
    {
     "data": {
      "text/html": [
       "<div>\n",
       "<style scoped>\n",
       "    .dataframe tbody tr th:only-of-type {\n",
       "        vertical-align: middle;\n",
       "    }\n",
       "\n",
       "    .dataframe tbody tr th {\n",
       "        vertical-align: top;\n",
       "    }\n",
       "\n",
       "    .dataframe thead th {\n",
       "        text-align: right;\n",
       "    }\n",
       "</style>\n",
       "<table border=\"1\" class=\"dataframe\">\n",
       "  <thead>\n",
       "    <tr style=\"text-align: right;\">\n",
       "      <th></th>\n",
       "      <th>index</th>\n",
       "      <th>total_power</th>\n",
       "      <th>fridge</th>\n",
       "      <th>dish washer</th>\n",
       "    </tr>\n",
       "  </thead>\n",
       "  <tbody>\n",
       "    <tr>\n",
       "      <th>0</th>\n",
       "      <td>2011-04-23 00:00:02-04:00</td>\n",
       "      <td>172.250000</td>\n",
       "      <td>7.0</td>\n",
       "      <td>0.0</td>\n",
       "    </tr>\n",
       "    <tr>\n",
       "      <th>1</th>\n",
       "      <td>2011-04-23 00:00:05-04:00</td>\n",
       "      <td>175.300003</td>\n",
       "      <td>7.0</td>\n",
       "      <td>0.0</td>\n",
       "    </tr>\n",
       "    <tr>\n",
       "      <th>2</th>\n",
       "      <td>2011-04-23 00:00:09-04:00</td>\n",
       "      <td>175.250000</td>\n",
       "      <td>7.0</td>\n",
       "      <td>0.0</td>\n",
       "    </tr>\n",
       "    <tr>\n",
       "      <th>3</th>\n",
       "      <td>2011-04-23 00:00:12-04:00</td>\n",
       "      <td>173.089996</td>\n",
       "      <td>6.0</td>\n",
       "      <td>0.0</td>\n",
       "    </tr>\n",
       "    <tr>\n",
       "      <th>4</th>\n",
       "      <td>2011-04-23 00:00:16-04:00</td>\n",
       "      <td>173.270004</td>\n",
       "      <td>7.0</td>\n",
       "      <td>0.0</td>\n",
       "    </tr>\n",
       "    <tr>\n",
       "      <th>...</th>\n",
       "      <td>...</td>\n",
       "      <td>...</td>\n",
       "      <td>...</td>\n",
       "      <td>...</td>\n",
       "    </tr>\n",
       "    <tr>\n",
       "      <th>22323</th>\n",
       "      <td>2011-04-23 23:59:36-04:00</td>\n",
       "      <td>854.840027</td>\n",
       "      <td>7.0</td>\n",
       "      <td>0.0</td>\n",
       "    </tr>\n",
       "    <tr>\n",
       "      <th>22324</th>\n",
       "      <td>2011-04-23 23:59:45-04:00</td>\n",
       "      <td>851.169983</td>\n",
       "      <td>7.0</td>\n",
       "      <td>0.0</td>\n",
       "    </tr>\n",
       "    <tr>\n",
       "      <th>22325</th>\n",
       "      <td>2011-04-23 23:59:48-04:00</td>\n",
       "      <td>850.109985</td>\n",
       "      <td>7.0</td>\n",
       "      <td>0.0</td>\n",
       "    </tr>\n",
       "    <tr>\n",
       "      <th>22326</th>\n",
       "      <td>2011-04-23 23:59:52-04:00</td>\n",
       "      <td>853.880005</td>\n",
       "      <td>7.0</td>\n",
       "      <td>0.0</td>\n",
       "    </tr>\n",
       "    <tr>\n",
       "      <th>22327</th>\n",
       "      <td>2011-04-23 23:59:55-04:00</td>\n",
       "      <td>851.369995</td>\n",
       "      <td>7.0</td>\n",
       "      <td>0.0</td>\n",
       "    </tr>\n",
       "  </tbody>\n",
       "</table>\n",
       "<p>22328 rows × 4 columns</p>\n",
       "</div>"
      ],
      "text/plain": [
       "                          index  total_power  fridge  dish washer\n",
       "0     2011-04-23 00:00:02-04:00   172.250000     7.0          0.0\n",
       "1     2011-04-23 00:00:05-04:00   175.300003     7.0          0.0\n",
       "2     2011-04-23 00:00:09-04:00   175.250000     7.0          0.0\n",
       "3     2011-04-23 00:00:12-04:00   173.089996     6.0          0.0\n",
       "4     2011-04-23 00:00:16-04:00   173.270004     7.0          0.0\n",
       "...                         ...          ...     ...          ...\n",
       "22323 2011-04-23 23:59:36-04:00   854.840027     7.0          0.0\n",
       "22324 2011-04-23 23:59:45-04:00   851.169983     7.0          0.0\n",
       "22325 2011-04-23 23:59:48-04:00   850.109985     7.0          0.0\n",
       "22326 2011-04-23 23:59:52-04:00   853.880005     7.0          0.0\n",
       "22327 2011-04-23 23:59:55-04:00   851.369995     7.0          0.0\n",
       "\n",
       "[22328 rows x 4 columns]"
      ]
     },
     "execution_count": 6,
     "metadata": {},
     "output_type": "execute_result"
    }
   ],
   "source": [
    "start_time = 97254 \n",
    "end_time = 119582\n",
    "\n",
    "subset_df = df.iloc[start_time:end_time].reset_index(drop=True)\n",
    "fridge_power = subset_df['fridge'].to_numpy()\n",
    "dish_washer = subset_df['dish washer'].to_numpy()\n",
    "time = np.arange(start_time, end_time)\n",
    "subset_df"
   ]
  },
  {
   "cell_type": "code",
   "execution_count": 7,
   "metadata": {},
   "outputs": [
    {
     "data": {
      "image/png": "[encoded data removed]",
      "text/plain": [
       "<Figure size 1000x600 with 1 Axes>"
      ]
     },
     "metadata": {},
     "output_type": "display_data"
    }
   ],
   "source": [
    "# Plot the data\n",
    "plt.figure(figsize=(10, 6))\n",
    "plt.plot(time, fridge_power, label='Fridge Power')\n",
    "plt.plot(time, dish_washer, label='Dish Washer')\n",
    "\n",
    "# Adding labels and title\n",
    "plt.xlabel('Time')\n",
    "plt.ylabel('Power Consumption')\n",
    "plt.title('Appliance Power Consumption Over Time')\n",
    "plt.legend()\n",
    "\n",
    "# Show the plot\n",
    "plt.show()"
   ]
  },
  {
   "cell_type": "code",
   "execution_count": 24,
   "metadata": {},
   "outputs": [
    {
     "data": {
      "text/html": [
       "<div>\n",
       "<style scoped>\n",
       "    .dataframe tbody tr th:only-of-type {\n",
       "        vertical-align: middle;\n",
       "    }\n",
       "\n",
       "    .dataframe tbody tr th {\n",
       "        vertical-align: top;\n",
       "    }\n",
       "\n",
       "    .dataframe thead th {\n",
       "        text-align: right;\n",
       "    }\n",
       "</style>\n",
       "<table border=\"1\" class=\"dataframe\">\n",
       "  <thead>\n",
       "    <tr style=\"text-align: right;\">\n",
       "      <th></th>\n",
       "      <th>timestamp</th>\n",
       "      <th>index</th>\n",
       "      <th>total_power</th>\n",
       "      <th>fridge</th>\n",
       "      <th>dish washer</th>\n",
       "    </tr>\n",
       "  </thead>\n",
       "  <tbody>\n",
       "    <tr>\n",
       "      <th>0</th>\n",
       "      <td>00:00</td>\n",
       "      <td>2011-04-23 00:00:29.624999936-04:00</td>\n",
       "      <td>174.016876</td>\n",
       "      <td>6.687500</td>\n",
       "      <td>0.0</td>\n",
       "    </tr>\n",
       "    <tr>\n",
       "      <th>1</th>\n",
       "      <td>00:01</td>\n",
       "      <td>2011-04-23 00:01:28.466666496-04:00</td>\n",
       "      <td>172.836670</td>\n",
       "      <td>6.866667</td>\n",
       "      <td>0.0</td>\n",
       "    </tr>\n",
       "    <tr>\n",
       "      <th>2</th>\n",
       "      <td>00:02</td>\n",
       "      <td>2011-04-23 00:02:27.500000-04:00</td>\n",
       "      <td>170.530624</td>\n",
       "      <td>6.750000</td>\n",
       "      <td>0.0</td>\n",
       "    </tr>\n",
       "    <tr>\n",
       "      <th>3</th>\n",
       "      <td>00:03</td>\n",
       "      <td>2011-04-23 00:03:27.812499968-04:00</td>\n",
       "      <td>171.766876</td>\n",
       "      <td>6.937500</td>\n",
       "      <td>0.0</td>\n",
       "    </tr>\n",
       "    <tr>\n",
       "      <th>4</th>\n",
       "      <td>00:04</td>\n",
       "      <td>2011-04-23 00:04:28.812499968-04:00</td>\n",
       "      <td>171.401871</td>\n",
       "      <td>6.812500</td>\n",
       "      <td>0.0</td>\n",
       "    </tr>\n",
       "    <tr>\n",
       "      <th>...</th>\n",
       "      <td>...</td>\n",
       "      <td>...</td>\n",
       "      <td>...</td>\n",
       "      <td>...</td>\n",
       "      <td>...</td>\n",
       "    </tr>\n",
       "    <tr>\n",
       "      <th>1435</th>\n",
       "      <td>23:55</td>\n",
       "      <td>2011-04-23 23:55:27.124999936-04:00</td>\n",
       "      <td>845.735596</td>\n",
       "      <td>7.000000</td>\n",
       "      <td>0.0</td>\n",
       "    </tr>\n",
       "    <tr>\n",
       "      <th>1436</th>\n",
       "      <td>23:56</td>\n",
       "      <td>2011-04-23 23:56:27.687500032-04:00</td>\n",
       "      <td>849.969360</td>\n",
       "      <td>7.000000</td>\n",
       "      <td>0.0</td>\n",
       "    </tr>\n",
       "    <tr>\n",
       "      <th>1437</th>\n",
       "      <td>23:57</td>\n",
       "      <td>2011-04-23 23:57:28.500000-04:00</td>\n",
       "      <td>850.686890</td>\n",
       "      <td>7.000000</td>\n",
       "      <td>0.0</td>\n",
       "    </tr>\n",
       "    <tr>\n",
       "      <th>1438</th>\n",
       "      <td>23:58</td>\n",
       "      <td>2011-04-23 23:58:28.812499968-04:00</td>\n",
       "      <td>853.774414</td>\n",
       "      <td>7.000000</td>\n",
       "      <td>0.0</td>\n",
       "    </tr>\n",
       "    <tr>\n",
       "      <th>1439</th>\n",
       "      <td>23:59</td>\n",
       "      <td>2011-04-23 23:59:27.266666752-04:00</td>\n",
       "      <td>851.867310</td>\n",
       "      <td>7.000000</td>\n",
       "      <td>0.0</td>\n",
       "    </tr>\n",
       "  </tbody>\n",
       "</table>\n",
       "<p>1440 rows × 5 columns</p>\n",
       "</div>"
      ],
      "text/plain": [
       "     timestamp                               index  total_power    fridge  \\\n",
       "0        00:00 2011-04-23 00:00:29.624999936-04:00   174.016876  6.687500   \n",
       "1        00:01 2011-04-23 00:01:28.466666496-04:00   172.836670  6.866667   \n",
       "2        00:02    2011-04-23 00:02:27.500000-04:00   170.530624  6.750000   \n",
       "3        00:03 2011-04-23 00:03:27.812499968-04:00   171.766876  6.937500   \n",
       "4        00:04 2011-04-23 00:04:28.812499968-04:00   171.401871  6.812500   \n",
       "...        ...                                 ...          ...       ...   \n",
       "1435     23:55 2011-04-23 23:55:27.124999936-04:00   845.735596  7.000000   \n",
       "1436     23:56 2011-04-23 23:56:27.687500032-04:00   849.969360  7.000000   \n",
       "1437     23:57    2011-04-23 23:57:28.500000-04:00   850.686890  7.000000   \n",
       "1438     23:58 2011-04-23 23:58:28.812499968-04:00   853.774414  7.000000   \n",
       "1439     23:59 2011-04-23 23:59:27.266666752-04:00   851.867310  7.000000   \n",
       "\n",
       "      dish washer  \n",
       "0             0.0  \n",
       "1             0.0  \n",
       "2             0.0  \n",
       "3             0.0  \n",
       "4             0.0  \n",
       "...           ...  \n",
       "1435          0.0  \n",
       "1436          0.0  \n",
       "1437          0.0  \n",
       "1438          0.0  \n",
       "1439          0.0  \n",
       "\n",
       "[1440 rows x 5 columns]"
      ]
     },
     "execution_count": 24,
     "metadata": {},
     "output_type": "execute_result"
    }
   ],
   "source": [
    "series = pd.Series(subset_df['index'])\n",
    "\n",
    "# Function to extract HH:MM\n",
    "def extract_time(datetime_str):\n",
    "    return pd.to_datetime(datetime_str).strftime('%H:%M')\n",
    "\n",
    "# Apply the function to the Series\n",
    "time_series = series.apply(extract_time)\n",
    "\n",
    "subset_df['timestamp'] = time_series\n",
    "result_df = subset_df.groupby('timestamp', as_index=False).mean()\n",
    "result_df"
   ]
  },
  {
   "cell_type": "markdown",
   "metadata": {},
   "source": [
    "Zeroshots"
   ]
  },
  {
   "cell_type": "code",
   "execution_count": 25,
   "metadata": {},
   "outputs": [],
   "source": [
    "i = 0\n",
    "# Mock function to simulate API calls\n",
    "def promptgroq(csv, start_idx, chunksize, model, num_samples):\n",
    "    global appliances\n",
    "    answers = {'timestamps': [], 'app_predictions': {}}\n",
    "    for app in appliances:\n",
    "        answers['app_predictions'][app] = []\n",
    "    attempts = 40\n",
    "    predictions = []\n",
    "    global api_keyover, client, i\n",
    "\n",
    "    def get_prediction(run, csv=csv, start_idx=start_idx, chunksize=chunksize, model=model):\n",
    "        global i, api_keyover, client\n",
    "        while i < attempts:\n",
    "            try:\n",
    "                completion = client.chat.completions.create(\n",
    "                    model='llama3-8b-8192',\n",
    "                    messages=[\n",
    "                        {\n",
    "                            \"role\": \"system\",\n",
    "                            \"content\": \"\"\"You are a helpful assistant that performs time series predictions for NILM (Non-Intrusive Load Monitoring). The user will provide an aggregate data sequence of power consumption and timestamps, and you will predict the power consumption of the fridge and dish washer. The sequence is represented by decimal strings separated by commas for power values and HH:MM format for timestamps.\n",
    "                                    Fridge consumes a low amount of the agregate power. dish washer consumes a high amount of the agregate power but it is not used as frequently as fridge so predict accordingly.\n",
    "                                    Also keep in mind the other appliances.\n",
    "                                    Appliance Information:\n",
    "                                    Low power consuming appliances - Lighting, Electronics, Fridge\n",
    "                                    Moderate power consuming appliances - Bathroom GFI, Dishwasher, Microwave, Kitchen Outlets\n",
    "                                    High power consuming appliances -  Washer Dryer   \n",
    "                                    USE EXACT SAME TIMESTAMPS AS IN THE GIVEN IN DATA.\n",
    "                            \"\"\"\n",
    "                        },\n",
    "                        {\n",
    "                            \"role\": \"user\",\n",
    "                            \"content\": f\"\"\"Predict the fridge power and dish washer consumption for the given time series data for the next {chunksize} timestamps. Each timestamp in the input should have a corresponding output. Return your reply in the following format:\n",
    "                                            [timestamp 0, fridge prediction 0, dish washer prediction 0, timestamp 1, fridge prediction 1, dish washer prediction 1, ... timestamp {chunksize - 1}, fridge prediction {chunksize - 1}, dish washer prediction {chunksize - 1}] - the total length should be exactly {chunksize * 3}, starting from timestamp {start_idx} until the timestamp {start_idx + chunksize - 1}. Do not include any additional text or explanations.                                            \n",
    "                                            ### Time Series Data\n",
    "                                            {csv}\n",
    "                                            \"\"\"\n",
    "                        }\n",
    "                    ],\n",
    "                    temperature=1,\n",
    "                    top_p=1,\n",
    "                    stream=False,\n",
    "                    stop=None,\n",
    "                )\n",
    "            except Exception as e:\n",
    "                print('API key limit reached', e)\n",
    "                api_keyover += 1\n",
    "                client = Groq(api_key=api_keys[api_keyover % 4])\n",
    "                continue\n",
    "\n",
    "            try:\n",
    "                answer = completion.choices[0].message.content.strip()\n",
    "                predictions_list = [item.strip() for item in answer.split(',') if item.strip()]\n",
    "\n",
    "                pred_dict_app = {}\n",
    "                \n",
    "                pred_timestamps = predictions_list[0::len(appliances)+1]\n",
    "                for i, app in enumerate(appliances):\n",
    "                    pred_dict_app[app] = predictions_list[i+1::len(appliances)+1]\n",
    "\n",
    "                pred_cleaned = {} \n",
    "                for app in appliances:\n",
    "                    pred_values_cleaned = []\n",
    "                    for value in pred_dict_app[app]:\n",
    "                        try:\n",
    "                            pred_values_cleaned.append(float(value))\n",
    "                        except ValueError:\n",
    "                            float_part = ''.join([char for char in value if char.isdigit() or char == '.' or char == '-'])\n",
    "                            pred_values_cleaned.append(float(float_part))\n",
    "                    pred_cleaned[app] = pred_values_cleaned\n",
    "                \n",
    "                # pred_df = pd.DataFrame({\n",
    "                #     'timestamp': [ts.strip() for ts in pred_timestamps],\n",
    "                #     'predicted_power': pred_cleaned\n",
    "                # })\n",
    "                \n",
    "                pred_df = pd.DataFrame({\n",
    "                    'timestamp': [ts.strip() for ts in pred_timestamps]\n",
    "                })\n",
    "\n",
    "                for appliance, predictions in pred_cleaned.items():\n",
    "                    pred_df[appliance] = predictions\n",
    "\n",
    "                if len(pred_timestamps) == chunksize:\n",
    "                    return pred_df\n",
    "                else:\n",
    "                    i += 1\n",
    "            except Exception as e:\n",
    "                i += 1\n",
    "                continue\n",
    "\n",
    "        return None\n",
    "\n",
    "    with concurrent.futures.ThreadPoolExecutor() as executor:\n",
    "        future_to_run = {executor.submit(get_prediction, run): run for run in range(num_samples)}\n",
    "        for future in tqdm(concurrent.futures.as_completed(future_to_run)):\n",
    "            result = future.result()\n",
    "            if result is not None:\n",
    "                predictions.append(result)\n",
    "\n",
    "    if len(predictions) < num_samples:\n",
    "        return promptgroq(csv, start_idx, chunksize, model, num_samples)\n",
    "\n",
    "    for i in range(chunksize):\n",
    "        for app in appliances:\n",
    "            sum = 0\n",
    "            for j in range(num_samples):\n",
    "                sum += predictions[j][app][i]\n",
    "            answers['app_predictions'][app].append(sum / num_samples)\n",
    "        answers['timestamps'].append(predictions[0]['timestamp'][i])\n",
    "        \n",
    "    return answers\n"
   ]
  },
  {
   "cell_type": "markdown",
   "metadata": {},
   "source": []
  },
  {
   "cell_type": "code",
   "execution_count": 26,
   "metadata": {},
   "outputs": [
    {
     "name": "stderr",
     "output_type": "stream",
     "text": [
      "2it [00:01,  1.34it/s][00:00<?, ?it/s]\n",
      "  1%|          | 1/95 [00:01<02:23,  1.53s/it]"
     ]
    },
    {
     "name": "stdout",
     "output_type": "stream",
     "text": [
      "   Timestamp    fridge  dish washer\n",
      "0     [00:00  5.058440          7.5\n",
      "1      00:01  4.968335         62.5\n",
      "2      00:02  4.315310         57.5\n",
      "3      00:03  4.933440         52.5\n",
      "4      00:04  4.750935         62.5\n",
      "5      00:05  4.266875         57.5\n",
      "6      00:06  4.321875         62.5\n",
      "7      00:07  5.188665         67.5\n",
      "8      00:08  4.906250         62.5\n",
      "9      00:09  4.508435         57.5\n",
      "10     00:10  4.054685         52.5\n",
      "11     00:11  5.113750         67.5\n",
      "12     00:12  4.831660         62.5\n",
      "13     00:13  4.218120         52.5\n",
      "14     00:14  4.132185         57.5\n"
     ]
    },
    {
     "name": "stderr",
     "output_type": "stream",
     "text": [
      "2it [00:02,  1.33s/it]\n",
      "  2%|▏         | 2/95 [00:04<03:26,  2.22s/it]"
     ]
    },
    {
     "name": "stdout",
     "output_type": "stream",
     "text": [
      "   Timestamp    fridge  dish washer\n",
      "0     [00:15  1.857145     5.287140\n",
      "1      00:16  1.765665     5.005955\n",
      "2      00:17  1.721620     4.872710\n",
      "3      00:18  1.775935     5.190465\n",
      "4      00:19  1.932210     5.454110\n",
      "5      00:20  1.888235     4.855015\n",
      "6      00:21  1.794760     5.042065\n",
      "7      00:22  1.753605     4.892945\n",
      "8      00:23  1.959845     5.896460\n",
      "9      00:24  1.916130     5.347060\n",
      "10     00:25  1.873705     5.200595\n",
      "11     00:26  1.876795     5.403130\n",
      "12     00:27  2.434675     6.848965\n",
      "13     00:28  2.542535     7.199855\n",
      "14     00:29  2.499715     6.903010\n"
     ]
    },
    {
     "name": "stderr",
     "output_type": "stream",
     "text": [
      "2it [00:01,  1.79it/s]\n",
      "  3%|▎         | 3/95 [00:05<02:39,  1.74s/it]"
     ]
    },
    {
     "name": "stdout",
     "output_type": "stream",
     "text": [
      "   Timestamp    fridge  dish washer\n",
      "0         30  32.39465    170.06170\n",
      "1         31  29.89465    162.56170\n",
      "2         32  28.39465    162.56170\n",
      "3         33  28.55345    155.10685\n",
      "4         34  28.39465    162.56170\n",
      "5         35  28.55345    155.10685\n",
      "6         36  27.89605    152.56665\n",
      "7         37  27.05560    168.52235\n",
      "8         38  25.75290    158.56665\n",
      "9         39  26.05560    163.52235\n",
      "10        40  24.60995    175.10685\n",
      "11        41  23.95250    172.57755\n",
      "12        42  24.60995    175.10685\n",
      "13        43  22.95250    182.52295\n",
      "14        44  22.30770    127.57755\n"
     ]
    },
    {
     "name": "stderr",
     "output_type": "stream",
     "text": [
      "2it [00:02,  1.31s/it]\n",
      "  4%|▍         | 4/95 [00:08<03:10,  2.10s/it]"
     ]
    },
    {
     "name": "stdout",
     "output_type": "stream",
     "text": [
      "   Timestamp    fridge  dish washer\n",
      "0     [00:45  1.611725      3.58945\n",
      "1      00:46  1.667250      3.58905\n",
      "2      00:47  1.611700      3.58910\n",
      "3      00:48  1.666050      3.58915\n",
      "4      00:49  1.612250      3.58920\n",
      "5      00:50  1.667800      3.58925\n",
      "6      00:51  1.612350      3.58930\n",
      "7      00:52  1.666600      3.58935\n",
      "8      00:53  1.612550      3.58940\n",
      "9      00:54  1.667100      3.58945\n",
      "10     00:55  1.613150      4.08950\n",
      "11     00:56  1.668700      4.08955\n",
      "12     00:57  1.613750      4.08960\n",
      "13     00:58  1.668350      4.08965\n",
      "14     00:59  1.614400      4.08970\n"
     ]
    },
    {
     "name": "stderr",
     "output_type": "stream",
     "text": [
      "2it [00:01,  1.89it/s]\n",
      "  5%|▌         | 5/95 [00:09<02:36,  1.74s/it]"
     ]
    },
    {
     "name": "stdout",
     "output_type": "stream",
     "text": [
      "   Timestamp  fridge  dish washer\n",
      "0     [60.00     1.5        25.75\n",
      "1      61.00     1.5        25.75\n",
      "2      62.00     1.5        25.75\n",
      "3      63.00     1.5        25.75\n",
      "4      64.00     1.5        25.75\n",
      "5      65.00     1.5        25.75\n",
      "6      66.00     1.5        25.75\n",
      "7      67.00     1.5        25.75\n",
      "8      68.00     1.5        25.75\n",
      "9      69.00     1.5        25.75\n",
      "10     70.00     1.5        25.75\n",
      "11     71.00     1.5        25.75\n",
      "12     72.00     1.5        25.75\n",
      "13     73.00     1.5        25.75\n",
      "14     74.00     1.5        25.75\n"
     ]
    },
    {
     "name": "stderr",
     "output_type": "stream",
     "text": [
      "2it [00:04,  2.49s/it]\n",
      "  6%|▋         | 6/95 [00:14<04:13,  2.85s/it]"
     ]
    },
    {
     "name": "stdout",
     "output_type": "stream",
     "text": [
      "   Timestamp  fridge  dish washer\n",
      "0         75  15.270         1.85\n",
      "1         76  15.270         1.85\n",
      "2         77  15.120         1.90\n",
      "3         78  14.770         2.05\n",
      "4         79  15.120         1.90\n",
      "5         80  15.270         1.85\n",
      "6         81  15.270         1.85\n",
      "7         82  15.135         3.49\n",
      "8         83  15.120         1.90\n",
      "9         84  14.770         2.05\n",
      "10        85  14.320         2.20\n",
      "11        86  14.770         2.05\n",
      "12        87  14.770         2.05\n",
      "13        88  15.120         1.90\n",
      "14        89  15.120         1.90\n"
     ]
    },
    {
     "name": "stderr",
     "output_type": "stream",
     "text": [
      "2it [00:03,  1.74s/it]\n",
      "  7%|▋         | 7/95 [00:17<04:29,  3.07s/it]"
     ]
    },
    {
     "name": "stdout",
     "output_type": "stream",
     "text": [
      "   Timestamp     fridge  dish washer\n",
      "0        [90  74.426665    61.838615\n",
      "1         91  73.697220    61.830555\n",
      "2         92  73.917780    62.532280\n",
      "3         93  72.743335    62.997995\n",
      "4         94  72.663890    63.580555\n",
      "5         95  71.424445    64.055625\n",
      "6         96  70.922780    64.490760\n",
      "7         97  71.443890    65.004740\n",
      "8         98  70.304995    65.741250\n",
      "9         99  70.206110    66.532380\n",
      "10       100  69.447725    67.138350\n",
      "11       101  69.298335    67.956665\n",
      "12       102  68.453890    68.620000\n",
      "13       103  68.299505    69.373395\n",
      "14       104  68.109545    70.286670\n"
     ]
    },
    {
     "name": "stderr",
     "output_type": "stream",
     "text": [
      "2it [00:21, 10.85s/it]\n",
      "  8%|▊         | 8/95 [00:39<13:03,  9.01s/it]"
     ]
    },
    {
     "name": "stdout",
     "output_type": "stream",
     "text": [
      "   Timestamp  fridge  dish washer\n",
      "0       [105  11.865      126.355\n",
      "1        106  11.875      126.715\n",
      "2        107  11.885      126.995\n",
      "3        108  11.895      127.255\n",
      "4        109  11.905      127.495\n",
      "5        110  11.915      127.715\n",
      "6        111  11.925      127.965\n",
      "7        112  11.935      128.225\n",
      "8        113  11.945      128.475\n",
      "9        114  11.955      128.725\n",
      "10       115  11.965      128.975\n",
      "11       116  11.975      129.235\n",
      "12       117  11.985      129.490\n",
      "13       118  11.995      129.750\n",
      "14       119  12.005      130.010\n"
     ]
    },
    {
     "name": "stderr",
     "output_type": "stream",
     "text": [
      "2it [00:07,  3.95s/it]\n",
      "  9%|▉         | 9/95 [00:47<12:25,  8.67s/it]"
     ]
    },
    {
     "name": "stdout",
     "output_type": "stream",
     "text": [
      "    Timestamp  fridge  dish washer\n",
      "0   [120:00.0   15.70        0.300\n",
      "1    120:01.0   15.71        0.365\n",
      "2    120:02.0   15.69        0.290\n",
      "3    120:03.0   15.71        0.355\n",
      "4    120:04.0    8.23       60.280\n",
      "5    120:05.0    3.20       75.270\n",
      "6    120:06.0    3.44       75.260\n",
      "7    120:07.0    3.71       75.290\n",
      "8    120:08.0    3.47       70.295\n",
      "9    120:09.0    3.98       70.300\n",
      "10   120:10.0    2.96       70.285\n",
      "11   120:11.0    3.20       70.305\n",
      "12   120:12.0    2.69       65.315\n",
      "13   120:13.0    2.96       65.325\n",
      "14   120:14.0    2.72       65.310\n"
     ]
    },
    {
     "name": "stderr",
     "output_type": "stream",
     "text": []
    },
    {
     "name": "stdout",
     "output_type": "stream",
     "text": [
      "API key limit reached Error code: 429 - {'error': {'message': 'Rate limit reached for model `llama3-8b-8192` in organization `org_01hzptswaffbsrqr210cddb30c` on requests per minute (RPM): Limit 30, Used 30, Requested 1. Please try again in 1.98s. Visit https://console.groq.com/docs/rate-limits for more information.', 'type': 'requests', 'code': 'rate_limit_exceeded'}}\n",
      "API key limit reached Error code: 429 - {'error': {'message': 'Rate limit reached for model `llama3-8b-8192` in organization `org_01hzptswaffbsrqr210cddb30c` on requests per minute (RPM): Limit 30, Used 30, Requested 1. Please try again in 1.97s. Visit https://console.groq.com/docs/rate-limits for more information.', 'type': 'requests', 'code': 'rate_limit_exceeded'}}\n",
      "API key limit reached Error code: 429 - {'error': {'message': 'Rate limit reached for model `llama3-8b-8192` in organization `org_01hzptswaffbsrqr210cddb30c` on requests per minute (RPM): Limit 30, Used 30, Requested 1. Please try again in 1.989s. Visit https://console.groq.com/docs/rate-limits for more information.', 'type': 'requests', 'code': 'rate_limit_exceeded'}}\n",
      "API key limit reached Error code: 429 - {'error': {'message': 'Rate limit reached for model `llama3-8b-8192` in organization `org_01hzptswaffbsrqr210cddb30c` on requests per minute (RPM): Limit 30, Used 30, Requested 1. Please try again in 1.866s. Visit https://console.groq.com/docs/rate-limits for more information.', 'type': 'requests', 'code': 'rate_limit_exceeded'}}\n",
      "API key limit reached Error code: 429 - {'error': {'message': 'Rate limit reached for model `llama3-8b-8192` in organization `org_01hzptswaffbsrqr210cddb30c` on requests per minute (RPM): Limit 30, Used 30, Requested 1. Please try again in 1.986s. Visit https://console.groq.com/docs/rate-limits for more information.', 'type': 'requests', 'code': 'rate_limit_exceeded'}}\n",
      "API key limit reached Error code: 429 - {'error': {'message': 'Rate limit reached for model `llama3-8b-8192` in organization `org_01hzptswaffbsrqr210cddb30c` on requests per minute (RPM): Limit 30, Used 30, Requested 1. Please try again in 1.751s. Visit https://console.groq.com/docs/rate-limits for more information.', 'type': 'requests', 'code': 'rate_limit_exceeded'}}\n"
     ]
    },
    {
     "name": "stderr",
     "output_type": "stream",
     "text": [
      "2it [01:51, 55.78s/it]\n",
      " 11%|█         | 10/95 [02:38<57:17, 40.44s/it]"
     ]
    },
    {
     "name": "stdout",
     "output_type": "stream",
     "text": [
      "   Timestamp     fridge  dish washer\n",
      "0        135  12.196250    51.125000\n",
      "1        136  12.196250    49.375000\n",
      "2        137  12.196650    48.750000\n",
      "3        138  12.195000    49.250000\n",
      "4        139  12.201335    86.031250\n",
      "5        140  12.202835    81.281250\n",
      "6        141  12.204165    85.902780\n",
      "7        142  12.203665    85.851250\n",
      "8        143  12.201665    82.407895\n",
      "9        144  12.201665    80.000000\n",
      "10       145  12.201665    83.225000\n",
      "11       146  12.201665    82.875000\n",
      "12       147  12.201335    82.864285\n",
      "13       148  12.201665    81.102175\n",
      "14       149  12.201665    83.650000\n"
     ]
    },
    {
     "name": "stderr",
     "output_type": "stream",
     "text": [
      "2it [00:26, 13.01s/it]\n",
      " 12%|█▏        | 11/95 [03:04<50:26, 36.03s/it]"
     ]
    },
    {
     "name": "stdout",
     "output_type": "stream",
     "text": [
      "   Timestamp    fridge  dish washer\n",
      "0     [02:30  1.747845    40.742160\n",
      "1      02:31  1.760515    41.486710\n",
      "2      02:32  1.743625    40.076070\n",
      "3      02:33  1.761890    40.526765\n",
      "4      02:34  1.770970    40.136880\n",
      "5      02:35  1.792495    40.870620\n",
      "6      02:36  1.781795    39.991190\n",
      "7      02:37  1.796310    40.207185\n",
      "8      02:38  1.815170    40.956200\n",
      "9      02:39  1.802280    40.641065\n",
      "10     02:40  1.826945    40.151780\n",
      "11     02:41  1.837980    40.705985\n",
      "12     02:42  1.833955    40.062905\n",
      "13     02:43  1.867055    41.402100\n",
      "14     02:44  1.877070    40.191300\n"
     ]
    },
    {
     "name": "stderr",
     "output_type": "stream",
     "text": [
      "2it [00:14,  7.27s/it]\n",
      " 13%|█▎        | 12/95 [03:19<40:48, 29.51s/it]"
     ]
    },
    {
     "name": "stdout",
     "output_type": "stream",
     "text": [
      "   Timestamp      fridge  dish washer\n",
      "0     [02:45   14.553370   195.428440\n",
      "1      02:46   15.044875   196.675705\n",
      "2      02:47   15.042925   196.557210\n",
      "3      02:48   15.094340   196.170655\n",
      "4      02:49   15.054695   196.598025\n",
      "5      02:50   15.457575   202.448260\n",
      "6      02:51   15.695140   202.734425\n",
      "7      02:52   15.667605   202.450475\n",
      "8      02:53   15.689895   202.742210\n",
      "9      02:54   15.919570   203.048195\n",
      "10     02:55   16.055480   203.415310\n",
      "11     02:56  313.320010   383.032520\n",
      "12     02:57  362.075245   402.739810\n",
      "13     02:58  365.000605   397.071575\n",
      "14     02:59  363.974470   395.141695\n"
     ]
    },
    {
     "name": "stderr",
     "output_type": "stream",
     "text": [
      "2it [00:08,  4.20s/it]\n",
      " 14%|█▎        | 13/95 [03:27<31:36, 23.13s/it]"
     ]
    },
    {
     "name": "stdout",
     "output_type": "stream",
     "text": [
      "    Timestamp  fridge  dish washer\n",
      "0   [180:03.0  16.690       34.210\n",
      "1    181:03.0  16.660       34.135\n",
      "2    182:03.0  16.630       34.155\n",
      "3    183:03.0  16.465       33.920\n",
      "4    184:03.0  16.395       33.865\n",
      "5    185:03.0  16.320       33.795\n",
      "6    186:03.0  16.255       33.730\n",
      "7    187:03.0  16.215       33.695\n",
      "8    188:03.0  16.190       38.670\n",
      "9    189:03.0  16.170       38.655\n",
      "10   190:03.0  16.140       38.625\n",
      "11   191:03.0  16.115       38.600\n",
      "12   192:03.0  16.105       38.585\n",
      "13   193:03.0  16.095       38.575\n",
      "14   194:03.0  16.080       38.560\n"
     ]
    },
    {
     "name": "stderr",
     "output_type": "stream",
     "text": [
      "2it [00:20, 10.39s/it]\n",
      " 15%|█▍        | 14/95 [03:48<30:16, 22.43s/it]"
     ]
    },
    {
     "name": "stdout",
     "output_type": "stream",
     "text": [
      "   Timestamp  fridge  dish washer\n",
      "0        195   0.075        0.005\n",
      "1        196   0.075        0.005\n",
      "2        197   0.075        0.005\n",
      "3        198   0.075        0.005\n",
      "4        199   0.075        0.005\n",
      "5        200   0.075        0.005\n",
      "6        201   7.575        0.005\n",
      "7        202   7.575        0.005\n",
      "8        203   7.575        0.005\n",
      "9        204   7.575        0.005\n",
      "10       205   7.575        0.005\n",
      "11       206   0.075        0.005\n",
      "12       207   0.075        0.005\n",
      "13       208   0.075        0.005\n",
      "14       209   0.075        0.005\n"
     ]
    },
    {
     "name": "stderr",
     "output_type": "stream",
     "text": []
    },
    {
     "name": "stdout",
     "output_type": "stream",
     "text": [
      "API key limit reached Error code: 429 - {'error': {'message': 'Rate limit reached for model `llama3-8b-8192` in organization `org_01hzptswaffbsrqr210cddb30c` on requests per minute (RPM): Limit 30, Used 30, Requested 1. Please try again in 1.776s. Visit https://console.groq.com/docs/rate-limits for more information.', 'type': 'requests', 'code': 'rate_limit_exceeded'}}\n"
     ]
    },
    {
     "name": "stderr",
     "output_type": "stream",
     "text": [
      "2it [00:24, 12.40s/it]\n",
      " 16%|█▌        | 15/95 [04:13<30:52, 23.15s/it]"
     ]
    },
    {
     "name": "stdout",
     "output_type": "stream",
     "text": [
      "   Timestamp    fridge  dish washer\n",
      "0     [03:30  7.203535    10.672445\n",
      "1      03:31  7.115140    10.492550\n",
      "2      03:32  7.220670    10.382075\n",
      "3      03:33  7.073490    10.216060\n",
      "4      03:34  7.279400    10.078210\n",
      "5      03:35  6.981980     9.978390\n",
      "6      03:36  7.238815    10.029560\n",
      "7      03:37  7.142835    10.102630\n",
      "8      03:38  7.250240    10.175700\n",
      "9      03:39  7.105000    10.249270\n",
      "10     03:40  7.308840    10.290950\n",
      "11     03:41  7.115870    10.362970\n",
      "12     03:42  7.267810    10.435490\n",
      "13     03:43  7.022625    10.508010\n",
      "14     03:44  7.275550    10.587142\n"
     ]
    },
    {
     "name": "stderr",
     "output_type": "stream",
     "text": []
    },
    {
     "name": "stdout",
     "output_type": "stream",
     "text": [
      "API key limit reached Error code: 429 - {'error': {'message': 'Rate limit reached for model `llama3-8b-8192` in organization `org_01hzptswaffbsrqr210cddb30c` on requests per minute (RPM): Limit 30, Used 30, Requested 1. Please try again in 1.988s. Visit https://console.groq.com/docs/rate-limits for more information.', 'type': 'requests', 'code': 'rate_limit_exceeded'}}\n"
     ]
    },
    {
     "name": "stderr",
     "output_type": "stream",
     "text": [
      "2it [00:16,  8.34s/it]\n",
      " 17%|█▋        | 16/95 [04:30<27:55, 21.21s/it]"
     ]
    },
    {
     "name": "stdout",
     "output_type": "stream",
     "text": [
      "   Timestamp  fridge  dish washer\n",
      "0     [03:45  0.6275        3.375\n",
      "1      03:46  0.6300        5.250\n",
      "2      03:47  0.6300        5.250\n",
      "3      03:48  0.6300        3.250\n",
      "4      03:49  0.6300        3.250\n",
      "5      03:50  0.6300        3.250\n",
      "6      03:51  0.6100        3.300\n",
      "7      03:52  0.6050        3.200\n",
      "8      03:53  0.6050        3.150\n",
      "9      03:54  0.6100        5.100\n",
      "10     03:55  0.6150        5.250\n",
      "11     03:56  0.6050        3.200\n",
      "12     03:57  0.6050        3.250\n",
      "13     03:58  0.6100        3.300\n",
      "14     03:59  0.6200        3.350\n"
     ]
    },
    {
     "name": "stderr",
     "output_type": "stream",
     "text": []
    },
    {
     "name": "stdout",
     "output_type": "stream",
     "text": [
      "API key limit reached Error code: 429 - {'error': {'message': 'Rate limit reached for model `llama3-8b-8192` in organization `org_01hzptswaffbsrqr210cddb30c` on requests per minute (RPM): Limit 30, Used 30, Requested 1. Please try again in 1.989s. Visit https://console.groq.com/docs/rate-limits for more information.', 'type': 'requests', 'code': 'rate_limit_exceeded'}}\n"
     ]
    },
    {
     "name": "stderr",
     "output_type": "stream",
     "text": [
      "2it [00:24, 12.47s/it]\n",
      " 18%|█▊        | 17/95 [04:55<29:02, 22.34s/it]"
     ]
    },
    {
     "name": "stdout",
     "output_type": "stream",
     "text": [
      "   Timestamp    fridge  dish washer\n",
      "0     [04:00  85.31065     11.61945\n",
      "1      04:01  85.51070     11.56925\n",
      "2      04:02  85.61070     11.56950\n",
      "3      04:03  85.71075     11.57030\n",
      "4      04:04  85.81070     11.57110\n",
      "5      04:05  85.66070     11.57195\n",
      "6      04:06  85.61070     11.57325\n",
      "7      04:07  85.71075     11.57455\n",
      "8      04:08  85.81070     11.57635\n",
      "9      04:09  85.61070     11.57820\n",
      "10     04:10  85.71075     11.58005\n",
      "11     04:11  85.81070     11.58200\n",
      "12     04:12  85.61070    178.08435\n",
      "13     04:13  85.71075    178.08675\n",
      "14     04:14  85.81070    178.08910\n"
     ]
    },
    {
     "name": "stderr",
     "output_type": "stream",
     "text": []
    },
    {
     "name": "stdout",
     "output_type": "stream",
     "text": [
      "API key limit reached Error code: 429 - {'error': {'message': 'Rate limit reached for model `llama3-8b-8192` in organization `org_01hzptswaffbsrqr210cddb30c` on requests per minute (RPM): Limit 30, Used 30, Requested 1. Please try again in 1.233s. Visit https://console.groq.com/docs/rate-limits for more information.', 'type': 'requests', 'code': 'rate_limit_exceeded'}}\n"
     ]
    },
    {
     "name": "stderr",
     "output_type": "stream",
     "text": [
      "2it [00:58, 29.20s/it]\n",
      " 19%|█▉        | 18/95 [05:53<42:35, 33.18s/it]"
     ]
    },
    {
     "name": "stdout",
     "output_type": "stream",
     "text": [
      "   Timestamp   fridge  dish washer\n",
      "0     [04:15    0.755    32.250000\n",
      "1      04:16    1.055    36.900000\n",
      "2      04:17    1.120   114.436560\n",
      "3      04:18    0.920   113.623960\n",
      "4      04:19    0.820   112.812500\n",
      "5      04:20    0.720   112.043750\n",
      "6      04:21    0.670   111.264600\n",
      "7      04:22    0.620   110.544900\n",
      "8      04:23    0.570   109.876800\n",
      "9      04:24    0.470   109.261200\n",
      "10     04:25    0.420   108.749600\n",
      "11     04:26    0.370   108.440600\n",
      "12     04:27  186.575   107.544065\n",
      "13     04:28  173.625   110.362500\n",
      "14     04:29  175.100   110.955000\n"
     ]
    },
    {
     "name": "stderr",
     "output_type": "stream",
     "text": [
      "2it [00:05,  2.64s/it]\n",
      " 20%|██        | 19/95 [05:59<31:25, 24.81s/it]"
     ]
    },
    {
     "name": "stdout",
     "output_type": "stream",
     "text": [
      "   Timestamp  fridge  dish washer\n",
      "0       [270   2.855     133.4075\n",
      "1        271   2.855     133.3725\n",
      "2        272   2.965     133.6625\n",
      "3        273   2.885     133.3825\n",
      "4        274   3.005     133.9275\n",
      "5        275   2.945     133.6475\n",
      "6        276   2.895     118.6060\n",
      "7        277   2.980     118.9060\n",
      "8        278   2.920     126.1380\n",
      "9        279   2.965     132.9205\n",
      "10       280   2.960     121.6545\n",
      "11       281   2.955     121.7345\n",
      "12       282   2.925     125.7990\n",
      "13       283   2.995     131.1305\n",
      "14       284   2.975     119.5725\n"
     ]
    },
    {
     "name": "stderr",
     "output_type": "stream",
     "text": [
      "2it [00:05,  2.60s/it]\n",
      " 21%|██        | 20/95 [06:04<23:39, 18.93s/it]"
     ]
    },
    {
     "name": "stdout",
     "output_type": "stream",
     "text": [
      "   Timestamp   fridge  dish washer\n",
      "0      04:45   61.800       28.450\n",
      "1      04:46   62.100       28.550\n",
      "2      04:47   61.950       28.350\n",
      "3      04:48   62.300       28.650\n",
      "4      04:49   61.850       28.450\n",
      "5      04:50  148.110      115.660\n",
      "6      04:51  148.415      115.390\n",
      "7      04:52  147.895      115.190\n",
      "8      04:53  148.270      115.675\n",
      "9      04:54  148.590      116.015\n",
      "10     04:55  148.195      115.230\n",
      "11     04:56  148.440      115.790\n",
      "12     04:57  148.320      115.510\n",
      "13     04:58  148.630      116.120\n",
      "14     04:59  148.490      115.780\n"
     ]
    },
    {
     "name": "stderr",
     "output_type": "stream",
     "text": [
      "2it [00:07,  3.66s/it]\n",
      " 22%|██▏       | 21/95 [06:11<19:03, 15.45s/it]"
     ]
    },
    {
     "name": "stdout",
     "output_type": "stream",
     "text": [
      "   Timestamp  fridge  dish washer\n",
      "0        300   0.275         0.05\n",
      "1        301   0.275         0.05\n",
      "2        302   0.275         0.05\n",
      "3        303   0.275         0.05\n",
      "4        304   0.270         0.55\n",
      "5        305   0.270         0.55\n",
      "6        306   0.270         0.55\n",
      "7        307   0.270         0.05\n",
      "8        308   0.270         0.05\n",
      "9        309   0.270         0.05\n",
      "10       310   0.270         0.55\n",
      "11       311   0.270         0.55\n",
      "12       312   0.270         0.55\n",
      "13       313   0.270         0.05\n",
      "14       314   0.270         0.05\n"
     ]
    },
    {
     "name": "stderr",
     "output_type": "stream",
     "text": [
      "2it [00:08,  4.09s/it]\n",
      " 23%|██▎       | 22/95 [06:19<16:09, 13.28s/it]"
     ]
    },
    {
     "name": "stdout",
     "output_type": "stream",
     "text": [
      "   Timestamp    fridge  dish washer\n",
      "0     [05:30  5.861725    50.339450\n",
      "1      05:31  5.861750    50.339425\n",
      "2      05:32  5.861775    50.339450\n",
      "3      05:33  5.861800    50.339500\n",
      "4      05:34  5.861825    55.339450\n",
      "5      05:35  5.861850    70.639450\n",
      "6      05:36  5.861875    70.639550\n",
      "7      05:37  5.861900    70.639600\n",
      "8      05:38  5.861925    70.639650\n",
      "9      05:39  5.861950    70.639700\n",
      "10     05:40  5.861975    73.139450\n",
      "11     05:41  5.862000    74.139450\n",
      "12     05:42  5.862025    74.639450\n",
      "13     05:43  5.862050    80.639550\n",
      "14     05:44  5.862075    80.639600\n"
     ]
    },
    {
     "name": "stderr",
     "output_type": "stream",
     "text": [
      "2it [41:57, 1258.55s/it]\n",
      " 24%|██▍       | 23/95 [48:16<15:17:34, 764.64s/it]"
     ]
    },
    {
     "name": "stdout",
     "output_type": "stream",
     "text": [
      "   Timestamp  fridge  dish washer\n",
      "0       [330  23.020      135.380\n",
      "1        331  23.165      135.575\n",
      "2        332  23.855      136.345\n",
      "3        333  22.930      135.705\n",
      "4        334  22.725      135.375\n",
      "5        335  22.185      133.740\n",
      "6        336  22.915      135.325\n",
      "7        337  22.295      133.930\n",
      "8        338  21.915      133.445\n",
      "9        339  21.470      132.320\n",
      "10       340  22.385      133.830\n",
      "11       341  21.990      133.180\n",
      "12       342  22.025      133.710\n",
      "13       343  22.280      134.325\n",
      "14       344  21.610      132.825\n"
     ]
    },
    {
     "name": "stderr",
     "output_type": "stream",
     "text": [
      "2it [00:01,  1.63it/s]\n",
      " 25%|██▌       | 24/95 [48:18<10:33:46, 535.59s/it]"
     ]
    },
    {
     "name": "stdout",
     "output_type": "stream",
     "text": [
      "   Timestamp    fridge  dish washer\n",
      "0        359  50.17255       2.5005\n",
      "1        358  50.35960       0.2510\n",
      "2        357  50.00580       0.6515\n",
      "3        356  50.26070       0.3005\n",
      "4        355  49.95580       0.5515\n",
      "5        354  50.21070       0.3510\n",
      "6        353  49.92255       0.7005\n",
      "7        352  50.20960       0.2515\n",
      "8        351  50.00580       0.8010\n",
      "9        350  50.06070       0.4005\n",
      "10       349  50.12255       0.9015\n",
      "11       348  50.05960       0.4510\n",
      "12       347  50.15580       1.0005\n",
      "13       346  49.96070       0.5515\n",
      "14       345  50.12255       1.1005\n"
     ]
    },
    {
     "name": "stderr",
     "output_type": "stream",
     "text": [
      "2it [00:05,  2.63s/it]\n",
      " 26%|██▋       | 25/95 [48:23<7:19:14, 376.49s/it] "
     ]
    },
    {
     "name": "stdout",
     "output_type": "stream",
     "text": [
      "   Timestamp  fridge  dish washer\n",
      "0       [360   0.035        5.020\n",
      "1        361   0.035        5.020\n",
      "2        362   0.035        5.010\n",
      "3        363   0.035        5.010\n",
      "4        364   0.030        5.005\n",
      "5        365   0.030        5.005\n",
      "6        366   0.035        5.015\n",
      "7        367   0.035        5.015\n",
      "8        368   0.030        5.005\n",
      "9        369   0.030        5.010\n",
      "10       370   0.030        5.010\n",
      "11       371   0.035        5.010\n",
      "12       372   0.030        5.005\n",
      "13       373   0.030        5.005\n",
      "14       374   0.035        5.010\n"
     ]
    },
    {
     "name": "stderr",
     "output_type": "stream",
     "text": [
      "2it [00:01,  1.83it/s]\n",
      " 27%|██▋       | 26/95 [48:24<5:03:27, 263.88s/it]"
     ]
    },
    {
     "name": "stdout",
     "output_type": "stream",
     "text": [
      "   Timestamp  fridge  dish washer\n",
      "0        375  12.945       30.445\n",
      "1        376  12.695       50.875\n",
      "2        377  12.695       51.375\n",
      "3        378  12.695       51.625\n",
      "4        379  12.445       51.875\n",
      "5        380  12.445       51.750\n",
      "6        381  12.695       52.000\n",
      "7        382  12.790       52.655\n",
      "8        383  12.540       52.905\n",
      "9        384  13.040       53.405\n",
      "10       385  13.040       53.655\n",
      "11       386  12.830       54.040\n",
      "12       387  13.080       54.290\n",
      "13       388  12.830       54.540\n",
      "14       389  13.080       54.790\n"
     ]
    },
    {
     "name": "stderr",
     "output_type": "stream",
     "text": [
      "2it [00:04,  2.15s/it]\n",
      " 28%|██▊       | 27/95 [48:29<3:30:48, 186.01s/it]"
     ]
    },
    {
     "name": "stdout",
     "output_type": "stream",
     "text": [
      "   Timestamp  fridge  dish washer\n",
      "0      06:30    0.15         0.00\n",
      "1      06:31    0.25         0.00\n",
      "2      06:32    0.20         0.00\n",
      "3      06:33    0.15         0.00\n",
      "4      06:34    0.30       150.00\n",
      "5      06:35    0.25       150.00\n",
      "6      06:36    0.20       150.00\n",
      "7      06:37    0.30       150.00\n",
      "8      06:38    0.50       300.00\n",
      "9      06:39    0.45       294.75\n",
      "10     06:40    0.40       291.50\n",
      "11     06:41    0.35       290.50\n",
      "12     06:42    0.35       290.50\n",
      "13     06:43    0.30       289.00\n",
      "14     06:44    0.25       288.00\n"
     ]
    },
    {
     "name": "stderr",
     "output_type": "stream",
     "text": [
      "2it [00:01,  1.61it/s]\n",
      " 29%|██▉       | 28/95 [48:30<2:25:49, 130.59s/it]"
     ]
    },
    {
     "name": "stdout",
     "output_type": "stream",
     "text": [
      "   Timestamp  fridge  dish washer\n",
      "0     [06:45   0.055       0.0055\n",
      "1      06:46   0.055       7.5050\n",
      "2      06:47   0.055       7.5000\n",
      "3      06:48   0.055       7.2500\n",
      "4      06:49   0.055       7.2500\n",
      "5      06:50   0.055       6.7500\n",
      "6      06:51   0.055       6.1250\n",
      "7      06:52   0.055       6.1250\n",
      "8      06:53   0.055      61.1250\n",
      "9      06:54   0.055      60.6250\n",
      "10     06:55   0.055      62.3300\n",
      "11     06:56   0.055      62.0050\n",
      "12     06:57   0.055      61.3500\n",
      "13     06:58   0.055      60.2000\n",
      "14     06:59   0.055      59.6400\n"
     ]
    },
    {
     "name": "stderr",
     "output_type": "stream",
     "text": [
      "2it [00:11,  5.71s/it]\n",
      " 31%|███       | 29/95 [48:41<1:44:19, 94.85s/it] "
     ]
    },
    {
     "name": "stdout",
     "output_type": "stream",
     "text": [
      "   Timestamp  fridge  dish washer\n",
      "0        420    3.35         5.55\n",
      "1        421    3.45         6.45\n",
      "2        422    3.40         5.85\n",
      "3        423    3.30         6.20\n",
      "4        424    3.30         6.30\n",
      "5        425    3.45         5.90\n",
      "6        426    3.45         6.00\n",
      "7        427    3.45         5.70\n",
      "8        428    3.55         5.70\n",
      "9        429    3.40         5.95\n",
      "10       430    3.65         6.15\n",
      "11       431    3.65         5.50\n",
      "12       432    3.50         6.00\n",
      "13       433    3.70         5.60\n",
      "14       434    3.45         6.10\n"
     ]
    },
    {
     "name": "stderr",
     "output_type": "stream",
     "text": []
    },
    {
     "name": "stdout",
     "output_type": "stream",
     "text": [
      "API key limit reached Error code: 429 - {'error': {'message': 'Rate limit reached for model `llama3-8b-8192` in organization `org_01hzptswaffbsrqr210cddb30c` on requests per minute (RPM): Limit 30, Used 30, Requested 1. Please try again in 1.862s. Visit https://console.groq.com/docs/rate-limits for more information.', 'type': 'requests', 'code': 'rate_limit_exceeded'}}\n"
     ]
    },
    {
     "name": "stderr",
     "output_type": "stream",
     "text": [
      "2it [00:45, 22.75s/it]\n",
      " 32%|███▏      | 30/95 [49:27<1:26:43, 80.06s/it]"
     ]
    },
    {
     "name": "stdout",
     "output_type": "stream",
     "text": [
      "   Timestamp   fridge  dish washer\n",
      "0       [435  34.9935      38.8730\n",
      "1        436  35.2795      41.1110\n",
      "2        437  35.4905      40.6780\n",
      "3        438  35.1840      41.7970\n",
      "4        439  35.3575      42.7215\n",
      "5        440  35.6170      43.2470\n",
      "6        441  34.9060      43.9160\n",
      "7        442  35.2265      42.6460\n",
      "8        443  35.4610      43.5190\n",
      "9        444  35.6585      42.3410\n",
      "10       445  35.4740      43.2305\n",
      "11       446  35.3410      44.0105\n",
      "12       447  35.4465      44.1485\n",
      "13       448  35.5575      44.5605\n",
      "14       449  35.6455      45.0900\n"
     ]
    },
    {
     "name": "stderr",
     "output_type": "stream",
     "text": [
      "2it [00:13,  6.53s/it]\n",
      " 33%|███▎      | 31/95 [49:40<1:03:57, 59.96s/it]"
     ]
    },
    {
     "name": "stdout",
     "output_type": "stream",
     "text": [
      "   Timestamp  fridge  dish washer\n",
      "0     [07:30   1.065        0.615\n",
      "1      07:31   1.070       41.755\n",
      "2      07:32   1.025       40.610\n",
      "3      07:33   1.030       40.285\n",
      "4      07:34   1.185       39.640\n",
      "5      07:35   1.040       38.295\n",
      "6      07:36   0.995       37.450\n",
      "7      07:37   1.000       36.605\n",
      "8      07:38   1.155       35.810\n",
      "9      07:39   1.110       34.965\n",
      "10     07:40   0.865       34.120\n",
      "11     07:41   0.870       76.875\n",
      "12     07:42   0.825      149.330\n",
      "13     07:43   0.830      144.895\n",
      "14     07:44   0.835      142.100\n"
     ]
    },
    {
     "name": "stderr",
     "output_type": "stream",
     "text": [
      "\n"
     ]
    },
    {
     "name": "stdout",
     "output_type": "stream",
     "text": [
      "API key limit reached Error code: 429 - {'error': {'message': 'Rate limit reached for model `llama3-8b-8192` in organization `org_01hzptswaffbsrqr210cddb30c` on requests per minute (RPM): Limit 30, Used 30, Requested 1. Please try again in 1.887s. Visit https://console.groq.com/docs/rate-limits for more information.', 'type': 'requests', 'code': 'rate_limit_exceeded'}}\n"
     ]
    },
    {
     "name": "stderr",
     "output_type": "stream",
     "text": [
      "2it [00:14,  7.07s/it]\u001b[A\n",
      " 34%|███▎      | 32/95 [49:54<48:32, 46.23s/it]  "
     ]
    },
    {
     "name": "stdout",
     "output_type": "stream",
     "text": [
      "   Timestamp  fridge  dish washer\n",
      "0       [465  10.525         28.1\n",
      "1        466  10.525         28.1\n",
      "2        467  10.525         28.1\n",
      "3        468  10.525         28.1\n",
      "4        469  10.525         28.1\n",
      "5        470  10.525         28.1\n",
      "6        471  11.025         25.6\n",
      "7        472  11.025         26.1\n",
      "8        473  11.025         26.6\n",
      "9        474  11.025         27.6\n",
      "10       475  11.525         28.6\n",
      "11       476  11.525         29.1\n",
      "12       477  11.525         29.6\n",
      "13       478  11.525         30.1\n",
      "14       479  12.025         30.6\n"
     ]
    },
    {
     "name": "stderr",
     "output_type": "stream",
     "text": [
      "2it [00:14,  7.20s/it]\n",
      " 35%|███▍      | 33/95 [50:08<37:54, 36.69s/it]"
     ]
    },
    {
     "name": "stdout",
     "output_type": "stream",
     "text": [
      "   Timestamp  fridge  dish washer\n",
      "0       [480   15.75        55.00\n",
      "1        481   16.10        54.05\n",
      "2        482   15.45        52.45\n",
      "3        483   15.15        56.35\n",
      "4        484   15.90        54.10\n",
      "5        485   15.55        51.75\n",
      "6        486   15.45        56.45\n",
      "7        487   15.80        54.15\n",
      "8        488   15.70        51.25\n",
      "9        489   15.30        56.15\n",
      "10       490   15.85        53.55\n",
      "11       491   15.75        51.20\n",
      "12       492   15.15        56.10\n",
      "13       493   15.90        54.05\n",
      "14       494   15.35        56.30\n"
     ]
    },
    {
     "name": "stderr",
     "output_type": "stream",
     "text": [
      "2it [00:05,  2.57s/it]\n",
      " 36%|███▌      | 34/95 [50:14<27:41, 27.23s/it]"
     ]
    },
    {
     "name": "stdout",
     "output_type": "stream",
     "text": [
      "   Timestamp     fridge  dish washer\n",
      "0       [495  49.267437        27.85\n",
      "1        496  49.067453        29.15\n",
      "2        497  48.767500        27.25\n",
      "3        498  48.417558        25.75\n",
      "4        499  48.167435        21.30\n",
      "5        500  47.917516        20.60\n",
      "6        501  47.767468        19.45\n",
      "7        502  47.617573        18.30\n",
      "8        503  47.467626        17.15\n",
      "9        504  47.300000        18.50\n",
      "10       505  47.167680        17.85\n",
      "11       506  47.067478        17.20\n",
      "12       507  46.967734        16.55\n",
      "13       508  46.867787        15.90\n",
      "14       509  46.767840        15.25\n"
     ]
    },
    {
     "name": "stderr",
     "output_type": "stream",
     "text": [
      "2it [00:08,  4.24s/it]\n",
      " 37%|███▋      | 35/95 [50:22<21:37, 21.62s/it]"
     ]
    },
    {
     "name": "stdout",
     "output_type": "stream",
     "text": [
      "   Timestamp  fridge  dish washer\n",
      "0     [08:30    0.10         0.00\n",
      "1      08:31    0.10         0.00\n",
      "2      08:32    0.10         0.00\n",
      "3      08:33    5.55        70.15\n",
      "4      08:34   50.55        70.15\n",
      "5      08:35   50.55        70.15\n",
      "6      08:36   50.55        70.15\n",
      "7      08:37   50.55        70.15\n",
      "8      08:38   50.55        70.15\n",
      "9      08:39   75.55        70.15\n",
      "10     08:40  100.55        70.15\n",
      "11     08:41  100.55        70.15\n",
      "12     08:42  500.55      1070.15\n",
      "13     08:43  500.55      1070.15\n",
      "14     08:44  750.55      1070.15\n"
     ]
    },
    {
     "name": "stderr",
     "output_type": "stream",
     "text": []
    },
    {
     "name": "stdout",
     "output_type": "stream",
     "text": [
      "API key limit reached Error code: 429 - {'error': {'message': 'Rate limit reached for model `llama3-8b-8192` in organization `org_01hzptswaffbsrqr210cddb30c` on requests per minute (RPM): Limit 30, Used 30, Requested 1. Please try again in 1.934s. Visit https://console.groq.com/docs/rate-limits for more information.', 'type': 'requests', 'code': 'rate_limit_exceeded'}}\n"
     ]
    },
    {
     "name": "stderr",
     "output_type": "stream",
     "text": [
      "2it [00:16,  8.13s/it]\n",
      " 38%|███▊      | 36/95 [50:38<19:41, 20.02s/it]"
     ]
    },
    {
     "name": "stdout",
     "output_type": "stream",
     "text": [
      "   Timestamp     fridge  dish washer\n",
      "0       [525  82.123425   564.790090\n",
      "1        526  81.845630   553.012290\n",
      "2        527  81.567385   552.067845\n",
      "3        528  80.293340   548.450550\n",
      "4        529  79.519595   544.850555\n",
      "5        530  78.756200   540.295760\n",
      "6        531  77.992355   535.695965\n",
      "7        532  77.224510   530.645820\n",
      "8        533  76.461665   526.095675\n",
      "9        534  75.248820   521.545530\n",
      "10       535  74.540975   516.995485\n",
      "11       536  73.833130   512.445640\n",
      "12       537  73.125335   507.895795\n",
      "13       538  72.417490   503.346000\n",
      "14       539  71.709645   498.795705\n"
     ]
    },
    {
     "name": "stderr",
     "output_type": "stream",
     "text": [
      "2it [00:05,  2.59s/it]\n",
      " 39%|███▉      | 37/95 [50:44<15:03, 15.58s/it]"
     ]
    },
    {
     "name": "stdout",
     "output_type": "stream",
     "text": [
      "   Timestamp  fridge  dish washer\n",
      "0       [540    1.85        25.40\n",
      "1        541    1.85        25.25\n",
      "2        542    1.85        25.55\n",
      "3        543   32.10       525.15\n",
      "4        544    1.85        26.45\n",
      "5        545    1.85        24.80\n",
      "6        546    1.85        25.15\n",
      "7        547   32.10       525.75\n",
      "8        548    1.85        25.15\n",
      "9        549    1.85        26.35\n",
      "10       550    1.85        25.55\n",
      "11       551   32.10       525.30\n",
      "12       552    1.90        27.25\n",
      "13       553    1.90        27.05\n",
      "14       554    1.90        27.15\n"
     ]
    },
    {
     "name": "stderr",
     "output_type": "stream",
     "text": []
    },
    {
     "name": "stdout",
     "output_type": "stream",
     "text": [
      "API key limit reached Error code: 429 - {'error': {'message': 'Rate limit reached for model `llama3-8b-8192` in organization `org_01hzptswaffbsrqr210cddb30c` on requests per minute (RPM): Limit 30, Used 30, Requested 1. Please try again in 1.997s. Visit https://console.groq.com/docs/rate-limits for more information.', 'type': 'requests', 'code': 'rate_limit_exceeded'}}\n"
     ]
    },
    {
     "name": "stderr",
     "output_type": "stream",
     "text": [
      "\n"
     ]
    },
    {
     "name": "stdout",
     "output_type": "stream",
     "text": [
      "API key limit reached Error code: 429 - {'error': {'message': 'Rate limit reached for model `llama3-8b-8192` in organization `org_01hzptswaffbsrqr210cddb30c` on requests per minute (RPM): Limit 30, Used 30, Requested 1. Please try again in 1.886s. Visit https://console.groq.com/docs/rate-limits for more information.', 'type': 'requests', 'code': 'rate_limit_exceeded'}}\n"
     ]
    },
    {
     "name": "stderr",
     "output_type": "stream",
     "text": [
      "2it [00:25, 12.85s/it]\u001b[A\n",
      " 40%|████      | 38/95 [51:09<17:41, 18.62s/it]"
     ]
    },
    {
     "name": "stdout",
     "output_type": "stream",
     "text": [
      "   Timestamp     fridge  dish washer\n",
      "0       [555  53.972790     3.661120\n",
      "1        556  53.933570     6.274560\n",
      "2        557  53.903215     6.675880\n",
      "3        558  53.873170     6.067755\n",
      "4        559  53.843460     5.965130\n",
      "5        560  53.814015     6.241585\n",
      "6        561  53.784795     6.020315\n",
      "7        562  53.755710     6.296375\n",
      "8        563  53.726915     6.573945\n",
      "9        564  53.698345     6.807155\n",
      "10       565  53.674870     6.540875\n",
      "11       566  53.646560     6.776735\n",
      "12       567  53.613400     6.012470\n",
      "13       568  53.585435     6.608365\n",
      "14       569  53.557520     5.845140\n"
     ]
    },
    {
     "name": "stderr",
     "output_type": "stream",
     "text": []
    },
    {
     "name": "stdout",
     "output_type": "stream",
     "text": [
      "API key limit reached Error code: 429 - {'error': {'message': 'Rate limit reached for model `llama3-8b-8192` in organization `org_01hzptswaffbsrqr210cddb30c` on requests per minute (RPM): Limit 30, Used 30, Requested 1. Please try again in 1.95s. Visit https://console.groq.com/docs/rate-limits for more information.', 'type': 'requests', 'code': 'rate_limit_exceeded'}}\n"
     ]
    },
    {
     "name": "stderr",
     "output_type": "stream",
     "text": [
      "2it [00:13,  6.56s/it]\n",
      " 41%|████      | 39/95 [51:23<15:50, 16.98s/it]"
     ]
    },
    {
     "name": "stdout",
     "output_type": "stream",
     "text": [
      "   Timestamp  fridge  dish washer\n",
      "0       [570  52.775       10.755\n",
      "1        571  53.060       12.780\n",
      "2        572  52.540       12.635\n",
      "3        573  53.055       13.715\n",
      "4        574  52.420       12.815\n",
      "5        575  52.840       13.720\n",
      "6        576  52.025       13.060\n",
      "7        577  53.025       14.065\n",
      "8        578  51.860       13.015\n",
      "9        579  53.295       14.605\n",
      "10       580  51.445       13.340\n",
      "11       581  52.710       14.095\n",
      "12       582  50.915       12.870\n",
      "13       583  53.145       15.275\n",
      "14       584  51.795       13.860\n"
     ]
    },
    {
     "name": "stderr",
     "output_type": "stream",
     "text": [
      "2it [00:05,  2.64s/it]\n",
      " 42%|████▏     | 40/95 [51:28<12:21, 13.48s/it]"
     ]
    },
    {
     "name": "stdout",
     "output_type": "stream",
     "text": [
      "   Timestamp  fridge  dish washer\n",
      "0     [09:45  11.810       80.985\n",
      "1      09:46  11.865       80.805\n",
      "2      09:47  11.845       79.205\n",
      "3      09:48  11.850       77.850\n",
      "4      09:49  11.905       77.395\n",
      "5      09:50  11.935       77.140\n",
      "6      09:51  11.890       75.185\n",
      "7      09:52  11.895       73.930\n",
      "8      09:53  11.950       73.425\n",
      "9      09:54  11.955       72.270\n",
      "10     09:55  11.960       71.165\n",
      "11     09:56  11.965       69.960\n",
      "12     09:57  11.970       69.305\n",
      "13     09:58  12.000       68.550\n",
      "14     09:59  11.955       66.895\n"
     ]
    },
    {
     "name": "stderr",
     "output_type": "stream",
     "text": []
    },
    {
     "name": "stdout",
     "output_type": "stream",
     "text": [
      "API key limit reached Error code: 429 - {'error': {'message': 'Rate limit reached for model `llama3-8b-8192` in organization `org_01hzptswaffbsrqr210cddb30c` on requests per minute (RPM): Limit 30, Used 30, Requested 1. Please try again in 1.808s. Visit https://console.groq.com/docs/rate-limits for more information.', 'type': 'requests', 'code': 'rate_limit_exceeded'}}\n"
     ]
    },
    {
     "name": "stderr",
     "output_type": "stream",
     "text": [
      "2it [00:26, 13.20s/it]\n",
      " 43%|████▎     | 41/95 [51:54<15:37, 17.36s/it]"
     ]
    },
    {
     "name": "stdout",
     "output_type": "stream",
     "text": [
      "   Timestamp  fridge  dish washer\n",
      "0       [600  40.290      109.765\n",
      "1        601  40.015      110.800\n",
      "2        602  40.235      110.060\n",
      "3        603  40.190      109.665\n",
      "4        604  40.095      110.205\n",
      "5        605  39.830      110.930\n",
      "6        606  39.680      111.085\n",
      "7        607  39.995      110.285\n",
      "8        608  39.665      110.715\n",
      "9        609  39.820      110.095\n",
      "10       610  39.775      110.495\n",
      "11       611  39.730      111.055\n",
      "12       612  39.865      110.655\n",
      "13       613  39.640      110.845\n",
      "14       614  39.595      111.480\n"
     ]
    },
    {
     "name": "stderr",
     "output_type": "stream",
     "text": [
      "2it [00:05,  2.59s/it]\n",
      " 44%|████▍     | 42/95 [52:00<12:07, 13.72s/it]"
     ]
    },
    {
     "name": "stdout",
     "output_type": "stream",
     "text": [
      "   Timestamp  fridge  dish washer\n",
      "0       [615   117.5        175.0\n",
      "1        616   117.5        175.0\n",
      "2        617   115.0        150.0\n",
      "3        618   112.5        160.0\n",
      "4        619   112.5        155.0\n",
      "5        620   110.0        145.0\n",
      "6        621   107.5        140.0\n",
      "7        622   105.0        135.0\n",
      "8        623   102.5        130.0\n",
      "9        624   100.0        125.0\n",
      "10       625    97.5        120.0\n",
      "11       626    95.0        115.0\n",
      "12       627    92.5        110.0\n",
      "13       628    90.0        105.0\n",
      "14       629    87.5        100.0\n"
     ]
    },
    {
     "name": "stderr",
     "output_type": "stream",
     "text": [
      "2it [00:16,  8.05s/it]\n",
      " 45%|████▌     | 43/95 [52:16<12:31, 14.44s/it]"
     ]
    },
    {
     "name": "stdout",
     "output_type": "stream",
     "text": [
      "   Timestamp  fridge  dish washer\n",
      "0        630   8.857       11.745\n",
      "1        631   8.782       11.875\n",
      "2        632   8.842       10.170\n",
      "3        633   8.607       10.430\n",
      "4        634   8.677        9.550\n",
      "5        635   8.342        9.745\n",
      "6        636   8.577        9.295\n",
      "7        637   8.292        9.600\n",
      "8        638   8.467        9.205\n",
      "9        639   8.242        9.645\n",
      "10       640   8.092        9.355\n",
      "11       641   8.127        9.395\n",
      "12       642   7.877        9.170\n",
      "13       643   7.752        9.220\n",
      "14       644   7.847        9.015\n"
     ]
    },
    {
     "name": "stderr",
     "output_type": "stream",
     "text": [
      "2it [00:11,  5.81s/it]\n",
      " 46%|████▋     | 44/95 [52:27<11:33, 13.61s/it]"
     ]
    },
    {
     "name": "stdout",
     "output_type": "stream",
     "text": [
      "   Timestamp  fridge  dish washer\n",
      "0        645   7.275         0.05\n",
      "1        646   7.275         0.05\n",
      "2        647   7.775         0.00\n",
      "3        648   7.300         0.00\n",
      "4        649   7.275         0.00\n",
      "5        650   7.775         0.00\n",
      "6        651   7.275         0.00\n",
      "7        652   7.775         0.00\n",
      "8        653   0.775       499.75\n",
      "9        654   0.800       396.25\n",
      "10       655   7.300         0.00\n",
      "11       656   7.800         0.00\n",
      "12       657   7.300         0.05\n",
      "13       658   7.800         0.05\n",
      "14       659   7.300         0.05\n"
     ]
    },
    {
     "name": "stderr",
     "output_type": "stream",
     "text": [
      "2it [00:05,  2.58s/it]\n",
      " 47%|████▋     | 45/95 [52:32<09:14, 11.08s/it]"
     ]
    },
    {
     "name": "stdout",
     "output_type": "stream",
     "text": [
      "   Timestamp     fridge  dish washer\n",
      "0        660  14.667975     10.36175\n",
      "1        661  14.687460     10.26050\n",
      "2        662  14.522430     10.10925\n",
      "3        663  14.542330     10.05775\n",
      "4        664  14.472350     10.00600\n",
      "5        665  14.402270      9.90475\n",
      "6        666  59.642290     47.60325\n",
      "7        667  59.572310     47.25175\n",
      "8        668  59.512330     47.15025\n",
      "9        669  59.467360     47.10100\n",
      "10       670  59.402390     47.05175\n",
      "11       671  59.342410     47.00250\n",
      "12       672  59.332440     46.95325\n",
      "13       673  59.272460     46.90400\n",
      "14       674  59.220000     46.85500\n"
     ]
    },
    {
     "name": "stderr",
     "output_type": "stream",
     "text": [
      "2it [00:10,  5.23s/it]\n",
      " 48%|████▊     | 46/95 [52:43<08:54, 10.90s/it]"
     ]
    },
    {
     "name": "stdout",
     "output_type": "stream",
     "text": [
      "   Timestamp  fridge  dish washer\n",
      "0        675    50.2          0.0\n",
      "1        676    50.2          0.0\n",
      "2        677    50.6         25.0\n",
      "3        678    51.1         25.0\n",
      "4        679    50.1         25.0\n",
      "5        680    50.6         25.0\n",
      "6        681    51.1         25.0\n",
      "7        682    51.6         25.0\n",
      "8        683    51.1         25.0\n",
      "9        684    50.6         25.0\n",
      "10       685    50.1         50.0\n",
      "11       686    50.1         50.0\n",
      "12       687     0.1        750.0\n",
      "13       688    55.0        150.0\n",
      "14       689    55.5        150.0\n"
     ]
    },
    {
     "name": "stderr",
     "output_type": "stream",
     "text": [
      "2it [00:02,  1.45s/it]\n",
      " 49%|████▉     | 47/95 [52:46<06:48,  8.51s/it]"
     ]
    },
    {
     "name": "stdout",
     "output_type": "stream",
     "text": [
      "   Timestamp   fridge  dish washer\n",
      "0      690.0  0.55005      1.75005\n",
      "1      691.0  0.55005      1.75005\n",
      "2      692.0  0.55005      1.75005\n",
      "3      693.0  0.55005      1.75005\n",
      "4      694.0  0.55005      1.75005\n",
      "5      695.0  0.55005      1.75005\n",
      "6      696.0  0.55005      1.75005\n",
      "7      697.0  0.55050      1.80000\n",
      "8      698.0  0.55005      1.75005\n",
      "9      699.0  0.55005      1.75005\n",
      "10     700.0  0.55050      1.80000\n",
      "11     701.0  0.55005      1.75005\n",
      "12     702.0  0.55005      1.75005\n",
      "13     703.0  0.55005      1.75005\n",
      "14     704.0  0.55050      1.80000\n"
     ]
    },
    {
     "name": "stderr",
     "output_type": "stream",
     "text": [
      "2it [00:18,  9.33s/it]\n",
      " 51%|█████     | 48/95 [53:05<09:03, 11.56s/it]"
     ]
    },
    {
     "name": "stdout",
     "output_type": "stream",
     "text": [
      "   Timestamp  fridge  dish washer\n",
      "0       [705  6.2725    18.033945\n",
      "1        706  6.2210    17.530555\n",
      "2        707  6.3220    18.331665\n",
      "3        708  6.2730    17.882780\n",
      "4        709  6.3750    18.233850\n",
      "5        710  6.3260    18.084920\n",
      "6        711  6.2770    17.836000\n",
      "7        712  6.3780    18.387075\n",
      "8        713  6.3290    17.988140\n",
      "9        714  6.2800    17.739205\n",
      "10       715  6.3810    18.540270\n",
      "11       716  6.3320    18.141335\n",
      "12       717  6.2830    17.942400\n",
      "13       718  6.3840    18.693465\n",
      "14       719  6.3350    18.044530\n"
     ]
    },
    {
     "name": "stderr",
     "output_type": "stream",
     "text": [
      "2it [00:05,  2.66s/it]\n",
      " 52%|█████▏    | 49/95 [53:10<07:25,  9.69s/it]"
     ]
    },
    {
     "name": "stdout",
     "output_type": "stream",
     "text": [
      "   Timestamp     fridge  dish washer\n",
      "0       [720  20.061725      7.83945\n",
      "1        721  20.117250      7.73390\n",
      "2        722  19.999500      7.61570\n",
      "3        723  19.422800      7.83945\n",
      "4        724  20.061700      8.30560\n",
      "5        725  19.938250      8.32715\n",
      "6        726  19.367250      8.39400\n",
      "7        727  19.999550      7.96605\n",
      "8        728  20.061700      8.55560\n",
      "9        729  20.117250      7.99450\n",
      "10       730  20.172800      8.47105\n",
      "11       731  19.688250      7.82715\n",
      "12       732  20.061700      8.35560\n",
      "13       733  20.117250      8.24450\n",
      "14       734  19.922800      8.27105\n"
     ]
    },
    {
     "name": "stderr",
     "output_type": "stream",
     "text": [
      "2it [00:11,  5.62s/it]\n",
      " 53%|█████▎    | 50/95 [53:21<07:37, 10.17s/it]"
     ]
    },
    {
     "name": "stdout",
     "output_type": "stream",
     "text": [
      "   Timestamp   fridge  dish washer\n",
      "0       [735  13.6725      15.0000\n",
      "1        736  13.6605       8.1170\n",
      "2        737  14.1500      10.6000\n",
      "3        738  13.9910       8.6725\n",
      "4        739  14.0615      11.0615\n",
      "5        740  13.4500       6.2100\n",
      "6        741  14.0100       8.5750\n",
      "7        742  13.9000      11.0450\n",
      "8        743  13.5500       6.0300\n",
      "9        744  13.3500       6.0200\n",
      "10       745  14.0150      11.0100\n",
      "11       746  13.8250       8.5050\n",
      "12       747  14.0200       8.5000\n",
      "13       748  13.3000       5.9900\n",
      "14       749  14.0250      10.9850\n"
     ]
    },
    {
     "name": "stderr",
     "output_type": "stream",
     "text": [
      "2it [00:05,  2.58s/it]\n",
      " 54%|█████▎    | 51/95 [53:26<06:21,  8.68s/it]"
     ]
    },
    {
     "name": "stdout",
     "output_type": "stream",
     "text": [
      "   Timestamp   fridge  dish washer\n",
      "0        750  64.2280     650.0615\n",
      "1        751  64.7835     651.1725\n",
      "2        752  65.8945     652.2835\n",
      "3        753  66.9505     653.4540\n",
      "4        754  67.0615     654.5005\n",
      "5        755  67.7280     655.5560\n",
      "6        756  68.3945     656.6605\n",
      "7        757  68.9505     657.7280\n",
      "8        758  69.2280     658.5445\n",
      "9        759  64.7835     659.6170\n",
      "10       760  65.8945     660.7280\n",
      "11       761  74.4505     761.8945\n",
      "12       762  67.0615     662.9505\n",
      "13       763  67.7280     663.8900\n",
      "14       764  68.3945     664.9995\n"
     ]
    },
    {
     "name": "stderr",
     "output_type": "stream",
     "text": [
      "2it [00:05,  2.60s/it]\n",
      " 55%|█████▍    | 52/95 [53:32<05:28,  7.65s/it]"
     ]
    },
    {
     "name": "stdout",
     "output_type": "stream",
     "text": [
      "   Timestamp      fridge  dish washer\n",
      "0        765  1222.34280    644.75570\n",
      "1        766  1222.35590    640.26705\n",
      "2        767  1219.47225    640.83350\n",
      "3        768  1220.91665    638.87280\n",
      "4        769  1233.51115    644.47060\n",
      "5        770  1231.17795    644.63660\n",
      "6        771  1230.44565    644.79570\n",
      "7        772  1230.35740    644.95355\n",
      "8        773  1230.81410    649.11090\n",
      "9        774  1231.24550    649.27095\n",
      "10       775  1231.69655    649.08960\n",
      "11       776  1232.14765    648.90280\n",
      "12       777  1232.56090    652.71430\n",
      "13       778  1232.97745    652.52865\n",
      "14       779  1232.86155    653.30605\n"
     ]
    },
    {
     "name": "stderr",
     "output_type": "stream",
     "text": [
      "2it [00:05,  2.59s/it]\n",
      " 56%|█████▌    | 53/95 [53:37<04:50,  6.92s/it]"
     ]
    },
    {
     "name": "stdout",
     "output_type": "stream",
     "text": [
      "   Timestamp    fridge  dish washer\n",
      "0       [780  70.37330       0.0000\n",
      "1        781  71.12275       0.5500\n",
      "2        782  69.41675       0.0000\n",
      "3        783  72.45525       1.2500\n",
      "4        784  71.34225       0.0000\n",
      "5        785  73.92775       0.9000\n",
      "6        786  70.96175       0.0000\n",
      "7        787  73.84325       1.1000\n",
      "8        788  71.77325       0.0000\n",
      "9        789  73.60125       0.4500\n",
      "10       790  74.22775       0.6500\n",
      "11       791  73.70275       0.0000\n",
      "12       792  75.57625       1.0000\n",
      "13       793  73.49825       0.4000\n",
      "14       794  75.16875       1.6224\n"
     ]
    },
    {
     "name": "stderr",
     "output_type": "stream",
     "text": [
      "2it [00:13,  6.98s/it]\n",
      " 57%|█████▋    | 54/95 [53:51<06:10,  9.05s/it]"
     ]
    },
    {
     "name": "stdout",
     "output_type": "stream",
     "text": [
      "   Timestamp     fridge  dish washer\n",
      "0       [795  83.724217   517.526433\n",
      "1        796  82.984117   526.760333\n",
      "2        797  86.293517   526.460133\n",
      "3        798  85.902817   522.397883\n",
      "4        799  85.397617   519.510933\n",
      "5        800  84.387967   520.811533\n",
      "6        801  83.778867   518.157183\n",
      "7        802  83.244817   522.435033\n",
      "8        803  82.737867   519.305583\n",
      "9        804  82.262467   517.115183\n",
      "10       805  81.813067   522.406033\n",
      "11       806  81.380567   518.099933\n",
      "12       807  80.971067   518.299833\n",
      "13       808  80.599517   523.410833\n",
      "14       809  80.269467   522.446083\n"
     ]
    },
    {
     "name": "stderr",
     "output_type": "stream",
     "text": [
      "2it [00:45, 22.97s/it]\n",
      " 58%|█████▊    | 55/95 [54:37<13:24, 20.12s/it]"
     ]
    },
    {
     "name": "stdout",
     "output_type": "stream",
     "text": [
      "   Timestamp    fridge  dish washer\n",
      "0      13:30  87.21665   1282.47280\n",
      "1      13:31  84.23280   1233.46725\n",
      "2      13:32  84.74805   1196.38945\n",
      "3      13:33  85.83390   1180.36170\n",
      "4      13:34  87.51095   1164.82280\n",
      "5      13:35  89.08360   1112.33270\n",
      "6      13:36  88.11770   1102.25060\n",
      "7      13:37  89.97160   1085.10490\n",
      "8      13:38  91.55835   1069.07280\n",
      "9      13:39  90.22805   1054.69505\n",
      "10     13:40  88.57305   1042.77105\n",
      "11     13:41  90.66725   1034.01170\n",
      "12     13:42  89.62455   1025.08390\n",
      "13     13:43  14.96095    882.15060\n",
      "14     13:44  11.32890    767.78270\n"
     ]
    },
    {
     "name": "stderr",
     "output_type": "stream",
     "text": [
      "2it [00:05,  2.64s/it]\n",
      " 59%|█████▉    | 56/95 [54:42<10:11, 15.68s/it]"
     ]
    },
    {
     "name": "stdout",
     "output_type": "stream",
     "text": [
      "   Timestamp      fridge  dish washer\n",
      "0       [825  161.852205     17.36340\n",
      "1        826  161.515575     15.53045\n",
      "2        827  159.836570     16.17015\n",
      "3        828  157.814325     15.72780\n",
      "4        829  158.338220     15.21790\n",
      "5        830  156.894605     16.30060\n",
      "6        831  154.883175     15.47365\n",
      "7        832  154.014970     14.99305\n",
      "8        833  154.910725     14.67645\n",
      "9        834  152.734905     14.31910\n",
      "10       835  150.994370     15.51925\n",
      "11       836  148.727605     14.29755\n",
      "12       837  149.828030     13.86610\n",
      "13       838  148.109865     14.40135\n",
      "14       839  145.732355     13.38945\n"
     ]
    },
    {
     "name": "stderr",
     "output_type": "stream",
     "text": [
      "2it [00:16,  8.14s/it]\n",
      " 60%|██████    | 57/95 [54:58<10:02, 15.87s/it]"
     ]
    },
    {
     "name": "stdout",
     "output_type": "stream",
     "text": [
      "   Timestamp     fridge  dish washer\n",
      "0       [840  100.63790    160.14315\n",
      "1        841   98.69560    185.19090\n",
      "2        842  102.37395    196.83805\n",
      "3        843  101.84700    202.51510\n",
      "4        844  106.10105    210.93245\n",
      "5        845  104.53105    210.39090\n",
      "6        846  109.90695    208.86095\n",
      "7        847  109.35185    207.67265\n",
      "8        848  112.18820    206.09990\n",
      "9        849  111.75640    204.41775\n",
      "10       850  116.56725    202.96190\n",
      "11       851  116.89710    202.12265\n",
      "12       852  119.95605    200.99770\n",
      "13       853  119.46415    199.86080\n",
      "14       854  123.11625    199.55595\n"
     ]
    },
    {
     "name": "stderr",
     "output_type": "stream",
     "text": [
      "2it [00:08,  4.07s/it]\n",
      " 61%|██████    | 58/95 [55:07<08:21, 13.56s/it]"
     ]
    },
    {
     "name": "stdout",
     "output_type": "stream",
     "text": [
      "   Timestamp     fridge  dish washer\n",
      "0       [855  82.422835   241.356170\n",
      "1        856  81.857280   340.717360\n",
      "2        857  83.206170   265.910780\n",
      "3        858  83.243825   365.309900\n",
      "4        859  83.805555   316.583300\n",
      "5        860  83.671605   391.722355\n",
      "6        861  85.249995   416.939455\n",
      "7        862  84.026315   441.860715\n",
      "8        863  82.907895   467.722860\n",
      "9        864  82.421170   452.305555\n",
      "10       865  82.468095   492.856725\n",
      "11       866  83.071440   483.307565\n",
      "12       867  83.905565   468.522835\n",
      "13       868  83.644655   453.911390\n",
      "14       869  84.928570   494.700610\n"
     ]
    },
    {
     "name": "stderr",
     "output_type": "stream",
     "text": [
      "2it [00:05,  2.73s/it]\n",
      " 62%|██████▏   | 59/95 [55:12<06:41, 11.14s/it]"
     ]
    },
    {
     "name": "stdout",
     "output_type": "stream",
     "text": [
      "   Timestamp    fridge  dish washer\n",
      "0        870  40.27125      0.05000\n",
      "1        871  40.24625      0.05000\n",
      "2        872  40.22085      0.05000\n",
      "3        873  39.44585      0.75000\n",
      "4        874  39.79655      0.72500\n",
      "5        875  40.09655      0.65000\n",
      "6        876  40.04605      0.60000\n",
      "7        877  39.79605      0.57500\n",
      "8        878  39.92095      0.55000\n",
      "9        879  39.57095      0.52500\n",
      "10       880  39.37070      0.47500\n",
      "11       881  39.27070      0.45000\n",
      "12       882  39.60975      3.02175\n",
      "13       883  39.10885      3.67085\n",
      "14       884  40.05885      3.64585\n"
     ]
    },
    {
     "name": "stderr",
     "output_type": "stream",
     "text": [
      "2it [00:08,  4.15s/it]\n",
      " 63%|██████▎   | 60/95 [55:20<06:00, 10.31s/it]"
     ]
    },
    {
     "name": "stdout",
     "output_type": "stream",
     "text": [
      "   Timestamp      fridge  dish washer\n",
      "0       [885  167.215560   817.052630\n",
      "1        886  167.607955   802.572775\n",
      "2        887  170.059110   822.066085\n",
      "3        888  169.627505   798.675590\n",
      "4        889  169.365565   806.219565\n",
      "5        890  170.758605   809.550775\n",
      "6        891  171.065960   804.195960\n",
      "7        892  170.985565   795.695605\n",
      "8        893  173.156210   802.460990\n",
      "9        894  172.707555   792.755590\n",
      "10       895  174.225555   800.505615\n",
      "11       896  173.755615   789.760585\n",
      "12       897  175.110610   797.456165\n",
      "13       898  174.811225   788.676065\n",
      "14       899  176.061725   797.051820\n"
     ]
    },
    {
     "name": "stderr",
     "output_type": "stream",
     "text": [
      "2it [00:08,  4.12s/it]\n",
      " 64%|██████▍   | 61/95 [55:29<05:29,  9.69s/it]"
     ]
    },
    {
     "name": "stdout",
     "output_type": "stream",
     "text": [
      "   Timestamp  fridge  dish washer\n",
      "0       [900  73.970        0.000\n",
      "1        901  74.065        0.000\n",
      "2        902  74.365        0.000\n",
      "3        903  74.080        0.000\n",
      "4        904  73.745        0.000\n",
      "5        905  73.880        0.000\n",
      "6        906  73.750      122.935\n",
      "7        907  74.530       17.550\n",
      "8        908  74.275        0.000\n",
      "9        909  73.930       14.250\n",
      "10       910  73.740        0.000\n",
      "11       911  74.150        0.000\n",
      "12       912  73.820      126.610\n",
      "13       913  73.895        0.000\n",
      "14       914  73.975        0.000\n"
     ]
    },
    {
     "name": "stderr",
     "output_type": "stream",
     "text": [
      "2it [00:05,  2.59s/it]\n",
      " 65%|██████▌   | 62/95 [55:34<04:35,  8.34s/it]"
     ]
    },
    {
     "name": "stdout",
     "output_type": "stream",
     "text": [
      "   Timestamp    fridge  dish washer\n",
      "0       [915  70.10770     12.60925\n",
      "1        916  72.60805     11.44560\n",
      "2        917  70.10715     24.56595\n",
      "3        918  67.60610     18.59455\n",
      "4        919  67.60520     26.75565\n",
      "5        920  72.60430     22.82690\n",
      "6        921  70.10340     28.42135\n",
      "7        922  67.60255     19.18075\n",
      "8        923  72.60170     22.06725\n",
      "9        924  67.60085     21.17560\n",
      "10       925  67.60005     29.05935\n",
      "11       926  72.59920     19.59180\n",
      "12       927  72.59835     26.25105\n",
      "13       928  70.09750     15.60975\n",
      "14       929  72.59665     24.82710\n"
     ]
    },
    {
     "name": "stderr",
     "output_type": "stream",
     "text": [
      "2it [00:05,  2.56s/it]\n",
      " 66%|██████▋   | 63/95 [55:39<03:56,  7.38s/it]"
     ]
    },
    {
     "name": "stdout",
     "output_type": "stream",
     "text": [
      "   Timestamp     fridge  dish washer\n",
      "0       [930  15.684955    28.007560\n",
      "1        931  15.709010    24.785840\n",
      "2        932  15.735100    29.287405\n",
      "3        933  15.763160    26.013230\n",
      "4        934  15.794175    23.295115\n",
      "5        935  15.829235    27.800840\n",
      "6        936  15.867790    24.531325\n",
      "7        937  15.908850    21.820220\n",
      "8        938  15.952410    26.331910\n",
      "9        939  15.997970    22.567360\n",
      "10       940  16.046030    19.360280\n",
      "11       941  16.096090    23.379385\n",
      "12       942  16.147950    19.618300\n",
      "13       943  16.202615    16.411180\n",
      "14       944  16.259825    20.475335\n"
     ]
    },
    {
     "name": "stderr",
     "output_type": "stream",
     "text": [
      "2it [00:08,  4.12s/it]\n",
      " 67%|██████▋   | 64/95 [55:47<03:57,  7.65s/it]"
     ]
    },
    {
     "name": "stdout",
     "output_type": "stream",
     "text": [
      "   Timestamp     fridge  dish washer\n",
      "0        945  40.111725    24.567250\n",
      "1        946  40.711725    24.517250\n",
      "2        947  40.072715    25.361750\n",
      "3        948  40.789170    23.483550\n",
      "4        949  39.722835    26.000715\n",
      "5        950  40.183945    25.533655\n",
      "6        951  39.667250    26.572835\n",
      "7        952  40.328055    25.756170\n",
      "8        953  39.988265    27.050715\n",
      "9        954  41.045490    26.222835\n",
      "10       955  40.328390    26.906170\n",
      "11       956  40.822880    26.333945\n",
      "12       957  40.883945    27.767250\n",
      "13       958  40.995490    27.250715\n",
      "14       959  41.722835    27.672880\n"
     ]
    },
    {
     "name": "stderr",
     "output_type": "stream",
     "text": [
      "2it [00:22, 11.42s/it]\n",
      " 68%|██████▊   | 65/95 [56:10<06:06, 12.21s/it]"
     ]
    },
    {
     "name": "stdout",
     "output_type": "stream",
     "text": [
      "   Timestamp     fridge  dish washer\n",
      "0       [960  18.669650     2.656635\n",
      "1        961  18.658590     2.636975\n",
      "2        962  18.504635     2.509770\n",
      "3        963  18.611705     2.680660\n",
      "4        964  18.567000     2.658335\n",
      "5        965  18.449750     2.515550\n",
      "6        966  18.675695     2.682060\n",
      "7        967  18.470590     2.522135\n",
      "8        968  18.620695     2.697235\n",
      "9        969  18.511665     2.524760\n",
      "10       970  18.688705     2.721925\n",
      "11       971  18.515555     2.530775\n",
      "12       972  18.697000     2.740615\n",
      "13       973  18.527500     2.536685\n",
      "14       974  18.724995     2.758415\n"
     ]
    },
    {
     "name": "stderr",
     "output_type": "stream",
     "text": []
    },
    {
     "name": "stdout",
     "output_type": "stream",
     "text": [
      "API key limit reached Error code: 429 - {'error': {'message': 'Rate limit reached for model `llama3-8b-8192` in organization `org_01hzptswaffbsrqr210cddb30c` on requests per minute (RPM): Limit 30, Used 30, Requested 1. Please try again in 1.942s. Visit https://console.groq.com/docs/rate-limits for more information.', 'type': 'requests', 'code': 'rate_limit_exceeded'}}\n"
     ]
    },
    {
     "name": "stderr",
     "output_type": "stream",
     "text": [
      "2it [00:08,  4.33s/it]\n",
      " 69%|██████▉   | 66/95 [56:19<05:23, 11.16s/it]"
     ]
    },
    {
     "name": "stdout",
     "output_type": "stream",
     "text": [
      "   Timestamp     fridge  dish washer\n",
      "0        975  27.242335   162.257665\n",
      "1        976  27.270665   161.779000\n",
      "2        977  27.306225   161.243775\n",
      "3        978  27.340910   160.709090\n",
      "4        979  27.374960   160.175040\n",
      "5        980  27.408160   159.635840\n",
      "6        981  27.390460   159.109540\n",
      "7        982  27.422160   158.577840\n",
      "8        983  27.503760   158.046240\n",
      "9        984  27.534860   157.515140\n",
      "10       985  27.565910   157.484090\n",
      "11       986  27.596960   156.953040\n",
      "12       987  27.627960   156.422400\n",
      "13       988  27.658560   155.891440\n",
      "14       989  27.689160   155.360840\n"
     ]
    },
    {
     "name": "stderr",
     "output_type": "stream",
     "text": [
      "2it [00:05,  2.95s/it]\n",
      " 71%|███████   | 67/95 [56:25<04:28,  9.59s/it]"
     ]
    },
    {
     "name": "stdout",
     "output_type": "stream",
     "text": [
      "   Timestamp  fridge  dish washer\n",
      "0        990  12.125         0.40\n",
      "1        991  12.675         0.45\n",
      "2        992  12.075         0.35\n",
      "3        993  12.725         0.55\n",
      "4        994  12.175         0.50\n",
      "5        995  12.625         0.60\n",
      "6        996  12.275         0.70\n",
      "7        997  12.775         0.65\n",
      "8        998  12.325         0.75\n",
      "9        999  12.925         0.80\n",
      "10      1000  12.475         0.85\n",
      "11      1001  13.100         3.65\n",
      "12      1002  12.550         2.20\n",
      "13      1003  13.250         2.25\n",
      "14      1004  12.700         1.80\n"
     ]
    },
    {
     "name": "stderr",
     "output_type": "stream",
     "text": [
      "2it [00:05,  2.58s/it]\n",
      " 72%|███████▏  | 68/95 [56:30<03:43,  8.28s/it]"
     ]
    },
    {
     "name": "stdout",
     "output_type": "stream",
     "text": [
      "   Timestamp     fridge  dish washer\n",
      "0       1005  115.91665   156.095666\n",
      "1       1006  114.56515   157.775300\n",
      "2       1007  114.84760   157.092500\n",
      "3       1008  113.79760   157.775300\n",
      "4       1009  113.29760   156.830100\n",
      "5       1010  112.90000   157.092500\n",
      "6       1011  111.54760   157.092500\n",
      "7       1012  107.79760   156.872950\n",
      "8       1013  105.31525   156.827550\n",
      "9       1014  103.86525   156.225000\n",
      "10      1015  102.81525   155.727600\n",
      "11      1016  101.91525   155.654900\n",
      "12      1017  100.91525   155.177100\n",
      "13      1018  100.21525   155.177100\n",
      "14      1019   99.31525   154.695000\n"
     ]
    },
    {
     "name": "stderr",
     "output_type": "stream",
     "text": [
      "2it [00:05,  2.91s/it]\n",
      " 73%|███████▎  | 69/95 [56:36<03:16,  7.55s/it]"
     ]
    },
    {
     "name": "stdout",
     "output_type": "stream",
     "text": [
      "   Timestamp  fridge  dish washer\n",
      "0       1020   57.50        50.00\n",
      "1       1021   56.95        25.50\n",
      "2       1022   56.00        50.00\n",
      "3       1023   55.55        25.00\n",
      "4       1024   57.25        51.00\n",
      "5       1025   57.60        25.00\n",
      "6       1026   58.50        50.50\n",
      "7       1027   58.65        25.00\n",
      "8       1028   57.00        50.75\n",
      "9       1029   56.95        25.00\n",
      "10      1030   56.50        50.75\n",
      "11      1031   56.50        25.00\n",
      "12      1032   58.25        50.75\n",
      "13      1033   55.80        25.00\n",
      "14      1034   57.75        50.25\n"
     ]
    },
    {
     "name": "stderr",
     "output_type": "stream",
     "text": [
      "2it [00:04,  2.49s/it]\n",
      " 74%|███████▎  | 70/95 [56:41<02:49,  6.79s/it]"
     ]
    },
    {
     "name": "stdout",
     "output_type": "stream",
     "text": [
      "   Timestamp     fridge  dish washer\n",
      "0      [1035  557.10460   1241.90095\n",
      "1       1036  133.27990    182.44855\n",
      "2       1037  119.24830   1181.24720\n",
      "3       1038  113.26355   1183.76585\n",
      "4       1039  124.93560   1173.72265\n",
      "5       1040  113.62625   1202.66290\n",
      "6       1041  103.51455   1188.14255\n",
      "7       1042  112.80300   1181.24135\n",
      "8       1043  107.95045   1176.76455\n",
      "9       1044  103.07960   1176.74010\n",
      "10      1045  107.76930   1181.72770\n",
      "11      1046  104.58785   1171.58545\n",
      "12      1047  102.43415   1181.95805\n",
      "13      1048  100.85920   1175.22215\n",
      "14      1049   99.18730   1177.92820\n"
     ]
    },
    {
     "name": "stderr",
     "output_type": "stream",
     "text": [
      "2it [00:05,  2.63s/it]\n",
      " 75%|███████▍  | 71/95 [56:46<02:32,  6.34s/it]"
     ]
    },
    {
     "name": "stdout",
     "output_type": "stream",
     "text": [
      "   Timestamp  fridge  dish washer\n",
      "0      [1050    7.77       23.860\n",
      "1       1051    7.78       24.155\n",
      "2       1052    7.84       24.375\n",
      "3       1053    7.75       24.295\n",
      "4       1054    7.81       24.515\n",
      "5       1055    7.87       24.685\n",
      "6       1056    7.78       24.655\n",
      "7       1057    7.84       24.875\n",
      "8       1058    7.90       25.095\n",
      "9       1059    7.81       25.015\n",
      "10      1060    7.87       25.235\n",
      "11      1061    7.93       25.405\n",
      "12      1062    7.84       25.375\n",
      "13      1063    7.90       25.595\n",
      "14      1064    7.96       25.815\n"
     ]
    },
    {
     "name": "stderr",
     "output_type": "stream",
     "text": [
      "2it [00:05,  2.62s/it]\n",
      " 76%|███████▌  | 72/95 [56:51<02:18,  6.02s/it]"
     ]
    },
    {
     "name": "stdout",
     "output_type": "stream",
     "text": [
      "   Timestamp      fridge  dish washer\n",
      "0       1065  129.462425    241.41605\n",
      "1       1066  129.389200    244.00600\n",
      "2       1067  128.711050    242.61125\n",
      "3       1068  128.137950    242.06250\n",
      "4       1069  127.714750    241.75625\n",
      "5       1070  127.141450    241.63975\n",
      "6       1071  126.568150    241.67000\n",
      "7       1072  125.945900    241.15080\n",
      "8       1073  125.423550    241.13150\n",
      "9       1074  124.851500    241.11230\n",
      "10      1075  124.379400    241.04310\n",
      "11      1076  123.807100    240.97430\n",
      "12      1077  123.235300    240.65550\n",
      "13      1078  122.713550    240.63670\n",
      "14      1079  122.141800    240.56840\n"
     ]
    },
    {
     "name": "stderr",
     "output_type": "stream",
     "text": [
      "2it [00:05,  2.55s/it]\n",
      " 77%|███████▋  | 73/95 [56:57<02:06,  5.76s/it]"
     ]
    },
    {
     "name": "stdout",
     "output_type": "stream",
     "text": [
      "   Timestamp  fridge  dish washer\n",
      "0      [1080   20.75       105.25\n",
      "1       1081   21.25       104.75\n",
      "2       1082   20.25       106.25\n",
      "3       1083   20.75       105.00\n",
      "4       1084   21.25       105.25\n",
      "5       1085   20.75       104.75\n",
      "6       1086   20.75       105.00\n",
      "7       1087   20.25       105.00\n",
      "8       1088   20.75       104.00\n",
      "9       1089   21.25       104.25\n",
      "10      1090   20.75       103.75\n",
      "11      1091   20.75       104.00\n",
      "12      1092   20.25       104.25\n",
      "13      1093   20.75       103.25\n",
      "14      1094   21.25       103.00\n"
     ]
    },
    {
     "name": "stderr",
     "output_type": "stream",
     "text": [
      "2it [00:05,  2.58s/it]\n",
      " 78%|███████▊  | 74/95 [57:02<01:57,  5.59s/it]"
     ]
    },
    {
     "name": "stdout",
     "output_type": "stream",
     "text": [
      "   Timestamp   fridge  dish washer\n",
      "0      [1095  1.25050         0.75\n",
      "1       1096  1.25050         0.30\n",
      "2       1097  1.25050         0.30\n",
      "3       1098  1.25075         0.35\n",
      "4       1099  1.25100         0.35\n",
      "5       1100  1.25100         0.50\n",
      "6       1101  1.25100         1.00\n",
      "7       1102  1.25100         0.90\n",
      "8       1103  1.25050         0.85\n",
      "9       1104  1.25050         1.00\n",
      "10      1105  1.25050         0.95\n",
      "11      1106  1.25100         0.95\n",
      "12      1107  1.25100         1.10\n",
      "13      1108  1.25050         1.00\n",
      "14      1109  1.25050         1.25\n"
     ]
    },
    {
     "name": "stderr",
     "output_type": "stream",
     "text": [
      "2it [00:05,  2.60s/it]\n",
      " 79%|███████▉  | 75/95 [57:07<01:49,  5.48s/it]"
     ]
    },
    {
     "name": "stdout",
     "output_type": "stream",
     "text": [
      "   Timestamp  fridge  dish washer\n",
      "0       1110  13.625        10.25\n",
      "1       1111  13.500        10.30\n",
      "2       1112  13.700        10.40\n",
      "3       1113  13.650        10.20\n",
      "4       1114  13.550        10.35\n",
      "5       1115  13.700        10.25\n",
      "6       1116  13.600        10.30\n",
      "7       1117  13.650        10.20\n",
      "8       1118  13.700        10.35\n",
      "9       1119  13.600        10.25\n",
      "10      1120  13.800        10.40\n",
      "11      1121  13.700        10.30\n",
      "12      1122  13.800        10.20\n",
      "13      1123  13.650        10.35\n",
      "14      1124  13.700        10.25\n"
     ]
    },
    {
     "name": "stderr",
     "output_type": "stream",
     "text": []
    },
    {
     "name": "stdout",
     "output_type": "stream",
     "text": [
      "API key limit reached Error code: 429 - {'error': {'message': 'Rate limit reached for model `llama3-8b-8192` in organization `org_01hzptswaffbsrqr210cddb30c` on requests per minute (RPM): Limit 30, Used 30, Requested 1. Please try again in 1.933s. Visit https://console.groq.com/docs/rate-limits for more information.', 'type': 'requests', 'code': 'rate_limit_exceeded'}}\n"
     ]
    },
    {
     "name": "stderr",
     "output_type": "stream",
     "text": [
      "2it [00:16,  8.25s/it]\n",
      " 80%|████████  | 76/95 [57:24<02:47,  8.79s/it]"
     ]
    },
    {
     "name": "stdout",
     "output_type": "stream",
     "text": [
      "   Timestamp    fridge  dish washer\n",
      "0      [1125  38.97805      74.7435\n",
      "1       1126  38.99455      74.7825\n",
      "2       1127  38.96335      74.7965\n",
      "3       1128  38.97725      74.8125\n",
      "4       1129  38.98620      74.7975\n",
      "5       1130  38.99220      74.8125\n",
      "6       1131  38.97405      74.7970\n",
      "7       1132  39.07905      75.0980\n",
      "8       1133  39.08535      75.2025\n",
      "9       1134  38.88515      74.9505\n",
      "10      1135  38.88630      74.9515\n",
      "11      1136  39.79005      77.0545\n",
      "12      1137  39.88670      77.6030\n",
      "13      1138  39.14020      75.1065\n",
      "14      1139  39.13740      75.1055\n"
     ]
    },
    {
     "name": "stderr",
     "output_type": "stream",
     "text": [
      "2it [00:05,  2.57s/it]\n",
      " 81%|████████  | 77/95 [57:29<02:18,  7.70s/it]"
     ]
    },
    {
     "name": "stdout",
     "output_type": "stream",
     "text": [
      "   Timestamp  fridge  dish washer\n",
      "0      [1140   1.165       27.445\n",
      "1       1141   1.160       27.575\n",
      "2       1142   1.055       27.655\n",
      "3       1143   1.000       27.295\n",
      "4       1144   1.095       27.415\n",
      "5       1145   1.040       27.570\n",
      "6       1146   0.985       27.710\n",
      "7       1147   1.030       39.015\n",
      "8       1148   1.125       42.625\n",
      "9       1149   1.020       39.985\n",
      "10      1150   0.965       37.155\n",
      "11      1151   0.910       40.165\n",
      "12      1152   0.855       38.640\n",
      "13      1153   0.800       41.225\n",
      "14      1154   0.745       42.855\n"
     ]
    },
    {
     "name": "stderr",
     "output_type": "stream",
     "text": [
      "2it [00:05,  2.60s/it]\n",
      " 82%|████████▏ | 78/95 [57:34<01:58,  6.97s/it]"
     ]
    },
    {
     "name": "stdout",
     "output_type": "stream",
     "text": [
      "   Timestamp  fridge  dish washer\n",
      "0       1155    0.75         0.75\n",
      "1       1156    0.75         1.25\n",
      "2       1157    0.75         1.25\n",
      "3       1158    0.75         0.75\n",
      "4       1159    0.75         0.75\n",
      "5       1160    0.80         1.40\n",
      "6       1161    0.80         0.90\n",
      "7       1162    0.80         0.90\n",
      "8       1163    0.80         1.40\n",
      "9       1164    0.80         0.90\n",
      "10      1165    0.80         0.90\n",
      "11      1166    0.75         1.25\n",
      "12      1167    0.75         0.75\n",
      "13      1168    0.75         0.75\n",
      "14      1169    0.75         1.25\n"
     ]
    },
    {
     "name": "stderr",
     "output_type": "stream",
     "text": [
      "2it [00:05,  2.59s/it]\n",
      " 83%|████████▎ | 79/95 [57:39<01:43,  6.44s/it]"
     ]
    },
    {
     "name": "stdout",
     "output_type": "stream",
     "text": [
      "   Timestamp  fridge  dish washer\n",
      "0      [1170  37.920      136.990\n",
      "1       1171  37.775      137.215\n",
      "2       1172  37.680      137.325\n",
      "3       1173  37.965      137.105\n",
      "4       1174  37.875      137.235\n",
      "5       1175  38.080      137.440\n",
      "6       1176  38.170      137.565\n",
      "7       1177  38.275      137.630\n",
      "8       1178  38.365      137.845\n",
      "9       1179  38.080      137.950\n",
      "10      1180  37.970      138.060\n",
      "11      1181  38.125      138.180\n",
      "12      1182  38.180      138.270\n",
      "13      1183  38.070      138.385\n",
      "14      1184  38.175      138.475\n"
     ]
    },
    {
     "name": "stderr",
     "output_type": "stream",
     "text": [
      "2it [00:14,  7.03s/it]\n",
      " 84%|████████▍ | 80/95 [57:53<02:11,  8.74s/it]"
     ]
    },
    {
     "name": "stdout",
     "output_type": "stream",
     "text": [
      "   Timestamp     fridge  dish washer\n",
      "0       1185  122.45445     43.16855\n",
      "1       1186  122.61655     47.24060\n",
      "2       1187  122.39560     46.52280\n",
      "3       1188  121.86085     45.19040\n",
      "4       1189  121.31115     44.04770\n",
      "5       1190  120.71625     42.76135\n",
      "6       1191  120.12680     41.49245\n",
      "7       1192  119.58820     40.78660\n",
      "8       1193  119.05075     39.60985\n",
      "9       1194  119.06480     38.87255\n",
      "10      1195  118.43235     37.63315\n",
      "11      1196  117.92705     36.45775\n",
      "12      1197  117.43075     35.78590\n",
      "13      1198  117.10135     35.13245\n",
      "14      1199  116.82190     34.44150\n"
     ]
    },
    {
     "name": "stderr",
     "output_type": "stream",
     "text": [
      "2it [00:05,  2.71s/it]\n",
      " 85%|████████▌ | 81/95 [57:59<01:48,  7.75s/it]"
     ]
    },
    {
     "name": "stdout",
     "output_type": "stream",
     "text": [
      "   Timestamp  fridge  dish washer\n",
      "0      [1200    1.15        12.90\n",
      "1       1201    1.15        13.05\n",
      "2       1202    1.10        12.95\n",
      "3       1203    1.15        12.80\n",
      "4       1204    1.10        13.35\n",
      "5       1205    1.15        13.55\n",
      "6       1206    1.15        13.30\n",
      "7       1207    1.10        13.25\n",
      "8       1208    1.15        13.95\n",
      "9       1209    1.15        14.00\n",
      "10      1210    1.15        13.90\n",
      "11      1211    1.15        13.85\n",
      "12      1212    1.15        13.95\n",
      "13      1213    1.15        13.95\n",
      "14      1214    1.15        12.90\n"
     ]
    },
    {
     "name": "stderr",
     "output_type": "stream",
     "text": [
      "2it [00:07,  3.99s/it]\n",
      " 86%|████████▋ | 82/95 [58:07<01:41,  7.84s/it]"
     ]
    },
    {
     "name": "stdout",
     "output_type": "stream",
     "text": [
      "   Timestamp  fridge  dish washer\n",
      "0      [1215   1.500         7.35\n",
      "1       1216   1.425         7.55\n",
      "2       1217   1.400         7.55\n",
      "3       1218   1.325         7.20\n",
      "4       1219   1.375         7.70\n",
      "5       1220   1.350         7.20\n",
      "6       1221   1.275         7.40\n",
      "7       1222   1.475         7.40\n",
      "8       1223   1.450         7.70\n",
      "9       1224   1.350         7.40\n",
      "10      1225   1.275         7.50\n",
      "11      1226   1.400         7.35\n",
      "12      1227   1.325         7.50\n",
      "13      1228   1.325         7.05\n",
      "14      1229   1.450         7.80\n"
     ]
    },
    {
     "name": "stderr",
     "output_type": "stream",
     "text": [
      "2it [00:13,  6.73s/it]\n",
      " 87%|████████▋ | 83/95 [58:20<01:54,  9.53s/it]"
     ]
    },
    {
     "name": "stdout",
     "output_type": "stream",
     "text": [
      "   Timestamp     fridge  dish washer\n",
      "0      [1230  48.987000      35.0000\n",
      "1       1231  48.851785      44.2230\n",
      "2       1232  49.869997      22.8290\n",
      "3       1233  49.418000      15.7220\n",
      "4       1234  48.897000      43.1280\n",
      "5       1235  49.062670      30.1590\n",
      "6       1236  49.931335      16.0805\n",
      "7       1237  49.538335      46.1705\n",
      "8       1238  48.935002      22.9120\n",
      "9       1239  48.803570      37.1965\n",
      "10      1240  49.884000      27.5060\n",
      "11      1241  49.953000      30.4205\n",
      "12      1242  49.368000      17.1245\n",
      "13      1243  49.443000      41.3000\n",
      "14      1244  50.587000      35.2225\n"
     ]
    },
    {
     "name": "stderr",
     "output_type": "stream",
     "text": []
    },
    {
     "name": "stdout",
     "output_type": "stream",
     "text": [
      "API key limit reached Error code: 429 - {'error': {'message': 'Rate limit reached for model `llama3-8b-8192` in organization `org_01hzptswaffbsrqr210cddb30c` on requests per minute (RPM): Limit 30, Used 30, Requested 1. Please try again in 1.708s. Visit https://console.groq.com/docs/rate-limits for more information.', 'type': 'requests', 'code': 'rate_limit_exceeded'}}\n",
      "API key limit reached Error code: 429 - {'error': {'message': 'Rate limit reached for model `llama3-8b-8192` in organization `org_01hzptswaffbsrqr210cddb30c` on requests per minute (RPM): Limit 30, Used 30, Requested 1. Please try again in 1.974s. Visit https://console.groq.com/docs/rate-limits for more information.', 'type': 'requests', 'code': 'rate_limit_exceeded'}}\n"
     ]
    },
    {
     "name": "stderr",
     "output_type": "stream",
     "text": [
      "2it [00:16,  8.36s/it]\n",
      " 88%|████████▊ | 84/95 [58:37<02:08, 11.71s/it]"
     ]
    },
    {
     "name": "stdout",
     "output_type": "stream",
     "text": [
      "   Timestamp  fridge  dish washer\n",
      "0      [1245  10.670       47.615\n",
      "1       1246  10.625       47.525\n",
      "2       1247  10.730       47.685\n",
      "3       1248  10.585       47.445\n",
      "4       1249  10.790       47.805\n",
      "5       1250  10.545       47.365\n",
      "6       1251  10.850       47.925\n",
      "7       1252  10.505       47.285\n",
      "8       1253  10.910       48.045\n",
      "9       1254  10.465       47.205\n",
      "10      1255  10.970       48.165\n",
      "11      1256  10.425       47.125\n",
      "12      1257  11.030       48.285\n",
      "13      1258  10.385       47.045\n",
      "14      1259  11.090       48.405\n"
     ]
    },
    {
     "name": "stderr",
     "output_type": "stream",
     "text": [
      "2it [00:05,  2.57s/it]\n",
      " 89%|████████▉ | 85/95 [58:42<01:37,  9.75s/it]"
     ]
    },
    {
     "name": "stdout",
     "output_type": "stream",
     "text": [
      "   Timestamp  fridge  dish washer\n",
      "0       1260    0.06         2.50\n",
      "1       1261    0.06         2.50\n",
      "2       1262    0.06         2.50\n",
      "3       1263    0.06         2.65\n",
      "4       1264    0.06         2.65\n",
      "5       1265    0.06         2.50\n",
      "6       1266    0.06         2.50\n",
      "7       1267    0.06         2.65\n",
      "8       1268    0.06         2.65\n",
      "9       1269    0.06         2.50\n",
      "10      1270    0.06         2.50\n",
      "11      1271    0.06         2.50\n",
      "12      1272    0.06         2.50\n",
      "13      1273    0.06         2.50\n",
      "14      1274    0.06         2.50\n"
     ]
    },
    {
     "name": "stderr",
     "output_type": "stream",
     "text": [
      "2it [00:02,  1.47s/it]\n",
      " 91%|█████████ | 86/95 [58:45<01:09,  7.72s/it]"
     ]
    },
    {
     "name": "stdout",
     "output_type": "stream",
     "text": [
      "   Timestamp  fridge  dish washer\n",
      "0       1275   18.50        22.30\n",
      "1       1276   18.05        21.70\n",
      "2       1277   17.95        21.10\n",
      "3       1278   17.85        20.70\n",
      "4       1279   17.70        20.30\n",
      "5       1280   18.35        22.55\n",
      "6       1281   18.10        21.75\n",
      "7       1282   17.90        21.05\n",
      "8       1283   17.80        20.55\n",
      "9       1284   18.15        22.40\n",
      "10      1285   12.80       166.35\n",
      "11      1286   12.70        21.05\n",
      "12      1287   12.55        20.25\n",
      "13      1288   13.05        23.35\n",
      "14      1289   12.95        22.40\n"
     ]
    },
    {
     "name": "stderr",
     "output_type": "stream",
     "text": [
      "2it [00:10,  5.15s/it]\n",
      " 92%|█████████▏| 87/95 [58:56<01:08,  8.50s/it]"
     ]
    },
    {
     "name": "stdout",
     "output_type": "stream",
     "text": [
      "   Timestamp      fridge  dish washer\n",
      "0       1290  265.677175   120.606225\n",
      "1       1291  265.171850   126.722225\n",
      "2       1292  264.566950   132.611225\n",
      "3       1293  264.172200   138.555725\n",
      "4       1294  263.783000   144.722225\n",
      "5       1295  263.404700   149.055725\n",
      "6       1296  263.047200   155.111225\n",
      "7       1297  262.699700   161.222225\n",
      "8       1298  262.357200   166.611225\n",
      "9       1299  262.015700   172.555725\n",
      "10      1300  261.677200   178.222225\n",
      "11      1301  261.341700   183.611225\n",
      "12      1302  261.009200   189.055725\n",
      "13      1303  260.679700   194.722225\n",
      "14      1304  260.348200   200.111225\n"
     ]
    },
    {
     "name": "stderr",
     "output_type": "stream",
     "text": [
      "2it [00:05,  2.57s/it]\n",
      " 93%|█████████▎| 88/95 [59:01<00:52,  7.51s/it]"
     ]
    },
    {
     "name": "stdout",
     "output_type": "stream",
     "text": [
      "   Timestamp     fridge  dish washer\n",
      "0       1305  11.411725     95.16165\n",
      "1       1306  11.316617     90.61605\n",
      "2       1307  11.370617     89.26170\n",
      "3       1308  11.393835     91.01170\n",
      "4       1309  11.560617     91.71170\n",
      "5       1310  11.452673     91.11605\n",
      "6       1311  11.356170     92.16170\n",
      "7       1312  11.247835     93.46170\n",
      "8       1313  11.306725     91.41605\n",
      "9       1314  11.392835     94.01170\n",
      "10      1315  11.557670     91.76170\n",
      "11      1316  11.447835     95.11605\n",
      "12      1317  11.354225     93.11170\n",
      "13      1318  11.241670     96.46170\n",
      "14      1319  11.305670     93.41605\n"
     ]
    },
    {
     "name": "stderr",
     "output_type": "stream",
     "text": [
      "2it [00:05,  2.68s/it]\n",
      " 94%|█████████▎| 89/95 [59:06<00:41,  6.87s/it]"
     ]
    },
    {
     "name": "stdout",
     "output_type": "stream",
     "text": [
      "   Timestamp     fridge  dish washer\n",
      "0      [1320  93.983075    32.562565\n",
      "1       1321  95.134135    24.550855\n",
      "2       1322  94.324185    29.786720\n",
      "3       1323  95.445845    29.594285\n",
      "4       1324  94.772225    27.845900\n",
      "5       1325  94.982345    30.195515\n",
      "6       1326  96.432270    27.808305\n",
      "7       1327  95.778045    31.072040\n",
      "8       1328  96.603970    29.633930\n",
      "9       1329  96.027755    29.350225\n",
      "10      1330  97.386290    28.460325\n",
      "11      1331  96.500370    29.762610\n",
      "12      1332  97.553405    29.570195\n",
      "13      1333  96.224140    29.325765\n",
      "14      1334  97.667570    28.629425\n"
     ]
    },
    {
     "name": "stderr",
     "output_type": "stream",
     "text": [
      "2it [00:05,  2.59s/it]\n",
      " 95%|█████████▍| 90/95 [59:11<00:31,  6.37s/it]"
     ]
    },
    {
     "name": "stdout",
     "output_type": "stream",
     "text": [
      "   Timestamp  fridge  dish washer\n",
      "0      [1335   7.165       54.260\n",
      "1       1336   7.225       55.190\n",
      "2       1337   7.290       54.615\n",
      "3       1338   7.350       55.035\n",
      "4       1339   7.410       55.455\n",
      "5       1340   7.475       54.875\n",
      "6       1341   7.540       54.290\n",
      "7       1342   7.600       54.695\n",
      "8       1343   7.665       55.010\n",
      "9       1344   8.930       56.535\n",
      "10      1345   7.795       54.425\n",
      "11      1346   7.860       54.815\n",
      "12      1347   7.925       55.225\n",
      "13      1348   7.990       54.720\n",
      "14      1349   8.755       55.875\n"
     ]
    },
    {
     "name": "stderr",
     "output_type": "stream",
     "text": [
      "2it [00:05,  2.58s/it]\n",
      " 96%|█████████▌| 91/95 [59:16<00:24,  6.01s/it]"
     ]
    },
    {
     "name": "stdout",
     "output_type": "stream",
     "text": [
      "   Timestamp  fridge  dish washer\n",
      "0       1350   2.275         0.05\n",
      "1       1351   2.175         0.05\n",
      "2       1352   2.125         0.05\n",
      "3       1353   2.075         0.05\n",
      "4       1354   2.125         0.05\n",
      "5       1355   2.275         0.05\n",
      "6       1356   4.600         0.05\n",
      "7       1357   4.800         0.05\n",
      "8       1358   4.600         0.05\n",
      "9       1359   4.700         0.05\n",
      "10      1360   2.125         0.05\n",
      "11      1361   2.275         0.05\n",
      "12      1362   2.125         0.05\n",
      "13      1363   2.375         0.05\n",
      "14      1364   4.600         2.55\n"
     ]
    },
    {
     "name": "stderr",
     "output_type": "stream",
     "text": [
      "2it [00:05,  2.83s/it]\n",
      " 97%|█████████▋| 92/95 [59:22<00:17,  5.92s/it]"
     ]
    },
    {
     "name": "stdout",
     "output_type": "stream",
     "text": [
      "   Timestamp     fridge  dish washer\n",
      "0       1365  18.166725    117.44750\n",
      "1       1366  18.256725    117.43225\n",
      "2       1367  18.352750    117.22500\n",
      "3       1368  18.498850    117.56390\n",
      "4       1369  18.594950    117.69780\n",
      "5       1370  18.691100    117.44230\n",
      "6       1371  18.837200    117.39780\n",
      "7       1372  18.938350    117.53890\n",
      "8       1373  19.029450    117.36225\n",
      "9       1374  19.175550    117.63890\n",
      "10      1375  19.266650    117.73780\n",
      "11      1376  19.367800    117.50230\n",
      "12      1377  19.513900    117.65390\n",
      "13      1378  19.609950    117.45225\n",
      "14      1379  19.741100    117.71390\n"
     ]
    },
    {
     "name": "stderr",
     "output_type": "stream",
     "text": [
      "2it [00:07,  3.53s/it]\n",
      " 98%|█████████▊| 93/95 [59:29<00:12,  6.27s/it]"
     ]
    },
    {
     "name": "stdout",
     "output_type": "stream",
     "text": [
      "   Timestamp     fridge  dish washer\n",
      "0      [1380  35.111725     200.4560\n",
      "1       1381  36.217000     198.5995\n",
      "2       1382  34.572835     197.4615\n",
      "3       1383  36.428000     193.6460\n",
      "4       1384  35.733900     203.4435\n",
      "5       1385  36.089450     204.3060\n",
      "6       1386  35.795050     204.4165\n",
      "7       1387  35.655600     202.2295\n",
      "8       1388  35.867250     204.8895\n",
      "9       1389  35.772800     205.7955\n",
      "10      1390  35.833900     210.2560\n",
      "11      1391  36.194550     204.0715\n",
      "12      1392  35.655100     206.0265\n",
      "13      1393  36.416150     208.7825\n",
      "14      1394  37.026700     211.8930\n"
     ]
    },
    {
     "name": "stderr",
     "output_type": "stream",
     "text": []
    },
    {
     "name": "stdout",
     "output_type": "stream",
     "text": [
      "API key limit reached Error code: 429 - {'error': {'message': 'Rate limit reached for model `llama3-8b-8192` in organization `org_01hzptswaffbsrqr210cddb30c` on requests per minute (RPM): Limit 30, Used 30, Requested 1. Please try again in 1.785s. Visit https://console.groq.com/docs/rate-limits for more information.', 'type': 'requests', 'code': 'rate_limit_exceeded'}}\n"
     ]
    },
    {
     "name": "stderr",
     "output_type": "stream",
     "text": [
      "2it [00:13,  6.94s/it]\n",
      " 99%|█████████▉| 94/95 [59:43<00:08,  8.57s/it]"
     ]
    },
    {
     "name": "stdout",
     "output_type": "stream",
     "text": [
      "   Timestamp  fridge  dish washer\n",
      "0      [1395  212.20        25.35\n",
      "1       1396   26.75        25.55\n",
      "2       1397   26.80        25.40\n",
      "3       1398   26.85        25.20\n",
      "4       1399   26.90        25.65\n",
      "5       1400   86.95       535.30\n",
      "6       1401   26.55        25.75\n",
      "7       1402   26.60        25.45\n",
      "8       1403   26.65        25.60\n",
      "9       1404   26.70        25.50\n",
      "10      1405   26.75        25.35\n",
      "11      1406  161.80      1275.25\n",
      "12      1407   26.85        25.85\n",
      "13      1408   26.90        25.70\n",
      "14      1409   26.95        25.40\n"
     ]
    },
    {
     "name": "stderr",
     "output_type": "stream",
     "text": [
      "2it [00:05,  2.63s/it]\n",
      "100%|██████████| 95/95 [59:48<00:00, 37.78s/it]"
     ]
    },
    {
     "name": "stdout",
     "output_type": "stream",
     "text": [
      "   Timestamp     fridge  dish washer\n",
      "0      [1410  552.62320   2973.27670\n",
      "1       1411  563.00755   2873.22140\n",
      "2       1412  567.73430   2923.00475\n",
      "3       1413  572.96695   2973.28805\n",
      "4       1414  582.70660   3023.16295\n",
      "5       1415  592.95665   3073.03710\n",
      "6       1416  602.72680   3122.96420\n",
      "7       1417  558.01195   3172.94805\n",
      "8       1418  567.64710   3223.11325\n",
      "9       1419  577.72695   3273.18335\n",
      "10      1420  587.98710   3323.23415\n",
      "11      1421  597.74725   3373.28505\n",
      "12      1422  607.65735   3423.33995\n",
      "13      1423  617.57245   3473.39990\n",
      "14      1424  627.81255   3522.96085\n"
     ]
    },
    {
     "name": "stderr",
     "output_type": "stream",
     "text": [
      "\n"
     ]
    }
   ],
   "source": [
    "combinationstorun=[[0,15]]\n",
    "model = 'llama3-70b-8192'\n",
    "pred_df_list = []\n",
    "# Run the loop\n",
    "for start_idx, chunksize in combinationstorun:\n",
    "    for start in tqdm(range(0, len(result_df) - (start_idx + chunksize), 15)):\n",
    "        current_chunk = result_df.iloc[start:start+start_idx+chunksize]\n",
    "        input_string = current_chunk[['timestamp', 'total_power']].to_csv(index=False, header=False)\n",
    "        input_string = input_string.replace(\" \", \"\").replace('\\n', ',').replace(',', ' , ')\n",
    "        answer = promptgroq(input_string, start + start_idx, chunksize, model, num_samples=2)\n",
    "        predictions = answer['app_predictions']\n",
    "        timestamps = answer['timestamps']\n",
    "        predicted_df = pd.DataFrame({'Timestamp': timestamps})\n",
    "        for appliance, predictions in predictions.items():\n",
    "            predicted_df[appliance] = predictions\n",
    "        print(predicted_df)\n",
    "        pred_df_list.append(predicted_df)"
   ]
  },
  {
   "cell_type": "code",
   "execution_count": 27,
   "metadata": {},
   "outputs": [],
   "source": [
    "\n",
    "# Function to plot results and calculate MSE\n",
    "def plot_results(real_values, predicted_values, app_name):\n",
    "    \n",
    "    min_length = min(len(real_values), len(predicted_values))\n",
    "    real_values = real_values[:min_length]\n",
    "    predicted_values = predicted_values[:min_length]\n",
    "\n",
    "    mask = ~np.isnan(real_values) & ~np.isnan(predicted_values)\n",
    "    real_values = real_values[mask]\n",
    "    predicted_values = predicted_values[mask]\n",
    "\n",
    "    mse = mean_squared_error(real_values, predicted_values)\n",
    "    print(f\"MSE Loss: {mse}\")\n",
    "\n",
    "    # Plotting the results\n",
    "    plt.figure(figsize=(10, 6))\n",
    "    plt.plot(real_values, label=f\"Real {app_name} Power\")\n",
    "    plt.plot(predicted_values, label=f\"Predicted {app_name} Power\")\n",
    "    plt.xlabel('Index')\n",
    "    plt.ylabel(f\"{app_name} Power\")\n",
    "    plt.title(f\"Real vs Predicted  {app_name} Power\")\n",
    "    plt.legend()\n",
    "    plt.grid(True)\n",
    "    plt.show()"
   ]
  },
  {
   "cell_type": "code",
   "execution_count": 28,
   "metadata": {},
   "outputs": [
    {
     "name": "stdout",
     "output_type": "stream",
     "text": [
      "1440\n",
      "PREDICTED 1425\n",
      "PREDICTED 1425\n",
      "MSE Loss: 28193.496299648705\n"
     ]
    },
    {
     "data": {
      "image/png": "[encoded data removed]",
      "text/plain": [
       "<Figure size 1000x600 with 1 Axes>"
      ]
     },
     "metadata": {},
     "output_type": "display_data"
    }
   ],
   "source": [
    "df_1 = pd.concat(pred_df_list, ignore_index=True)\n",
    "\n",
    "# Assuming all_pred_df is defined elsewhere and contains the predicted values\n",
    "all_pred_df = df_1.copy()  # Placeholder, replace with actual predicted values DataFrame\n",
    "\n",
    "for app in appliance:\n",
    "    # Extract real and predicted fridge power\n",
    "    real_app_power = result_df[app].values\n",
    "    predicted_app_power = all_pred_df[app].values\n",
    "\n",
    "    print(len(real_app_power))\n",
    "    print('PREDICTED',len(predicted_app_power))\n",
    "    # Plot results and calculate MSE\n",
    "    plot_results(real_app_power, predicted_app_power)\n"
   ]
  },
  {
   "cell_type": "code",
   "execution_count": null,
   "metadata": {},
   "outputs": [],
   "source": []
  }
 ],
 "metadata": {
  "kernelspec": {
   "display_name": "nilmtk-env",
   "language": "python",
   "name": "python3"
  },
  "language_info": {
   "codemirror_mode": {
    "name": "ipython",
    "version": 3
   },
   "file_extension": ".py",
   "mimetype": "text/x-python",
   "name": "python",
   "nbconvert_exporter": "python",
   "pygments_lexer": "ipython3",
   "version": "3.10.14"
  }
 },
 "nbformat": 4,
 "nbformat_minor": 2
}
